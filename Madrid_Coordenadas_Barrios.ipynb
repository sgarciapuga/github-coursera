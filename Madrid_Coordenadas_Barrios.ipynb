{
 "cells": [
  {
   "cell_type": "markdown",
   "metadata": {},
   "source": [
    "### Coordenadas Barrios\n",
    "\n",
    "En este libro, consigo crear un fichero con los barrios y distritos de Madrid usando los ficheros del [ayuntamiento de madrid con todos los Distritos de Madrid](https://datos.madrid.es/portal/site/egob/menuitem.c05c1f754a33a9fbe4b2e4b284f1a5a0/?vgnextoid=46b55cde99be2410VgnVCM1000000b205a0aRCRD&).\n",
    "\n",
    "Para ello, uso Geopandas y la API Geocoding de Google."
   ]
  },
  {
   "cell_type": "code",
   "execution_count": 66,
   "metadata": {},
   "outputs": [],
   "source": [
    "#importo geopandas para poder leer el fichero .shp\n",
    "import geopandas as gpd\n",
    "\n",
    "#con pandas manipulamos el dataframe\n",
    "import pandas as pd\n",
    "\n",
    "#para hacer solicitudes a la API\n",
    "import requests"
   ]
  },
  {
   "cell_type": "code",
   "execution_count": 67,
   "metadata": {},
   "outputs": [
    {
     "data": {
      "text/html": [
       "<div>\n",
       "<style scoped>\n",
       "    .dataframe tbody tr th:only-of-type {\n",
       "        vertical-align: middle;\n",
       "    }\n",
       "\n",
       "    .dataframe tbody tr th {\n",
       "        vertical-align: top;\n",
       "    }\n",
       "\n",
       "    .dataframe thead th {\n",
       "        text-align: right;\n",
       "    }\n",
       "</style>\n",
       "<table border=\"1\" class=\"dataframe\">\n",
       "  <thead>\n",
       "    <tr style=\"text-align: right;\">\n",
       "      <th></th>\n",
       "      <th>OBJECTID</th>\n",
       "      <th>geodb_oid</th>\n",
       "      <th>CODDIS</th>\n",
       "      <th>NOMDIS</th>\n",
       "      <th>CODBAR</th>\n",
       "      <th>CODDISTRIT</th>\n",
       "      <th>CODBARRIO</th>\n",
       "      <th>NOMBRE</th>\n",
       "      <th>ORIG_FID</th>\n",
       "      <th>geometry</th>\n",
       "    </tr>\n",
       "  </thead>\n",
       "  <tbody>\n",
       "    <tr>\n",
       "      <th>0</th>\n",
       "      <td>108</td>\n",
       "      <td>108</td>\n",
       "      <td>17</td>\n",
       "      <td>Villaverde</td>\n",
       "      <td>172</td>\n",
       "      <td>17</td>\n",
       "      <td>17-2</td>\n",
       "      <td>San Cristobal</td>\n",
       "      <td>107</td>\n",
       "      <td>POLYGON ((441930.8668000005 4466853.1887, 4419...</td>\n",
       "    </tr>\n",
       "    <tr>\n",
       "      <th>1</th>\n",
       "      <td>109</td>\n",
       "      <td>109</td>\n",
       "      <td>17</td>\n",
       "      <td>Villaverde</td>\n",
       "      <td>173</td>\n",
       "      <td>17</td>\n",
       "      <td>17-3</td>\n",
       "      <td>Butarque</td>\n",
       "      <td>108</td>\n",
       "      <td>POLYGON ((444144.8566044134 4464473.210504748,...</td>\n",
       "    </tr>\n",
       "    <tr>\n",
       "      <th>2</th>\n",
       "      <td>111</td>\n",
       "      <td>111</td>\n",
       "      <td>17</td>\n",
       "      <td>Villaverde</td>\n",
       "      <td>175</td>\n",
       "      <td>17</td>\n",
       "      <td>17-5</td>\n",
       "      <td>Los Angeles</td>\n",
       "      <td>110</td>\n",
       "      <td>POLYGON ((441147.7280000008 4466374.483400001,...</td>\n",
       "    </tr>\n",
       "    <tr>\n",
       "      <th>3</th>\n",
       "      <td>110</td>\n",
       "      <td>110</td>\n",
       "      <td>17</td>\n",
       "      <td>Villaverde</td>\n",
       "      <td>174</td>\n",
       "      <td>17</td>\n",
       "      <td>17-4</td>\n",
       "      <td>Los Rosales</td>\n",
       "      <td>109</td>\n",
       "      <td>POLYGON ((442098.8264462068 4468081.978228984,...</td>\n",
       "    </tr>\n",
       "    <tr>\n",
       "      <th>4</th>\n",
       "      <td>107</td>\n",
       "      <td>107</td>\n",
       "      <td>17</td>\n",
       "      <td>Villaverde</td>\n",
       "      <td>171</td>\n",
       "      <td>17</td>\n",
       "      <td>17-1</td>\n",
       "      <td>Villaverde Alto, Casco Histórico de Villaverde</td>\n",
       "      <td>106</td>\n",
       "      <td>POLYGON ((440129.2758234279 4468362.077814397,...</td>\n",
       "    </tr>\n",
       "  </tbody>\n",
       "</table>\n",
       "</div>"
      ],
      "text/plain": [
       "   OBJECTID  geodb_oid CODDIS      NOMDIS CODBAR CODDISTRIT CODBARRIO  \\\n",
       "0       108        108     17  Villaverde    172         17      17-2   \n",
       "1       109        109     17  Villaverde    173         17      17-3   \n",
       "2       111        111     17  Villaverde    175         17      17-5   \n",
       "3       110        110     17  Villaverde    174         17      17-4   \n",
       "4       107        107     17  Villaverde    171         17      17-1   \n",
       "\n",
       "                                           NOMBRE  ORIG_FID  \\\n",
       "0                                   San Cristobal       107   \n",
       "1                                        Butarque       108   \n",
       "2                                     Los Angeles       110   \n",
       "3                                     Los Rosales       109   \n",
       "4  Villaverde Alto, Casco Histórico de Villaverde       106   \n",
       "\n",
       "                                            geometry  \n",
       "0  POLYGON ((441930.8668000005 4466853.1887, 4419...  \n",
       "1  POLYGON ((444144.8566044134 4464473.210504748,...  \n",
       "2  POLYGON ((441147.7280000008 4466374.483400001,...  \n",
       "3  POLYGON ((442098.8264462068 4468081.978228984,...  \n",
       "4  POLYGON ((440129.2758234279 4468362.077814397,...  "
      ]
     },
     "execution_count": 67,
     "metadata": {},
     "output_type": "execute_result"
    }
   ],
   "source": [
    "#con geopandas convierto el fichero shp en un dataframe\n",
    "path_barrios = \"C:/Users/Sergio/Python_projects/Madrid/Barrios/BARRIOS.shp\"\n",
    "barrios = gpd.read_file(path_barrios)\n",
    "barrios.head()"
   ]
  },
  {
   "cell_type": "code",
   "execution_count": 68,
   "metadata": {},
   "outputs": [],
   "source": [
    "#necesito el barrio y los distritos\n",
    "madrid_data = barrios[['NOMDIS', 'NOMBRE']]\n",
    "madrid_data = madrid_data.rename(columns={'NOMDIS':'borough',\n",
    "                                          'NOMBRE':'neighborhood'})"
   ]
  },
  {
   "cell_type": "code",
   "execution_count": 69,
   "metadata": {},
   "outputs": [
    {
     "data": {
      "text/html": [
       "<div>\n",
       "<style scoped>\n",
       "    .dataframe tbody tr th:only-of-type {\n",
       "        vertical-align: middle;\n",
       "    }\n",
       "\n",
       "    .dataframe tbody tr th {\n",
       "        vertical-align: top;\n",
       "    }\n",
       "\n",
       "    .dataframe thead th {\n",
       "        text-align: right;\n",
       "    }\n",
       "</style>\n",
       "<table border=\"1\" class=\"dataframe\">\n",
       "  <thead>\n",
       "    <tr style=\"text-align: right;\">\n",
       "      <th></th>\n",
       "      <th>borough</th>\n",
       "      <th>neighborhood</th>\n",
       "    </tr>\n",
       "  </thead>\n",
       "  <tbody>\n",
       "    <tr>\n",
       "      <th>0</th>\n",
       "      <td>Villaverde</td>\n",
       "      <td>San Cristobal</td>\n",
       "    </tr>\n",
       "    <tr>\n",
       "      <th>1</th>\n",
       "      <td>Villaverde</td>\n",
       "      <td>Butarque</td>\n",
       "    </tr>\n",
       "    <tr>\n",
       "      <th>2</th>\n",
       "      <td>Villaverde</td>\n",
       "      <td>Los Angeles</td>\n",
       "    </tr>\n",
       "    <tr>\n",
       "      <th>3</th>\n",
       "      <td>Villaverde</td>\n",
       "      <td>Los Rosales</td>\n",
       "    </tr>\n",
       "    <tr>\n",
       "      <th>4</th>\n",
       "      <td>Villaverde</td>\n",
       "      <td>Villaverde Alto, Casco Histórico de Villaverde</td>\n",
       "    </tr>\n",
       "  </tbody>\n",
       "</table>\n",
       "</div>"
      ],
      "text/plain": [
       "      borough                                    neighborhood\n",
       "0  Villaverde                                   San Cristobal\n",
       "1  Villaverde                                        Butarque\n",
       "2  Villaverde                                     Los Angeles\n",
       "3  Villaverde                                     Los Rosales\n",
       "4  Villaverde  Villaverde Alto, Casco Histórico de Villaverde"
      ]
     },
     "execution_count": 69,
     "metadata": {},
     "output_type": "execute_result"
    }
   ],
   "source": [
    "#asi es como queda por ahora\n",
    "madrid_data.head()"
   ]
  },
  {
   "cell_type": "code",
   "execution_count": 70,
   "metadata": {},
   "outputs": [],
   "source": [
    "#creo una nueva columna que me va a facilitar la busqueda de las coordenadas\n",
    "address = []\n",
    "for bor, neigh in zip(madrid_data.borough, madrid_data.neighborhood):\n",
    "    add = ('{}, {}, Madrid, Spain').format(neigh, bor)\n",
    "    address.append(add)"
   ]
  },
  {
   "cell_type": "code",
   "execution_count": 71,
   "metadata": {},
   "outputs": [
    {
     "data": {
      "text/html": [
       "<div>\n",
       "<style scoped>\n",
       "    .dataframe tbody tr th:only-of-type {\n",
       "        vertical-align: middle;\n",
       "    }\n",
       "\n",
       "    .dataframe tbody tr th {\n",
       "        vertical-align: top;\n",
       "    }\n",
       "\n",
       "    .dataframe thead th {\n",
       "        text-align: right;\n",
       "    }\n",
       "</style>\n",
       "<table border=\"1\" class=\"dataframe\">\n",
       "  <thead>\n",
       "    <tr style=\"text-align: right;\">\n",
       "      <th></th>\n",
       "      <th>address</th>\n",
       "    </tr>\n",
       "  </thead>\n",
       "  <tbody>\n",
       "    <tr>\n",
       "      <th>0</th>\n",
       "      <td>San Cristobal, Villaverde, Madrid, Spain</td>\n",
       "    </tr>\n",
       "    <tr>\n",
       "      <th>1</th>\n",
       "      <td>Butarque, Villaverde, Madrid, Spain</td>\n",
       "    </tr>\n",
       "    <tr>\n",
       "      <th>2</th>\n",
       "      <td>Los Angeles, Villaverde, Madrid, Spain</td>\n",
       "    </tr>\n",
       "    <tr>\n",
       "      <th>3</th>\n",
       "      <td>Los Rosales, Villaverde, Madrid, Spain</td>\n",
       "    </tr>\n",
       "    <tr>\n",
       "      <th>4</th>\n",
       "      <td>Villaverde Alto, Casco Histórico de Villaverde...</td>\n",
       "    </tr>\n",
       "  </tbody>\n",
       "</table>\n",
       "</div>"
      ],
      "text/plain": [
       "                                             address\n",
       "0           San Cristobal, Villaverde, Madrid, Spain\n",
       "1                Butarque, Villaverde, Madrid, Spain\n",
       "2             Los Angeles, Villaverde, Madrid, Spain\n",
       "3             Los Rosales, Villaverde, Madrid, Spain\n",
       "4  Villaverde Alto, Casco Histórico de Villaverde..."
      ]
     },
     "execution_count": 71,
     "metadata": {},
     "output_type": "execute_result"
    }
   ],
   "source": [
    "#asi es como queda la direccion a usar en la API\n",
    "dataset = pd.DataFrame({'address':address})\n",
    "dataset.head()"
   ]
  },
  {
   "cell_type": "code",
   "execution_count": 1,
   "metadata": {},
   "outputs": [],
   "source": [
    "#for security purposes credentials are not visualized here\n",
    "import config\n",
    "google_api_key = config.google_api_key # google API key"
   ]
  },
  {
   "cell_type": "code",
   "execution_count": 72,
   "metadata": {},
   "outputs": [],
   "source": [
    "#ahora vamos a usar la API de google para encontar las coordenadas\n",
    "lat = []\n",
    "lon = []\n",
    "for address in address:\n",
    "    api_key = google_api_key\n",
    "    api_response = requests.get('https://maps.googleapis.com/maps/api/geocode/json?address={0}&key={1}'.format(address, api_key))\n",
    "    api_response_dict = api_response.json()\n",
    "    if api_response_dict['status'] == 'OK':\n",
    "        latitude = api_response_dict['results'][0]['geometry']['location']['lat']\n",
    "        longitude = api_response_dict['results'][0]['geometry']['location']['lng']\n",
    "        lat.append(latitude)\n",
    "        lon.append(longitude)"
   ]
  },
  {
   "cell_type": "code",
   "execution_count": 73,
   "metadata": {},
   "outputs": [],
   "source": [
    "#convierto las listas en dataframes\n",
    "latitude = pd.DataFrame({'latitude':lat})\n",
    "longitude = pd.DataFrame({'longitude':lon})"
   ]
  },
  {
   "cell_type": "code",
   "execution_count": 74,
   "metadata": {
    "scrolled": true
   },
   "outputs": [
    {
     "data": {
      "text/html": [
       "<div>\n",
       "<style scoped>\n",
       "    .dataframe tbody tr th:only-of-type {\n",
       "        vertical-align: middle;\n",
       "    }\n",
       "\n",
       "    .dataframe tbody tr th {\n",
       "        vertical-align: top;\n",
       "    }\n",
       "\n",
       "    .dataframe thead th {\n",
       "        text-align: right;\n",
       "    }\n",
       "</style>\n",
       "<table border=\"1\" class=\"dataframe\">\n",
       "  <thead>\n",
       "    <tr style=\"text-align: right;\">\n",
       "      <th></th>\n",
       "      <th>latitude</th>\n",
       "    </tr>\n",
       "  </thead>\n",
       "  <tbody>\n",
       "    <tr>\n",
       "      <th>0</th>\n",
       "      <td>40.340765</td>\n",
       "    </tr>\n",
       "    <tr>\n",
       "      <th>1</th>\n",
       "      <td>40.340605</td>\n",
       "    </tr>\n",
       "    <tr>\n",
       "      <th>2</th>\n",
       "      <td>40.354412</td>\n",
       "    </tr>\n",
       "    <tr>\n",
       "      <th>3</th>\n",
       "      <td>40.355939</td>\n",
       "    </tr>\n",
       "    <tr>\n",
       "      <th>4</th>\n",
       "      <td>40.351025</td>\n",
       "    </tr>\n",
       "  </tbody>\n",
       "</table>\n",
       "</div>"
      ],
      "text/plain": [
       "    latitude\n",
       "0  40.340765\n",
       "1  40.340605\n",
       "2  40.354412\n",
       "3  40.355939\n",
       "4  40.351025"
      ]
     },
     "execution_count": 74,
     "metadata": {},
     "output_type": "execute_result"
    }
   ],
   "source": [
    "#examino la latitud\n",
    "latitude.head()"
   ]
  },
  {
   "cell_type": "code",
   "execution_count": 75,
   "metadata": {},
   "outputs": [
    {
     "data": {
      "text/html": [
       "<div>\n",
       "<style scoped>\n",
       "    .dataframe tbody tr th:only-of-type {\n",
       "        vertical-align: middle;\n",
       "    }\n",
       "\n",
       "    .dataframe tbody tr th {\n",
       "        vertical-align: top;\n",
       "    }\n",
       "\n",
       "    .dataframe thead th {\n",
       "        text-align: right;\n",
       "    }\n",
       "</style>\n",
       "<table border=\"1\" class=\"dataframe\">\n",
       "  <thead>\n",
       "    <tr style=\"text-align: right;\">\n",
       "      <th></th>\n",
       "      <th>borough</th>\n",
       "      <th>neighborhood</th>\n",
       "      <th>latitude</th>\n",
       "      <th>longitude</th>\n",
       "    </tr>\n",
       "  </thead>\n",
       "  <tbody>\n",
       "    <tr>\n",
       "      <th>0</th>\n",
       "      <td>Villaverde</td>\n",
       "      <td>San Cristobal</td>\n",
       "      <td>40.340765</td>\n",
       "      <td>-3.688948</td>\n",
       "    </tr>\n",
       "    <tr>\n",
       "      <th>1</th>\n",
       "      <td>Villaverde</td>\n",
       "      <td>Butarque</td>\n",
       "      <td>40.340605</td>\n",
       "      <td>-3.674808</td>\n",
       "    </tr>\n",
       "    <tr>\n",
       "      <th>2</th>\n",
       "      <td>Villaverde</td>\n",
       "      <td>Los Angeles</td>\n",
       "      <td>40.354412</td>\n",
       "      <td>-3.700363</td>\n",
       "    </tr>\n",
       "    <tr>\n",
       "      <th>3</th>\n",
       "      <td>Villaverde</td>\n",
       "      <td>Los Rosales</td>\n",
       "      <td>40.355939</td>\n",
       "      <td>-3.691342</td>\n",
       "    </tr>\n",
       "    <tr>\n",
       "      <th>4</th>\n",
       "      <td>Villaverde</td>\n",
       "      <td>Villaverde Alto, Casco Histórico de Villaverde</td>\n",
       "      <td>40.351025</td>\n",
       "      <td>-3.692555</td>\n",
       "    </tr>\n",
       "  </tbody>\n",
       "</table>\n",
       "</div>"
      ],
      "text/plain": [
       "      borough                                    neighborhood   latitude  \\\n",
       "0  Villaverde                                   San Cristobal  40.340765   \n",
       "1  Villaverde                                        Butarque  40.340605   \n",
       "2  Villaverde                                     Los Angeles  40.354412   \n",
       "3  Villaverde                                     Los Rosales  40.355939   \n",
       "4  Villaverde  Villaverde Alto, Casco Histórico de Villaverde  40.351025   \n",
       "\n",
       "   longitude  \n",
       "0  -3.688948  \n",
       "1  -3.674808  \n",
       "2  -3.700363  \n",
       "3  -3.691342  \n",
       "4  -3.692555  "
      ]
     },
     "execution_count": 75,
     "metadata": {},
     "output_type": "execute_result"
    }
   ],
   "source": [
    "#añado las coordenadas al dataframe original\n",
    "madrid_data = madrid_data.join(latitude)\n",
    "madrid_data = madrid_data.join(longitude)\n",
    "madrid_data.head()"
   ]
  },
  {
   "cell_type": "code",
   "execution_count": 77,
   "metadata": {},
   "outputs": [
    {
     "data": {
      "text/html": [
       "<div>\n",
       "<style scoped>\n",
       "    .dataframe tbody tr th:only-of-type {\n",
       "        vertical-align: middle;\n",
       "    }\n",
       "\n",
       "    .dataframe tbody tr th {\n",
       "        vertical-align: top;\n",
       "    }\n",
       "\n",
       "    .dataframe thead th {\n",
       "        text-align: right;\n",
       "    }\n",
       "</style>\n",
       "<table border=\"1\" class=\"dataframe\">\n",
       "  <thead>\n",
       "    <tr style=\"text-align: right;\">\n",
       "      <th></th>\n",
       "      <th>borough</th>\n",
       "      <th>neighborhood</th>\n",
       "      <th>latitude</th>\n",
       "      <th>longitude</th>\n",
       "    </tr>\n",
       "  </thead>\n",
       "  <tbody>\n",
       "    <tr>\n",
       "      <th>126</th>\n",
       "      <td>Fuencarral - El Pardo</td>\n",
       "      <td>Valverde</td>\n",
       "      <td>40.496110</td>\n",
       "      <td>-3.695941</td>\n",
       "    </tr>\n",
       "    <tr>\n",
       "      <th>127</th>\n",
       "      <td>Fuencarral - El Pardo</td>\n",
       "      <td>El Goloso</td>\n",
       "      <td>40.553385</td>\n",
       "      <td>-3.709355</td>\n",
       "    </tr>\n",
       "    <tr>\n",
       "      <th>128</th>\n",
       "      <td>Fuencarral - El Pardo</td>\n",
       "      <td>El Pardo</td>\n",
       "      <td>40.519069</td>\n",
       "      <td>-3.775877</td>\n",
       "    </tr>\n",
       "    <tr>\n",
       "      <th>129</th>\n",
       "      <td>Vicálvaro</td>\n",
       "      <td>Casco histórico de Vicálvaro</td>\n",
       "      <td>40.402694</td>\n",
       "      <td>-3.615925</td>\n",
       "    </tr>\n",
       "    <tr>\n",
       "      <th>130</th>\n",
       "      <td>Vicálvaro</td>\n",
       "      <td>El Cañaveral</td>\n",
       "      <td>40.401282</td>\n",
       "      <td>-3.552646</td>\n",
       "    </tr>\n",
       "  </tbody>\n",
       "</table>\n",
       "</div>"
      ],
      "text/plain": [
       "                   borough                  neighborhood   latitude  longitude\n",
       "126  Fuencarral - El Pardo                      Valverde  40.496110  -3.695941\n",
       "127  Fuencarral - El Pardo                     El Goloso  40.553385  -3.709355\n",
       "128  Fuencarral - El Pardo                      El Pardo  40.519069  -3.775877\n",
       "129              Vicálvaro  Casco histórico de Vicálvaro  40.402694  -3.615925\n",
       "130              Vicálvaro                  El Cañaveral  40.401282  -3.552646"
      ]
     },
     "execution_count": 77,
     "metadata": {},
     "output_type": "execute_result"
    }
   ],
   "source": [
    "madrid_data.tail()"
   ]
  },
  {
   "cell_type": "code",
   "execution_count": 78,
   "metadata": {},
   "outputs": [
    {
     "data": {
      "text/plain": [
       "<bound method NDFrame.head of    borough neighborhood   latitude  longitude\n",
       "49  Centro  Embajadores  40.408129  -3.707739\n",
       "54  Centro       Cortes  40.414221  -3.699941\n",
       "55  Centro          Sol  40.416663  -3.704169\n",
       "59  Centro      Palacio  40.417955  -3.714312\n",
       "63  Centro     Justicia  40.424531  -3.699293\n",
       "65  Centro  Universidad  40.423372  -3.707792>"
      ]
     },
     "execution_count": 78,
     "metadata": {},
     "output_type": "execute_result"
    }
   ],
   "source": [
    "centro_data = madrid_data[madrid_data['borough'] == 'Centro']\n",
    "centro_data.head"
   ]
  },
  {
   "cell_type": "code",
   "execution_count": 79,
   "metadata": {},
   "outputs": [],
   "source": [
    "#guardamos el fichero\n",
    "madrid_data.to_csv('coordenadas.csv')"
   ]
  }
 ],
 "metadata": {
  "kernelspec": {
   "display_name": "Python 3",
   "language": "python",
   "name": "python3"
  },
  "language_info": {
   "codemirror_mode": {
    "name": "ipython",
    "version": 3
   },
   "file_extension": ".py",
   "mimetype": "text/x-python",
   "name": "python",
   "nbconvert_exporter": "python",
   "pygments_lexer": "ipython3",
   "version": "3.7.0"
  }
 },
 "nbformat": 4,
 "nbformat_minor": 2
}
