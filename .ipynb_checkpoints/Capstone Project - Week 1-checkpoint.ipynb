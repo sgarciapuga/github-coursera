{
 "cells": [
  {
   "cell_type": "markdown",
   "metadata": {},
   "source": [
    "# The Battle Of Neighborhoods - Madrid"
   ]
  },
  {
   "cell_type": "markdown",
   "metadata": {},
   "source": [
    "## Introduction\n",
    "\n",
    "Madrid is the capital of Spain and the largest city of Spain. The city has a population of almost 3.3m but the metropolitan  area has approximately 6.5 million inhabitants. The municipality covers 604.3 km2 (233.3 sq mi) and its metropolitan area is the third largest in the EU, after London and Paris.\n",
    "\n",
    "The city has 21 boroughs and 131 neighborhoods but in this project we are going to focus on the area known as \"Madrid Central\" and its extension to the ring inside the M-30 motorway. The meaning of \"Madrid Central\" is that there are traffic restrictions to this area so it is very important a good location near public transport.\n",
    "\n",
    "## Business Problem\n",
    "\n",
    "A foreign investor is looking to open a new restaurant in Madrid, so he has contacted me in order to help him in finding the best location for the business. On the first conversation, he asked me some questions of my knowledge of the city and I have explained that from my own experience, the offer in Madrid is huge and you can find restaurants of all types, but mainly Spanish cuisine.\n",
    "\n",
    "After this first approach, he let me know his intentions of opening a fusion of Spanish with Mediterranean and Asian cuisine. He is looking to compete with tapas style bars but from a restaurant approach.\n",
    "\n",
    "In order for me to complete this task, he has provided me with some guidelines of what he is looking for:\n",
    "- An area where potential clients are tourists but also locals.\n",
    "- The area has good transport connection: underground stations, parking.\n",
    "- Busy area where the value added of his restaurant  could make an impact \"borrowing\" customers from restaurants around.\n",
    "\n",
    "## Data description\n",
    "\n",
    "The data used to approach this problem is explained as per below:\n",
    "- In order to get the coordinates of Madrid, I used the data from the City Council of Madrid at their website [datos.madrid.es](https://datos.madrid.es/portal/site/egob/menuitem.c05c1f754a33a9fbe4b2e4b284f1a5a0/?vgnextoid=46b55cde99be2410VgnVCM1000000b205a0aRCRD&) and with the help of Geopandas and Geocoding API from Google, I have created \"coordenadas.csv\" file in a different project. I also used the Geojson file for area delimitation on the map.\n",
    "- I used Foursquare API to get the most common venues of Madrid Central."
   ]
  }
 ],
 "metadata": {
  "kernelspec": {
   "display_name": "Python 3",
   "language": "python",
   "name": "python3"
  },
  "language_info": {
   "codemirror_mode": {
    "name": "ipython",
    "version": 3
   },
   "file_extension": ".py",
   "mimetype": "text/x-python",
   "name": "python",
   "nbconvert_exporter": "python",
   "pygments_lexer": "ipython3",
   "version": "3.7.0"
  }
 },
 "nbformat": 4,
 "nbformat_minor": 2
}
