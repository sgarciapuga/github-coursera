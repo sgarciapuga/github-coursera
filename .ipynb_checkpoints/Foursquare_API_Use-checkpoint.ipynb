{
 "cells": [
  {
   "cell_type": "markdown",
   "metadata": {},
   "source": [
    "### Import necessary Libraries"
   ]
  },
  {
   "cell_type": "code",
   "execution_count": 72,
   "metadata": {},
   "outputs": [
    {
     "name": "stdout",
     "output_type": "stream",
     "text": [
      "Folium installed\n",
      "Libraries imported.\n"
     ]
    }
   ],
   "source": [
    "import requests # library to handle requests\n",
    "import pandas as pd # library for data analsysis\n",
    "import numpy as np # library to handle data in a vectorized manner\n",
    "import random # library for random number generation\n",
    "\n",
    "from geopy.geocoders import Nominatim # module to convert an address into latitude and longitude values\n",
    "\n",
    "# libraries for displaying images\n",
    "from IPython.display import Image \n",
    "from IPython.core.display import HTML \n",
    "    \n",
    "# tranforming json file into a pandas dataframe library\n",
    "from pandas.io.json import json_normalize\n",
    "\n",
    "import folium # plotting library\n",
    "\n",
    "print('Folium installed')\n",
    "print('Libraries imported.')"
   ]
  },
  {
   "cell_type": "code",
   "execution_count": 73,
   "metadata": {},
   "outputs": [
    {
     "name": "stdout",
     "output_type": "stream",
     "text": [
      "Your credentails:\n",
      "CLIENT_ID: DHVNUJV5I1ISC4NZWFCINPJNV2VVKHRO3N4K2IKAIPPWP0NC\n",
      "CLIENT_SECRET:2Q3TY50TJLOZK4FJHDEGIHG0MHVDQTNVK2ZPKOXJGNRVX2B1\n"
     ]
    }
   ],
   "source": [
    "{\n",
    "    \"tags\": [\n",
    "        \"hidecode\",\n",
    "    ]\n",
    "}\n",
    "CLIENT_ID = 'DHVNUJV5I1ISC4NZWFCINPJNV2VVKHRO3N4K2IKAIPPWP0NC' # your Foursquare ID\n",
    "CLIENT_SECRET = '2Q3TY50TJLOZK4FJHDEGIHG0MHVDQTNVK2ZPKOXJGNRVX2B1' # your Foursquare Secret\n",
    "VERSION = '20190414'\n",
    "LIMIT = 30\n",
    "print('Your credentails:')\n",
    "print('CLIENT_ID: ' + CLIENT_ID)\n",
    "print('CLIENT_SECRET:' + CLIENT_SECRET)"
   ]
  },
  {
   "cell_type": "markdown",
   "metadata": {},
   "source": [
    "#### Let's again assume that you are staying at the Kilometro Cero (Madrid). So let's start by converting the Kilometro Cero's address to its latitude and longitude coordinates."
   ]
  },
  {
   "cell_type": "code",
   "execution_count": 74,
   "metadata": {},
   "outputs": [
    {
     "name": "stdout",
     "output_type": "stream",
     "text": [
      "40.4163403 -3.70343861982586\n"
     ]
    }
   ],
   "source": [
    "address = 'Puerta del Sol, 7, 28013 Madrid, España'\n",
    "\n",
    "geolocator = Nominatim(user_agent=\"foursquare_agent\")\n",
    "location = geolocator.geocode(address)\n",
    "latitude = location.latitude\n",
    "longitude = location.longitude\n",
    "print(latitude, longitude)"
   ]
  },
  {
   "cell_type": "markdown",
   "metadata": {},
   "source": [
    "## 1. Search for a specific venue category\n",
    "> `https://api.foursquare.com/v2/venues/`**search**`?client_id=`**CLIENT_ID**`&client_secret=`**CLIENT_SECRET**`&ll=`**LATITUDE**`,`**LONGITUDE**`&v=`**VERSION**`&query=`**QUERY**`&radius=`**RADIUS**`&limit=`**LIMIT**"
   ]
  },
  {
   "cell_type": "markdown",
   "metadata": {},
   "source": [
    "### Now, let's assume that it is lunch time, and you are craving Italian food. So, let's define a query to search for Italian food that is within 500 metres from the Kilçometro Cero."
   ]
  },
  {
   "cell_type": "code",
   "execution_count": 75,
   "metadata": {},
   "outputs": [
    {
     "name": "stdout",
     "output_type": "stream",
     "text": [
      "Italian .... OK!\n"
     ]
    }
   ],
   "source": [
    "search_query = 'Italian'\n",
    "radius = 500\n",
    "print(search_query + ' .... OK!')"
   ]
  },
  {
   "cell_type": "markdown",
   "metadata": {},
   "source": [
    "### Define the corresponding URL"
   ]
  },
  {
   "cell_type": "code",
   "execution_count": 76,
   "metadata": {},
   "outputs": [
    {
     "data": {
      "text/plain": [
       "'https://api.foursquare.com/v2/venues/search?client_id=DHVNUJV5I1ISC4NZWFCINPJNV2VVKHRO3N4K2IKAIPPWP0NC&client_secret=2Q3TY50TJLOZK4FJHDEGIHG0MHVDQTNVK2ZPKOXJGNRVX2B1&ll=40.4163403,-3.70343861982586&v=20190414&query=Italian&radius=500&limit=30'"
      ]
     },
     "execution_count": 76,
     "metadata": {},
     "output_type": "execute_result"
    }
   ],
   "source": [
    "url = 'https://api.foursquare.com/v2/venues/search?client_id={}&client_secret={}&ll={},{}&v={}&query={}&radius={}&limit={}'.format(CLIENT_ID, CLIENT_SECRET, latitude, longitude, VERSION, search_query, radius, LIMIT)\n",
    "url"
   ]
  },
  {
   "cell_type": "markdown",
   "metadata": {},
   "source": [
    "### Send the GET Request and examine the results"
   ]
  },
  {
   "cell_type": "code",
   "execution_count": 77,
   "metadata": {},
   "outputs": [
    {
     "data": {
      "text/plain": [
       "{'meta': {'code': 200, 'requestId': '5cb3554f4c1f67268604af6f'},\n",
       " 'response': {'venues': [{'id': '4c080ac3a1b32d7f3c6595f0',\n",
       "    'name': '4D Caffetteria Italiana',\n",
       "    'location': {'address': 'C/ de Cuchilleros, 17',\n",
       "     'lat': 40.41397173630024,\n",
       "     'lng': -3.7080895998456374,\n",
       "     'labeledLatLngs': [{'label': 'display',\n",
       "       'lat': 40.41397173630024,\n",
       "       'lng': -3.7080895998456374}],\n",
       "     'distance': 474,\n",
       "     'postalCode': '28005',\n",
       "     'cc': 'ES',\n",
       "     'city': 'Madrid',\n",
       "     'state': 'Madrid',\n",
       "     'country': 'España',\n",
       "     'formattedAddress': ['C/ de Cuchilleros, 17',\n",
       "      '28005 Madrid Madrid',\n",
       "      'España']},\n",
       "    'categories': [{'id': '4bf58dd8d48988d16d941735',\n",
       "      'name': 'Café',\n",
       "      'pluralName': 'Cafés',\n",
       "      'shortName': 'Café',\n",
       "      'icon': {'prefix': 'https://ss3.4sqi.net/img/categories_v2/food/cafe_',\n",
       "       'suffix': '.png'},\n",
       "      'primary': True}],\n",
       "    'referralId': 'v-1555256655',\n",
       "    'hasPerk': False},\n",
       "   {'id': '4e5e767c14954da39ff06d12',\n",
       "    'name': 'Molto Italiano',\n",
       "    'location': {'lat': 40.415978,\n",
       "     'lng': -3.705748,\n",
       "     'labeledLatLngs': [{'label': 'display',\n",
       "       'lat': 40.415978,\n",
       "       'lng': -3.705748}],\n",
       "     'distance': 199,\n",
       "     'cc': 'ES',\n",
       "     'country': 'España',\n",
       "     'formattedAddress': ['España']},\n",
       "    'categories': [{'id': '4bf58dd8d48988d1ca941735',\n",
       "      'name': 'Pizza Place',\n",
       "      'pluralName': 'Pizza Places',\n",
       "      'shortName': 'Pizza',\n",
       "      'icon': {'prefix': 'https://ss3.4sqi.net/img/categories_v2/food/pizza_',\n",
       "       'suffix': '.png'},\n",
       "      'primary': True}],\n",
       "    'referralId': 'v-1555256655',\n",
       "    'hasPerk': False},\n",
       "   {'id': '5390ee01498e87f1a952ff0e',\n",
       "    'name': 'Bellamia Gelateria Italiana',\n",
       "    'location': {'address': 'C. Pérez Galdós, 3',\n",
       "     'crossStreet': 'C. Fuencarral, 34',\n",
       "     'lat': 40.42244828094222,\n",
       "     'lng': -3.7004082726112983,\n",
       "     'labeledLatLngs': [{'label': 'display',\n",
       "       'lat': 40.42244828094222,\n",
       "       'lng': -3.7004082726112983}],\n",
       "     'distance': 726,\n",
       "     'postalCode': '28004',\n",
       "     'cc': 'ES',\n",
       "     'city': 'Madrid Centro, Madrid',\n",
       "     'state': 'Madrid',\n",
       "     'country': 'España',\n",
       "     'formattedAddress': ['C. Pérez Galdós, 3 (C. Fuencarral, 34)',\n",
       "      '28004 Madrid Centro Madrid',\n",
       "      'España']},\n",
       "    'categories': [{'id': '4bf58dd8d48988d1c9941735',\n",
       "      'name': 'Ice Cream Shop',\n",
       "      'pluralName': 'Ice Cream Shops',\n",
       "      'shortName': 'Ice Cream',\n",
       "      'icon': {'prefix': 'https://ss3.4sqi.net/img/categories_v2/food/icecream_',\n",
       "       'suffix': '.png'},\n",
       "      'primary': True}],\n",
       "    'referralId': 'v-1555256655',\n",
       "    'hasPerk': False},\n",
       "   {'id': '5b56485ba42362002c87a1f5',\n",
       "    'name': 'La Capricciosa Italiana Pizzeria',\n",
       "    'location': {'address': 'Calle de las Maldonadas',\n",
       "     'lat': 40.41092,\n",
       "     'lng': -3.7077413,\n",
       "     'labeledLatLngs': [{'label': 'display',\n",
       "       'lat': 40.41092,\n",
       "       'lng': -3.7077413}],\n",
       "     'distance': 705,\n",
       "     'postalCode': '28005',\n",
       "     'cc': 'ES',\n",
       "     'city': 'Madrid',\n",
       "     'state': 'Madrid',\n",
       "     'country': 'España',\n",
       "     'formattedAddress': ['Calle de las Maldonadas',\n",
       "      '28005 Madrid Madrid',\n",
       "      'España']},\n",
       "    'categories': [{'id': '4bf58dd8d48988d1ca941735',\n",
       "      'name': 'Pizza Place',\n",
       "      'pluralName': 'Pizza Places',\n",
       "      'shortName': 'Pizza',\n",
       "      'icon': {'prefix': 'https://ss3.4sqi.net/img/categories_v2/food/pizza_',\n",
       "       'suffix': '.png'},\n",
       "      'primary': True}],\n",
       "    'referralId': 'v-1555256655',\n",
       "    'hasPerk': False}]}}"
      ]
     },
     "execution_count": 77,
     "metadata": {},
     "output_type": "execute_result"
    }
   ],
   "source": [
    "results = requests.get(url).json()\n",
    "results"
   ]
  },
  {
   "cell_type": "markdown",
   "metadata": {},
   "source": [
    "### Get relevant part of JSON and transform it into a pandas dataframe"
   ]
  },
  {
   "cell_type": "code",
   "execution_count": 78,
   "metadata": {},
   "outputs": [
    {
     "data": {
      "text/html": [
       "<div>\n",
       "<style scoped>\n",
       "    .dataframe tbody tr th:only-of-type {\n",
       "        vertical-align: middle;\n",
       "    }\n",
       "\n",
       "    .dataframe tbody tr th {\n",
       "        vertical-align: top;\n",
       "    }\n",
       "\n",
       "    .dataframe thead th {\n",
       "        text-align: right;\n",
       "    }\n",
       "</style>\n",
       "<table border=\"1\" class=\"dataframe\">\n",
       "  <thead>\n",
       "    <tr style=\"text-align: right;\">\n",
       "      <th></th>\n",
       "      <th>categories</th>\n",
       "      <th>hasPerk</th>\n",
       "      <th>id</th>\n",
       "      <th>location.address</th>\n",
       "      <th>location.cc</th>\n",
       "      <th>location.city</th>\n",
       "      <th>location.country</th>\n",
       "      <th>location.crossStreet</th>\n",
       "      <th>location.distance</th>\n",
       "      <th>location.formattedAddress</th>\n",
       "      <th>location.labeledLatLngs</th>\n",
       "      <th>location.lat</th>\n",
       "      <th>location.lng</th>\n",
       "      <th>location.postalCode</th>\n",
       "      <th>location.state</th>\n",
       "      <th>name</th>\n",
       "      <th>referralId</th>\n",
       "    </tr>\n",
       "  </thead>\n",
       "  <tbody>\n",
       "    <tr>\n",
       "      <th>0</th>\n",
       "      <td>[{'id': '4bf58dd8d48988d16d941735', 'name': 'Café', 'pluralName': 'Cafés', 'shortName': 'Café', 'icon': {'prefix': 'https://ss3.4sqi.net/img/categories_v2/food/cafe_', 'suffix': '.png'}, 'primary': True}]</td>\n",
       "      <td>False</td>\n",
       "      <td>4c080ac3a1b32d7f3c6595f0</td>\n",
       "      <td>C/ de Cuchilleros, 17</td>\n",
       "      <td>ES</td>\n",
       "      <td>Madrid</td>\n",
       "      <td>España</td>\n",
       "      <td>NaN</td>\n",
       "      <td>474</td>\n",
       "      <td>[C/ de Cuchilleros, 17, 28005 Madrid Madrid, España]</td>\n",
       "      <td>[{'label': 'display', 'lat': 40.41397173630024, 'lng': -3.7080895998456374}]</td>\n",
       "      <td>40.413972</td>\n",
       "      <td>-3.708090</td>\n",
       "      <td>28005</td>\n",
       "      <td>Madrid</td>\n",
       "      <td>4D Caffetteria Italiana</td>\n",
       "      <td>v-1555256655</td>\n",
       "    </tr>\n",
       "    <tr>\n",
       "      <th>1</th>\n",
       "      <td>[{'id': '4bf58dd8d48988d1ca941735', 'name': 'Pizza Place', 'pluralName': 'Pizza Places', 'shortName': 'Pizza', 'icon': {'prefix': 'https://ss3.4sqi.net/img/categories_v2/food/pizza_', 'suffix': '.png'}, 'primary': True}]</td>\n",
       "      <td>False</td>\n",
       "      <td>4e5e767c14954da39ff06d12</td>\n",
       "      <td>NaN</td>\n",
       "      <td>ES</td>\n",
       "      <td>NaN</td>\n",
       "      <td>España</td>\n",
       "      <td>NaN</td>\n",
       "      <td>199</td>\n",
       "      <td>[España]</td>\n",
       "      <td>[{'label': 'display', 'lat': 40.415978, 'lng': -3.705748}]</td>\n",
       "      <td>40.415978</td>\n",
       "      <td>-3.705748</td>\n",
       "      <td>NaN</td>\n",
       "      <td>NaN</td>\n",
       "      <td>Molto Italiano</td>\n",
       "      <td>v-1555256655</td>\n",
       "    </tr>\n",
       "    <tr>\n",
       "      <th>2</th>\n",
       "      <td>[{'id': '4bf58dd8d48988d1c9941735', 'name': 'Ice Cream Shop', 'pluralName': 'Ice Cream Shops', 'shortName': 'Ice Cream', 'icon': {'prefix': 'https://ss3.4sqi.net/img/categories_v2/food/icecream_', 'suffix': '.png'}, 'primary': True}]</td>\n",
       "      <td>False</td>\n",
       "      <td>5390ee01498e87f1a952ff0e</td>\n",
       "      <td>C. Pérez Galdós, 3</td>\n",
       "      <td>ES</td>\n",
       "      <td>Madrid Centro, Madrid</td>\n",
       "      <td>España</td>\n",
       "      <td>C. Fuencarral, 34</td>\n",
       "      <td>726</td>\n",
       "      <td>[C. Pérez Galdós, 3 (C. Fuencarral, 34), 28004 Madrid Centro Madrid, España]</td>\n",
       "      <td>[{'label': 'display', 'lat': 40.42244828094222, 'lng': -3.7004082726112983}]</td>\n",
       "      <td>40.422448</td>\n",
       "      <td>-3.700408</td>\n",
       "      <td>28004</td>\n",
       "      <td>Madrid</td>\n",
       "      <td>Bellamia Gelateria Italiana</td>\n",
       "      <td>v-1555256655</td>\n",
       "    </tr>\n",
       "    <tr>\n",
       "      <th>3</th>\n",
       "      <td>[{'id': '4bf58dd8d48988d1ca941735', 'name': 'Pizza Place', 'pluralName': 'Pizza Places', 'shortName': 'Pizza', 'icon': {'prefix': 'https://ss3.4sqi.net/img/categories_v2/food/pizza_', 'suffix': '.png'}, 'primary': True}]</td>\n",
       "      <td>False</td>\n",
       "      <td>5b56485ba42362002c87a1f5</td>\n",
       "      <td>Calle de las Maldonadas</td>\n",
       "      <td>ES</td>\n",
       "      <td>Madrid</td>\n",
       "      <td>España</td>\n",
       "      <td>NaN</td>\n",
       "      <td>705</td>\n",
       "      <td>[Calle de las Maldonadas, 28005 Madrid Madrid, España]</td>\n",
       "      <td>[{'label': 'display', 'lat': 40.41092, 'lng': -3.7077413}]</td>\n",
       "      <td>40.410920</td>\n",
       "      <td>-3.707741</td>\n",
       "      <td>28005</td>\n",
       "      <td>Madrid</td>\n",
       "      <td>La Capricciosa Italiana Pizzeria</td>\n",
       "      <td>v-1555256655</td>\n",
       "    </tr>\n",
       "  </tbody>\n",
       "</table>\n",
       "</div>"
      ],
      "text/plain": [
       "                                                                                                                                                                                                                                  categories  \\\n",
       "0  [{'id': '4bf58dd8d48988d16d941735', 'name': 'Café', 'pluralName': 'Cafés', 'shortName': 'Café', 'icon': {'prefix': 'https://ss3.4sqi.net/img/categories_v2/food/cafe_', 'suffix': '.png'}, 'primary': True}]                                \n",
       "1  [{'id': '4bf58dd8d48988d1ca941735', 'name': 'Pizza Place', 'pluralName': 'Pizza Places', 'shortName': 'Pizza', 'icon': {'prefix': 'https://ss3.4sqi.net/img/categories_v2/food/pizza_', 'suffix': '.png'}, 'primary': True}]                \n",
       "2  [{'id': '4bf58dd8d48988d1c9941735', 'name': 'Ice Cream Shop', 'pluralName': 'Ice Cream Shops', 'shortName': 'Ice Cream', 'icon': {'prefix': 'https://ss3.4sqi.net/img/categories_v2/food/icecream_', 'suffix': '.png'}, 'primary': True}]   \n",
       "3  [{'id': '4bf58dd8d48988d1ca941735', 'name': 'Pizza Place', 'pluralName': 'Pizza Places', 'shortName': 'Pizza', 'icon': {'prefix': 'https://ss3.4sqi.net/img/categories_v2/food/pizza_', 'suffix': '.png'}, 'primary': True}]                \n",
       "\n",
       "   hasPerk                        id         location.address location.cc  \\\n",
       "0  False    4c080ac3a1b32d7f3c6595f0  C/ de Cuchilleros, 17    ES           \n",
       "1  False    4e5e767c14954da39ff06d12  NaN                      ES           \n",
       "2  False    5390ee01498e87f1a952ff0e  C. Pérez Galdós, 3       ES           \n",
       "3  False    5b56485ba42362002c87a1f5  Calle de las Maldonadas  ES           \n",
       "\n",
       "           location.city location.country location.crossStreet  \\\n",
       "0  Madrid                 España           NaN                   \n",
       "1  NaN                    España           NaN                   \n",
       "2  Madrid Centro, Madrid  España           C. Fuencarral, 34     \n",
       "3  Madrid                 España           NaN                   \n",
       "\n",
       "   location.distance  \\\n",
       "0  474                 \n",
       "1  199                 \n",
       "2  726                 \n",
       "3  705                 \n",
       "\n",
       "                                                      location.formattedAddress  \\\n",
       "0  [C/ de Cuchilleros, 17, 28005 Madrid Madrid, España]                           \n",
       "1  [España]                                                                       \n",
       "2  [C. Pérez Galdós, 3 (C. Fuencarral, 34), 28004 Madrid Centro Madrid, España]   \n",
       "3  [Calle de las Maldonadas, 28005 Madrid Madrid, España]                         \n",
       "\n",
       "                                                        location.labeledLatLngs  \\\n",
       "0  [{'label': 'display', 'lat': 40.41397173630024, 'lng': -3.7080895998456374}]   \n",
       "1  [{'label': 'display', 'lat': 40.415978, 'lng': -3.705748}]                     \n",
       "2  [{'label': 'display', 'lat': 40.42244828094222, 'lng': -3.7004082726112983}]   \n",
       "3  [{'label': 'display', 'lat': 40.41092, 'lng': -3.7077413}]                     \n",
       "\n",
       "   location.lat  location.lng location.postalCode location.state  \\\n",
       "0  40.413972    -3.708090      28005               Madrid          \n",
       "1  40.415978    -3.705748      NaN                 NaN             \n",
       "2  40.422448    -3.700408      28004               Madrid          \n",
       "3  40.410920    -3.707741      28005               Madrid          \n",
       "\n",
       "                               name    referralId  \n",
       "0  4D Caffetteria Italiana           v-1555256655  \n",
       "1  Molto Italiano                    v-1555256655  \n",
       "2  Bellamia Gelateria Italiana       v-1555256655  \n",
       "3  La Capricciosa Italiana Pizzeria  v-1555256655  "
      ]
     },
     "execution_count": 78,
     "metadata": {},
     "output_type": "execute_result"
    }
   ],
   "source": [
    "# assign relevant part of JSON to venues\n",
    "venues = results['response']['venues']\n",
    "\n",
    "# tranform venues into a dataframe\n",
    "dataframe = json_normalize(venues)\n",
    "dataframe.head()"
   ]
  },
  {
   "cell_type": "markdown",
   "metadata": {},
   "source": [
    "### Define information of interest and filter dataframe"
   ]
  },
  {
   "cell_type": "code",
   "execution_count": 79,
   "metadata": {},
   "outputs": [
    {
     "data": {
      "text/html": [
       "<div>\n",
       "<style scoped>\n",
       "    .dataframe tbody tr th:only-of-type {\n",
       "        vertical-align: middle;\n",
       "    }\n",
       "\n",
       "    .dataframe tbody tr th {\n",
       "        vertical-align: top;\n",
       "    }\n",
       "\n",
       "    .dataframe thead th {\n",
       "        text-align: right;\n",
       "    }\n",
       "</style>\n",
       "<table border=\"1\" class=\"dataframe\">\n",
       "  <thead>\n",
       "    <tr style=\"text-align: right;\">\n",
       "      <th></th>\n",
       "      <th>name</th>\n",
       "      <th>categories</th>\n",
       "      <th>address</th>\n",
       "      <th>cc</th>\n",
       "      <th>city</th>\n",
       "      <th>country</th>\n",
       "      <th>crossStreet</th>\n",
       "      <th>distance</th>\n",
       "      <th>formattedAddress</th>\n",
       "      <th>labeledLatLngs</th>\n",
       "      <th>lat</th>\n",
       "      <th>lng</th>\n",
       "      <th>postalCode</th>\n",
       "      <th>state</th>\n",
       "      <th>id</th>\n",
       "    </tr>\n",
       "  </thead>\n",
       "  <tbody>\n",
       "    <tr>\n",
       "      <th>0</th>\n",
       "      <td>4D Caffetteria Italiana</td>\n",
       "      <td>Café</td>\n",
       "      <td>C/ de Cuchilleros, 17</td>\n",
       "      <td>ES</td>\n",
       "      <td>Madrid</td>\n",
       "      <td>España</td>\n",
       "      <td>NaN</td>\n",
       "      <td>474</td>\n",
       "      <td>[C/ de Cuchilleros, 17, 28005 Madrid Madrid, España]</td>\n",
       "      <td>[{'label': 'display', 'lat': 40.41397173630024, 'lng': -3.7080895998456374}]</td>\n",
       "      <td>40.413972</td>\n",
       "      <td>-3.708090</td>\n",
       "      <td>28005</td>\n",
       "      <td>Madrid</td>\n",
       "      <td>4c080ac3a1b32d7f3c6595f0</td>\n",
       "    </tr>\n",
       "    <tr>\n",
       "      <th>1</th>\n",
       "      <td>Molto Italiano</td>\n",
       "      <td>Pizza Place</td>\n",
       "      <td>NaN</td>\n",
       "      <td>ES</td>\n",
       "      <td>NaN</td>\n",
       "      <td>España</td>\n",
       "      <td>NaN</td>\n",
       "      <td>199</td>\n",
       "      <td>[España]</td>\n",
       "      <td>[{'label': 'display', 'lat': 40.415978, 'lng': -3.705748}]</td>\n",
       "      <td>40.415978</td>\n",
       "      <td>-3.705748</td>\n",
       "      <td>NaN</td>\n",
       "      <td>NaN</td>\n",
       "      <td>4e5e767c14954da39ff06d12</td>\n",
       "    </tr>\n",
       "    <tr>\n",
       "      <th>2</th>\n",
       "      <td>Bellamia Gelateria Italiana</td>\n",
       "      <td>Ice Cream Shop</td>\n",
       "      <td>C. Pérez Galdós, 3</td>\n",
       "      <td>ES</td>\n",
       "      <td>Madrid Centro, Madrid</td>\n",
       "      <td>España</td>\n",
       "      <td>C. Fuencarral, 34</td>\n",
       "      <td>726</td>\n",
       "      <td>[C. Pérez Galdós, 3 (C. Fuencarral, 34), 28004 Madrid Centro Madrid, España]</td>\n",
       "      <td>[{'label': 'display', 'lat': 40.42244828094222, 'lng': -3.7004082726112983}]</td>\n",
       "      <td>40.422448</td>\n",
       "      <td>-3.700408</td>\n",
       "      <td>28004</td>\n",
       "      <td>Madrid</td>\n",
       "      <td>5390ee01498e87f1a952ff0e</td>\n",
       "    </tr>\n",
       "    <tr>\n",
       "      <th>3</th>\n",
       "      <td>La Capricciosa Italiana Pizzeria</td>\n",
       "      <td>Pizza Place</td>\n",
       "      <td>Calle de las Maldonadas</td>\n",
       "      <td>ES</td>\n",
       "      <td>Madrid</td>\n",
       "      <td>España</td>\n",
       "      <td>NaN</td>\n",
       "      <td>705</td>\n",
       "      <td>[Calle de las Maldonadas, 28005 Madrid Madrid, España]</td>\n",
       "      <td>[{'label': 'display', 'lat': 40.41092, 'lng': -3.7077413}]</td>\n",
       "      <td>40.410920</td>\n",
       "      <td>-3.707741</td>\n",
       "      <td>28005</td>\n",
       "      <td>Madrid</td>\n",
       "      <td>5b56485ba42362002c87a1f5</td>\n",
       "    </tr>\n",
       "  </tbody>\n",
       "</table>\n",
       "</div>"
      ],
      "text/plain": [
       "                               name      categories                  address  \\\n",
       "0  4D Caffetteria Italiana           Café            C/ de Cuchilleros, 17     \n",
       "1  Molto Italiano                    Pizza Place     NaN                       \n",
       "2  Bellamia Gelateria Italiana       Ice Cream Shop  C. Pérez Galdós, 3        \n",
       "3  La Capricciosa Italiana Pizzeria  Pizza Place     Calle de las Maldonadas   \n",
       "\n",
       "   cc                   city country        crossStreet  distance  \\\n",
       "0  ES  Madrid                 España  NaN                474        \n",
       "1  ES  NaN                    España  NaN                199        \n",
       "2  ES  Madrid Centro, Madrid  España  C. Fuencarral, 34  726        \n",
       "3  ES  Madrid                 España  NaN                705        \n",
       "\n",
       "                                                               formattedAddress  \\\n",
       "0  [C/ de Cuchilleros, 17, 28005 Madrid Madrid, España]                           \n",
       "1  [España]                                                                       \n",
       "2  [C. Pérez Galdós, 3 (C. Fuencarral, 34), 28004 Madrid Centro Madrid, España]   \n",
       "3  [Calle de las Maldonadas, 28005 Madrid Madrid, España]                         \n",
       "\n",
       "                                                                 labeledLatLngs  \\\n",
       "0  [{'label': 'display', 'lat': 40.41397173630024, 'lng': -3.7080895998456374}]   \n",
       "1  [{'label': 'display', 'lat': 40.415978, 'lng': -3.705748}]                     \n",
       "2  [{'label': 'display', 'lat': 40.42244828094222, 'lng': -3.7004082726112983}]   \n",
       "3  [{'label': 'display', 'lat': 40.41092, 'lng': -3.7077413}]                     \n",
       "\n",
       "         lat       lng postalCode   state                        id  \n",
       "0  40.413972 -3.708090  28005      Madrid  4c080ac3a1b32d7f3c6595f0  \n",
       "1  40.415978 -3.705748  NaN        NaN     4e5e767c14954da39ff06d12  \n",
       "2  40.422448 -3.700408  28004      Madrid  5390ee01498e87f1a952ff0e  \n",
       "3  40.410920 -3.707741  28005      Madrid  5b56485ba42362002c87a1f5  "
      ]
     },
     "execution_count": 79,
     "metadata": {},
     "output_type": "execute_result"
    }
   ],
   "source": [
    "# keep only columns that include venue name, and anything that is associated with location\n",
    "filtered_columns = ['name', 'categories'] + [col for col in dataframe.columns if col.startswith('location.')] + ['id']\n",
    "dataframe_filtered = dataframe.loc[:, filtered_columns]\n",
    "\n",
    "# function that extracts the category of the venue\n",
    "def get_category_type(row):\n",
    "    try:\n",
    "        categories_list = row['categories']\n",
    "    except:\n",
    "        categories_list = row['venue.categories']\n",
    "        \n",
    "    if len(categories_list) == 0:\n",
    "        return None\n",
    "    else:\n",
    "        return categories_list[0]['name']\n",
    "\n",
    "# filter the category for each row\n",
    "dataframe_filtered['categories'] = dataframe_filtered.apply(get_category_type, axis=1)\n",
    "\n",
    "# clean column names by keeping only last term\n",
    "dataframe_filtered.columns = [column.split('.')[-1] for column in dataframe_filtered.columns]\n",
    "\n",
    "dataframe_filtered"
   ]
  },
  {
   "cell_type": "markdown",
   "metadata": {},
   "source": [
    "### Let's visualize the Italian restaurants that are nearby"
   ]
  },
  {
   "cell_type": "code",
   "execution_count": 80,
   "metadata": {},
   "outputs": [
    {
     "data": {
      "text/plain": [
       "0    4D Caffetteria Italiana         \n",
       "1    Molto Italiano                  \n",
       "2    Bellamia Gelateria Italiana     \n",
       "3    La Capricciosa Italiana Pizzeria\n",
       "Name: name, dtype: object"
      ]
     },
     "execution_count": 80,
     "metadata": {},
     "output_type": "execute_result"
    }
   ],
   "source": [
    "dataframe_filtered.name"
   ]
  },
  {
   "cell_type": "code",
   "execution_count": 81,
   "metadata": {
    "scrolled": true
   },
   "outputs": [
    {
     "data": {
      "text/html": [
       "<div style=\"width:100%;\"><div style=\"position:relative;width:100%;height:0;padding-bottom:60%;\"><iframe src=\"data:text/html;charset=utf-8;base64,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\" style=\"position:absolute;width:100%;height:100%;left:0;top:0;border:none !important;\" allowfullscreen webkitallowfullscreen mozallowfullscreen></iframe></div></div>"
      ],
      "text/plain": [
       "<folium.folium.Map at 0x92c4860>"
      ]
     },
     "execution_count": 81,
     "metadata": {},
     "output_type": "execute_result"
    }
   ],
   "source": [
    "venues_map = folium.Map(location=[latitude, longitude], zoom_start=13) # generate map centred around Kilometro Cero\n",
    "\n",
    "# add a red circle marker to represent the Kilometro Cero\n",
    "folium.CircleMarker(\n",
    "    [latitude, longitude],\n",
    "    radius=10,\n",
    "    color='red',\n",
    "    popup='Conrad Hotel',\n",
    "    fill = True,\n",
    "    fill_color = 'red',\n",
    "    fill_opacity = 0.6\n",
    ").add_to(venues_map)\n",
    "\n",
    "# add the Italian restaurants as blue circle markers\n",
    "for lat, lng, label in zip(dataframe_filtered.lat, dataframe_filtered.lng, dataframe_filtered.categories):\n",
    "    folium.CircleMarker(\n",
    "        [lat, lng],\n",
    "        radius=5,\n",
    "        color='blue',\n",
    "        popup=label,\n",
    "        fill = True,\n",
    "        fill_color='blue',\n",
    "        fill_opacity=0.6\n",
    "    ).add_to(venues_map)\n",
    "\n",
    "# display map\n",
    "venues_map"
   ]
  },
  {
   "cell_type": "markdown",
   "metadata": {},
   "source": [
    "## 2. Explore a Given Venue\n",
    "> `https://api.foursquare.com/v2/venues/`**VENUE_ID**`?client_id=`**CLIENT_ID**`&client_secret=`**CLIENT_SECRET**`&v=`**VERSION**"
   ]
  },
  {
   "cell_type": "markdown",
   "metadata": {},
   "source": [
    "### Let's explore La Capricciosa Italiana Pizzeria"
   ]
  },
  {
   "cell_type": "code",
   "execution_count": 82,
   "metadata": {},
   "outputs": [
    {
     "data": {
      "text/plain": [
       "'https://api.foursquare.com/v2/venues/5b56485ba42362002c87a1f5?client_id=DHVNUJV5I1ISC4NZWFCINPJNV2VVKHRO3N4K2IKAIPPWP0NC&client_secret=2Q3TY50TJLOZK4FJHDEGIHG0MHVDQTNVK2ZPKOXJGNRVX2B1&v=20190414'"
      ]
     },
     "execution_count": 82,
     "metadata": {},
     "output_type": "execute_result"
    }
   ],
   "source": [
    "venue_id = '5b56485ba42362002c87a1f5' # ID of Harry's Italian Pizza Bar\n",
    "url = 'https://api.foursquare.com/v2/venues/{}?client_id={}&client_secret={}&v={}'.format(venue_id, CLIENT_ID, CLIENT_SECRET, VERSION)\n",
    "url"
   ]
  },
  {
   "cell_type": "markdown",
   "metadata": {},
   "source": [
    "### Send GET request for result"
   ]
  },
  {
   "cell_type": "code",
   "execution_count": 83,
   "metadata": {},
   "outputs": [
    {
     "name": "stdout",
     "output_type": "stream",
     "text": [
      "dict_keys(['id', 'name', 'contact', 'location', 'canonicalUrl', 'categories', 'verified', 'stats', 'price', 'likes', 'dislike', 'ok', 'allowMenuUrlEdit', 'beenHere', 'specials', 'photos', 'reasons', 'hereNow', 'createdAt', 'tips', 'shortUrl', 'timeZone', 'listed', 'pageUpdates', 'inbox', 'attributes', 'bestPhoto', 'colors'])\n"
     ]
    },
    {
     "data": {
      "text/plain": [
       "{'id': '5b56485ba42362002c87a1f5',\n",
       " 'name': 'La Capricciosa Italiana Pizzeria',\n",
       " 'contact': {},\n",
       " 'location': {'address': 'Calle de las Maldonadas',\n",
       "  'lat': 40.41092,\n",
       "  'lng': -3.7077413,\n",
       "  'labeledLatLngs': [{'label': 'display', 'lat': 40.41092, 'lng': -3.7077413}],\n",
       "  'postalCode': '28005',\n",
       "  'cc': 'ES',\n",
       "  'city': 'Madrid',\n",
       "  'state': 'Madrid',\n",
       "  'country': 'España',\n",
       "  'formattedAddress': ['Calle de las Maldonadas',\n",
       "   '28005 Madrid Madrid',\n",
       "   'España']},\n",
       " 'canonicalUrl': 'https://foursquare.com/v/la-capricciosa-italiana-pizzeria/5b56485ba42362002c87a1f5',\n",
       " 'categories': [{'id': '4bf58dd8d48988d1ca941735',\n",
       "   'name': 'Pizza Place',\n",
       "   'pluralName': 'Pizza Places',\n",
       "   'shortName': 'Pizza',\n",
       "   'icon': {'prefix': 'https://ss3.4sqi.net/img/categories_v2/food/pizza_',\n",
       "    'suffix': '.png'},\n",
       "   'primary': True}],\n",
       " 'verified': False,\n",
       " 'stats': {'tipCount': 0},\n",
       " 'price': {'tier': 1, 'message': 'Cheap', 'currency': '€'},\n",
       " 'likes': {'count': 1,\n",
       "  'groups': [{'type': 'others',\n",
       "    'count': 1,\n",
       "    'items': [{'id': '524978985',\n",
       "      'firstName': 'Biljana',\n",
       "      'lastName': 'Banjac',\n",
       "      'gender': 'female',\n",
       "      'photo': {'prefix': 'https://fastly.4sqi.net/img/user/',\n",
       "       'suffix': '/blank_girl.png',\n",
       "       'default': True}}]}],\n",
       "  'summary': '1 Like'},\n",
       " 'dislike': False,\n",
       " 'ok': False,\n",
       " 'allowMenuUrlEdit': True,\n",
       " 'beenHere': {'count': 0,\n",
       "  'unconfirmedCount': 0,\n",
       "  'marked': False,\n",
       "  'lastCheckinExpiredAt': 0},\n",
       " 'specials': {'count': 0, 'items': []},\n",
       " 'photos': {'count': 2,\n",
       "  'groups': [{'type': 'checkin',\n",
       "    'name': \"Friends' check-in photos\",\n",
       "    'count': 0,\n",
       "    'items': []},\n",
       "   {'type': 'venue',\n",
       "    'name': 'Venue photos',\n",
       "    'count': 2,\n",
       "    'items': [{'id': '5b5648ed8d0a53002c7789da',\n",
       "      'createdAt': 1532381421,\n",
       "      'source': {'name': 'Swarm for Android',\n",
       "       'url': 'https://www.swarmapp.com'},\n",
       "      'prefix': 'https://fastly.4sqi.net/img/general/',\n",
       "      'suffix': '/4802558_pSqdKvkbeACGqaV_3wbfQ0kB5aE8oYC4Lg5IwFIMpPw.jpg',\n",
       "      'width': 2160,\n",
       "      'height': 3840,\n",
       "      'user': {'id': '4802558',\n",
       "       'firstName': 'Robin 🐳',\n",
       "       'lastName': 'Lauren',\n",
       "       'gender': 'male',\n",
       "       'photo': {'prefix': 'https://fastly.4sqi.net/img/user/',\n",
       "        'suffix': '/BBNMON1OPA2VTFCS.jpg'}},\n",
       "      'visibility': 'public'},\n",
       "     {'id': '5b5648e4a2a6ce002c5dd6e3',\n",
       "      'createdAt': 1532381412,\n",
       "      'source': {'name': 'Swarm for Android',\n",
       "       'url': 'https://www.swarmapp.com'},\n",
       "      'prefix': 'https://fastly.4sqi.net/img/general/',\n",
       "      'suffix': '/4802558_YjqX-VvtOPB3SKWQXxZCLEO7EN7AkG6z34Ho9VB8va4.jpg',\n",
       "      'width': 3840,\n",
       "      'height': 2160,\n",
       "      'user': {'id': '4802558',\n",
       "       'firstName': 'Robin 🐳',\n",
       "       'lastName': 'Lauren',\n",
       "       'gender': 'male',\n",
       "       'photo': {'prefix': 'https://fastly.4sqi.net/img/user/',\n",
       "        'suffix': '/BBNMON1OPA2VTFCS.jpg'}},\n",
       "      'visibility': 'public'}]}],\n",
       "  'summary': '0 photos'},\n",
       " 'reasons': {'count': 0, 'items': []},\n",
       " 'hereNow': {'count': 0, 'summary': 'Nobody here', 'groups': []},\n",
       " 'createdAt': 1532381275,\n",
       " 'tips': {'count': 0,\n",
       "  'groups': [{'type': 'others',\n",
       "    'name': 'All tips',\n",
       "    'count': 0,\n",
       "    'items': [{'id': '5ca2e2ea67a9fe0039b6bb62',\n",
       "      'createdAt': 1554178794,\n",
       "      'text': 'Tienen slices de pizza para llevar pero no lo ofrecen para los que comen en las mesas',\n",
       "      'type': 'user',\n",
       "      'canonicalUrl': 'https://foursquare.com/item/5ca2e2ea67a9fe0039b6bb62',\n",
       "      'lang': 'es',\n",
       "      'likes': {'count': 0, 'groups': []},\n",
       "      'logView': True,\n",
       "      'agreeCount': 0,\n",
       "      'disagreeCount': 0,\n",
       "      'todo': {'count': 0},\n",
       "      'user': {'id': '5449384',\n",
       "       'firstName': 'Arturo',\n",
       "       'lastName': 'Gonzalez Rigual',\n",
       "       'gender': 'male',\n",
       "       'photo': {'prefix': 'https://fastly.4sqi.net/img/user/',\n",
       "        'suffix': '/5XZJHB2NTM2PTLYB.jpg'}},\n",
       "      'authorInteractionType': 'meh'}]}]},\n",
       " 'shortUrl': 'https://4sq.com/2NFNvae',\n",
       " 'timeZone': 'Europe/Madrid',\n",
       " 'listed': {'count': 0,\n",
       "  'groups': [{'type': 'others',\n",
       "    'name': 'Lists from other people',\n",
       "    'count': 0,\n",
       "    'items': []}]},\n",
       " 'pageUpdates': {'count': 0, 'items': []},\n",
       " 'inbox': {'count': 0, 'items': []},\n",
       " 'attributes': {'groups': [{'type': 'price',\n",
       "    'name': 'Price',\n",
       "    'summary': '€',\n",
       "    'count': 1,\n",
       "    'items': [{'displayName': 'Price',\n",
       "      'displayValue': '€',\n",
       "      'priceTier': 1}]}]},\n",
       " 'bestPhoto': {'id': '5b5648ed8d0a53002c7789da',\n",
       "  'createdAt': 1532381421,\n",
       "  'source': {'name': 'Swarm for Android', 'url': 'https://www.swarmapp.com'},\n",
       "  'prefix': 'https://fastly.4sqi.net/img/general/',\n",
       "  'suffix': '/4802558_pSqdKvkbeACGqaV_3wbfQ0kB5aE8oYC4Lg5IwFIMpPw.jpg',\n",
       "  'width': 2160,\n",
       "  'height': 3840,\n",
       "  'visibility': 'public'},\n",
       " 'colors': {'highlightColor': {'photoId': '5b5648ed8d0a53002c7789da',\n",
       "   'value': -5726064},\n",
       "  'highlightTextColor': {'photoId': '5b5648ed8d0a53002c7789da',\n",
       "   'value': -16777216},\n",
       "  'algoVersion': 3}}"
      ]
     },
     "execution_count": 83,
     "metadata": {},
     "output_type": "execute_result"
    }
   ],
   "source": [
    "result = requests.get(url).json()\n",
    "print(result['response']['venue'].keys())\n",
    "result['response']['venue']"
   ]
  },
  {
   "cell_type": "markdown",
   "metadata": {},
   "source": [
    "### B. Get the venue's overall rating"
   ]
  },
  {
   "cell_type": "code",
   "execution_count": 84,
   "metadata": {},
   "outputs": [
    {
     "name": "stdout",
     "output_type": "stream",
     "text": [
      "This venue has not been rated yet.\n"
     ]
    }
   ],
   "source": [
    "try:\n",
    "    print(result['response']['venue']['rating'])\n",
    "except:\n",
    "    print('This venue has not been rated yet.')"
   ]
  },
  {
   "cell_type": "markdown",
   "metadata": {},
   "source": [
    "Let's check the rating on another Ialian restaurant."
   ]
  },
  {
   "cell_type": "code",
   "execution_count": 85,
   "metadata": {},
   "outputs": [
    {
     "name": "stdout",
     "output_type": "stream",
     "text": [
      "4.5\n"
     ]
    }
   ],
   "source": [
    "venue_id = '4c080ac3a1b32d7f3c6595f0' # ID of 4D Caffetteria Italiana\n",
    "url = 'https://api.foursquare.com/v2/venues/{}?client_id={}&client_secret={}&v={}'.format(venue_id, CLIENT_ID, CLIENT_SECRET, VERSION)\n",
    "\n",
    "result = requests.get(url).json()\n",
    "try:\n",
    "    print(result['response']['venue']['rating'])\n",
    "except:\n",
    "    print('This venue has not been rated yet.')"
   ]
  },
  {
   "cell_type": "markdown",
   "metadata": {},
   "source": [
    "### C. Get the number of tips"
   ]
  },
  {
   "cell_type": "code",
   "execution_count": 86,
   "metadata": {},
   "outputs": [
    {
     "data": {
      "text/plain": [
       "26"
      ]
     },
     "execution_count": 86,
     "metadata": {},
     "output_type": "execute_result"
    }
   ],
   "source": [
    "result['response']['venue']['tips']['count']"
   ]
  },
  {
   "cell_type": "markdown",
   "metadata": {},
   "source": [
    "### D. Get the venue's tips\n",
    "\n",
    "> `https://api.foursquare.com/v2/venues/`**VENUE_ID**`/tips?client_id=`**CLIENT_ID**`&client_secret=`**CLIENT_SECRET**`&v=`**VERSION**`&limit=`**LIMIT**"
   ]
  },
  {
   "cell_type": "code",
   "execution_count": 87,
   "metadata": {},
   "outputs": [
    {
     "data": {
      "text/plain": [
       "{'meta': {'code': 200, 'requestId': '5cb35556dd57974078ced2ed'},\n",
       " 'response': {'tips': {'count': 26,\n",
       "   'items': [{'id': '50a4f8f0e4b0682d4fb5daf0',\n",
       "     'createdAt': 1352988912,\n",
       "     'text': 'Café con leche = 1,70€. Vale que esté junto a la Plaza Mayor, pero el precio es una salvajada para el tipo de local y el servicio que ofrecen',\n",
       "     'type': 'user',\n",
       "     'canonicalUrl': 'https://foursquare.com/item/50a4f8f0e4b0682d4fb5daf0',\n",
       "     'lang': 'es',\n",
       "     'likes': {'count': 2,\n",
       "      'groups': [{'type': 'others',\n",
       "        'count': 2,\n",
       "        'items': [{'id': '8083515',\n",
       "          'firstName': 'Tom',\n",
       "          'lastName': 'Str',\n",
       "          'gender': 'male',\n",
       "          'photo': {'prefix': 'https://fastly.4sqi.net/img/user/',\n",
       "           'suffix': '/ZAUNZUKJBIX0RYZB.jpg'}},\n",
       "         {'id': '1023156',\n",
       "          'firstName': 'Diego',\n",
       "          'lastName': 'Brizuela',\n",
       "          'gender': 'male',\n",
       "          'photo': {'prefix': 'https://fastly.4sqi.net/img/user/',\n",
       "           'suffix': '/1023156-URC2122J045QQFF1.jpg'}}]}],\n",
       "      'summary': '2 likes'},\n",
       "     'logView': True,\n",
       "     'agreeCount': 2,\n",
       "     'disagreeCount': 0,\n",
       "     'todo': {'count': 0},\n",
       "     'user': {'id': '859148',\n",
       "      'firstName': 'Omar',\n",
       "      'lastName': 'Torres Pestano',\n",
       "      'gender': 'male',\n",
       "      'photo': {'prefix': 'https://fastly.4sqi.net/img/user/',\n",
       "       'suffix': '/859148-UMAKLELQIDU1HW5V.jpg'}},\n",
       "     'authorInteractionType': 'disliked'},\n",
       "    {'id': '4ec441ee0aaf9233ed4b3245',\n",
       "     'createdAt': 1321484782,\n",
       "     'text': 'A touristy spot with less than stellar service but it does have sunshine on its terrace.',\n",
       "     'type': 'user',\n",
       "     'canonicalUrl': 'https://foursquare.com/item/4ec441ee0aaf9233ed4b3245',\n",
       "     'lang': 'en',\n",
       "     'likes': {'count': 0, 'groups': []},\n",
       "     'logView': True,\n",
       "     'agreeCount': 0,\n",
       "     'disagreeCount': 0,\n",
       "     'todo': {'count': 0},\n",
       "     'user': {'id': '768734',\n",
       "      'firstName': 'Elaina',\n",
       "      'lastName': 'B',\n",
       "      'gender': 'female',\n",
       "      'photo': {'prefix': 'https://fastly.4sqi.net/img/user/',\n",
       "       'suffix': '/768734-WUVOKQGSBTJFSBOR.jpg'}}}]}}}"
      ]
     },
     "execution_count": 87,
     "metadata": {},
     "output_type": "execute_result"
    }
   ],
   "source": [
    "## 4D Caffetteria Italiana Tips\n",
    "limit = 15 # set limit to be greater than or equal to the total number of tips\n",
    "url = 'https://api.foursquare.com/v2/venues/{}/tips?client_id={}&client_secret={}&v={}&limit={}'.format(venue_id, CLIENT_ID, CLIENT_SECRET, VERSION, limit)\n",
    "\n",
    "results = requests.get(url).json()\n",
    "results"
   ]
  },
  {
   "cell_type": "markdown",
   "metadata": {},
   "source": [
    "#### Get tips and list of associated features"
   ]
  },
  {
   "cell_type": "code",
   "execution_count": 88,
   "metadata": {},
   "outputs": [
    {
     "data": {
      "text/plain": [
       "dict_keys(['id', 'createdAt', 'text', 'type', 'canonicalUrl', 'lang', 'likes', 'logView', 'agreeCount', 'disagreeCount', 'todo', 'user', 'authorInteractionType'])"
      ]
     },
     "execution_count": 88,
     "metadata": {},
     "output_type": "execute_result"
    }
   ],
   "source": [
    "tips = results['response']['tips']['items']\n",
    "\n",
    "tip = results['response']['tips']['items'][0]\n",
    "tip.keys()"
   ]
  },
  {
   "cell_type": "markdown",
   "metadata": {},
   "source": [
    "#### Format column width and display all tips"
   ]
  },
  {
   "cell_type": "code",
   "execution_count": 89,
   "metadata": {},
   "outputs": [
    {
     "data": {
      "text/html": [
       "<div>\n",
       "<style scoped>\n",
       "    .dataframe tbody tr th:only-of-type {\n",
       "        vertical-align: middle;\n",
       "    }\n",
       "\n",
       "    .dataframe tbody tr th {\n",
       "        vertical-align: top;\n",
       "    }\n",
       "\n",
       "    .dataframe thead th {\n",
       "        text-align: right;\n",
       "    }\n",
       "</style>\n",
       "<table border=\"1\" class=\"dataframe\">\n",
       "  <thead>\n",
       "    <tr style=\"text-align: right;\">\n",
       "      <th></th>\n",
       "      <th>text</th>\n",
       "      <th>agreeCount</th>\n",
       "      <th>disagreeCount</th>\n",
       "      <th>id</th>\n",
       "      <th>user.firstName</th>\n",
       "      <th>user.lastName</th>\n",
       "      <th>user.gender</th>\n",
       "      <th>user.id</th>\n",
       "    </tr>\n",
       "  </thead>\n",
       "  <tbody>\n",
       "    <tr>\n",
       "      <th>0</th>\n",
       "      <td>Café con leche = 1,70€. Vale que esté junto a la Plaza Mayor, pero el precio es una salvajada para el tipo de local y el servicio que ofrecen</td>\n",
       "      <td>2</td>\n",
       "      <td>0</td>\n",
       "      <td>50a4f8f0e4b0682d4fb5daf0</td>\n",
       "      <td>Omar</td>\n",
       "      <td>Torres Pestano</td>\n",
       "      <td>male</td>\n",
       "      <td>859148</td>\n",
       "    </tr>\n",
       "    <tr>\n",
       "      <th>1</th>\n",
       "      <td>A touristy spot with less than stellar service but it does have sunshine on its terrace.</td>\n",
       "      <td>0</td>\n",
       "      <td>0</td>\n",
       "      <td>4ec441ee0aaf9233ed4b3245</td>\n",
       "      <td>Elaina</td>\n",
       "      <td>B</td>\n",
       "      <td>female</td>\n",
       "      <td>768734</td>\n",
       "    </tr>\n",
       "  </tbody>\n",
       "</table>\n",
       "</div>"
      ],
      "text/plain": [
       "                                                                                                                                            text  \\\n",
       "0  Café con leche = 1,70€. Vale que esté junto a la Plaza Mayor, pero el precio es una salvajada para el tipo de local y el servicio que ofrecen   \n",
       "1  A touristy spot with less than stellar service but it does have sunshine on its terrace.                                                        \n",
       "\n",
       "   agreeCount  disagreeCount                        id user.firstName  \\\n",
       "0  2           0              50a4f8f0e4b0682d4fb5daf0  Omar            \n",
       "1  0           0              4ec441ee0aaf9233ed4b3245  Elaina          \n",
       "\n",
       "    user.lastName user.gender user.id  \n",
       "0  Torres Pestano  male        859148  \n",
       "1  B               female      768734  "
      ]
     },
     "execution_count": 89,
     "metadata": {},
     "output_type": "execute_result"
    }
   ],
   "source": [
    "pd.set_option('display.max_colwidth', -1)\n",
    "\n",
    "tips_df = json_normalize(tips) # json normalize tips\n",
    "\n",
    "# columns to keep\n",
    "filtered_columns = ['text', 'agreeCount', 'disagreeCount', 'id', 'user.firstName', 'user.lastName', 'user.gender', 'user.id']\n",
    "tips_filtered = tips_df.loc[:, filtered_columns]\n",
    "\n",
    "# display tips\n",
    "tips_filtered"
   ]
  },
  {
   "cell_type": "markdown",
   "metadata": {},
   "source": [
    "## 3. Search a Foursquare User\n",
    "> `https://api.foursquare.com/v2/users/`**USER_ID**`?client_id=`**CLIENT_ID**`&client_secret=`**CLIENT_SECRET**`&v=`**VERSION**"
   ]
  },
  {
   "cell_type": "markdown",
   "metadata": {},
   "source": [
    "### Define URL, send GET request and display features associated with use"
   ]
  },
  {
   "cell_type": "code",
   "execution_count": 90,
   "metadata": {},
   "outputs": [
    {
     "data": {
      "text/plain": [
       "dict_keys(['id', 'firstName', 'lastName', 'gender', 'canonicalUrl', 'photo', 'friends', 'tips', 'homeCity', 'bio', 'contact', 'photos', 'type', 'mayorships', 'checkins', 'lists', 'lenses'])"
      ]
     },
     "execution_count": 90,
     "metadata": {},
     "output_type": "execute_result"
    }
   ],
   "source": [
    "user_id = '859148' # user ID with most agree counts and complete profile\n",
    "\n",
    "url = 'https://api.foursquare.com/v2/users/{}?client_id={}&client_secret={}&v={}'.format(user_id, CLIENT_ID, CLIENT_SECRET, VERSION) # define URL\n",
    "\n",
    "# send GET request\n",
    "results = requests.get(url).json()\n",
    "user_data = results['response']['user']\n",
    "\n",
    "# display features associated with user\n",
    "user_data.keys()"
   ]
  },
  {
   "cell_type": "code",
   "execution_count": 91,
   "metadata": {},
   "outputs": [
    {
     "name": "stdout",
     "output_type": "stream",
     "text": [
      "First Name: Omar\n",
      "Last Name: Torres Pestano\n",
      "Home City: Madrid\n"
     ]
    }
   ],
   "source": [
    "print('First Name: ' + user_data['firstName'])\n",
    "print('Last Name: ' + user_data['lastName'])\n",
    "print('Home City: ' + user_data['homeCity'])"
   ]
  },
  {
   "cell_type": "markdown",
   "metadata": {},
   "source": [
    "#### How many tips has this user submitted?"
   ]
  },
  {
   "cell_type": "code",
   "execution_count": 92,
   "metadata": {},
   "outputs": [
    {
     "data": {
      "text/plain": [
       "{'count': 427}"
      ]
     },
     "execution_count": 92,
     "metadata": {},
     "output_type": "execute_result"
    }
   ],
   "source": [
    "user_data['tips']"
   ]
  },
  {
   "cell_type": "markdown",
   "metadata": {},
   "source": [
    "Wow! So it turns out that Omar is a very active Foursquare user, with more than 400 tips."
   ]
  },
  {
   "cell_type": "markdown",
   "metadata": {},
   "source": [
    "### Get User's tips"
   ]
  },
  {
   "cell_type": "code",
   "execution_count": 93,
   "metadata": {},
   "outputs": [
    {
     "data": {
      "text/html": [
       "<div>\n",
       "<style scoped>\n",
       "    .dataframe tbody tr th:only-of-type {\n",
       "        vertical-align: middle;\n",
       "    }\n",
       "\n",
       "    .dataframe tbody tr th {\n",
       "        vertical-align: top;\n",
       "    }\n",
       "\n",
       "    .dataframe thead th {\n",
       "        text-align: right;\n",
       "    }\n",
       "</style>\n",
       "<table border=\"1\" class=\"dataframe\">\n",
       "  <thead>\n",
       "    <tr style=\"text-align: right;\">\n",
       "      <th></th>\n",
       "      <th>text</th>\n",
       "      <th>agreeCount</th>\n",
       "      <th>disagreeCount</th>\n",
       "      <th>id</th>\n",
       "    </tr>\n",
       "  </thead>\n",
       "  <tbody>\n",
       "    <tr>\n",
       "      <th>0</th>\n",
       "      <td>Cañas mal tiradas y sin acompañamiento. Qué menos que unas patatas o unas aceitunas. En la terraza no sirven café...</td>\n",
       "      <td>0</td>\n",
       "      <td>0</td>\n",
       "      <td>56360382cd10e24391603b17</td>\n",
       "    </tr>\n",
       "    <tr>\n",
       "      <th>1</th>\n",
       "      <td>En su interior recrea un viaje en un vagón de tren de los de antes. Billete en primera clase. Genial para tomar una copa. La comida regulera; el guacamole solo sabía a aguacate machacado</td>\n",
       "      <td>0</td>\n",
       "      <td>0</td>\n",
       "      <td>54f564cc498e041fa70414fb</td>\n",
       "    </tr>\n",
       "    <tr>\n",
       "      <th>2</th>\n",
       "      <td>Deberían reforzar el personal los días de promo. Aún así siempre es un placer olvidarse del mundo en TGB. Prueba la ECO con pan normal y la de pechuga de pollo. Irresistibles las patatas con alioli</td>\n",
       "      <td>1</td>\n",
       "      <td>0</td>\n",
       "      <td>54f561b0498e8a826fb13b10</td>\n",
       "    </tr>\n",
       "    <tr>\n",
       "      <th>3</th>\n",
       "      <td>Menú del día por 10€. Comida casera y saludable. Son un poco lentos. Dentro es muy bonito, pero cuesta pillar sitio. Si hace buen tiempo, aprovecha la terracita</td>\n",
       "      <td>1</td>\n",
       "      <td>0</td>\n",
       "      <td>54ef60aa498e0fdca0814121</td>\n",
       "    </tr>\n",
       "    <tr>\n",
       "      <th>4</th>\n",
       "      <td>Está todo exquisito. Pocos controlan en punto de la carne como ellos. Solomillo muy tierno y jugoso. La trilogía de chocolates es sublime. Genial la carga de vinos. El sitio perfecto para sorprender</td>\n",
       "      <td>0</td>\n",
       "      <td>0</td>\n",
       "      <td>54ea651a498ea59192cd8ade</td>\n",
       "    </tr>\n",
       "    <tr>\n",
       "      <th>5</th>\n",
       "      <td>El menú del día no está a la altura de lo que proyectan. Si quieres ser 'cool', cuida lo que ofreces. He comido menús más elaborados por 10€. Por 12€ y pico esperaba otra cosa. Demasiado simple</td>\n",
       "      <td>0</td>\n",
       "      <td>0</td>\n",
       "      <td>54ea63cc498e859578e2dc25</td>\n",
       "    </tr>\n",
       "    <tr>\n",
       "      <th>6</th>\n",
       "      <td>Sitio chulo con 1 carta muy original. Se compone de miniplatos (4,80€/ unidad aprox). Muy ricos los chipirones y los fingerchips de pollo. Imprescindible la leche con galletas y el DIStinto de verano</td>\n",
       "      <td>0</td>\n",
       "      <td>0</td>\n",
       "      <td>54ea61b1498e74e32f320481</td>\n",
       "    </tr>\n",
       "    <tr>\n",
       "      <th>7</th>\n",
       "      <td>Probablemente la cafetería más moderna del barrio. Es también panadería, una copia de Granier. Limitadillos en variedad, pero lo que tienen está muy bueno. Son muy atentos</td>\n",
       "      <td>0</td>\n",
       "      <td>0</td>\n",
       "      <td>54e59d51498eed573988d573</td>\n",
       "    </tr>\n",
       "    <tr>\n",
       "      <th>8</th>\n",
       "      <td>Tienen ofertas de desayuno y merienda. Opciones saladas escasas y con poca gracia. Mini zumo de naranja natural por + 2€ = abuso. Simpatía y agilidad deberían ser complementarias</td>\n",
       "      <td>0</td>\n",
       "      <td>0</td>\n",
       "      <td>54e593fb498e3bd64e6f9853</td>\n",
       "    </tr>\n",
       "    <tr>\n",
       "      <th>9</th>\n",
       "      <td>Genial para tapear y tomar unas cañas (2x1 de 18 a 20h). Tostas sobre los 4-5€. La de solomillo ibérico está deliciosa. Arriba tienen un salón estupendo para darse un homenaje. Servicio mejorable</td>\n",
       "      <td>1</td>\n",
       "      <td>0</td>\n",
       "      <td>54e5917e498e2039dbc2b85b</td>\n",
       "    </tr>\n",
       "    <tr>\n",
       "      <th>10</th>\n",
       "      <td>Los días laborables para comer puedes escoger entre menú del día (11,90€) o menú especial, plato único + postre por (12,50€). Un sitio cálido, molón, estupendo a cualquier hora: cenar, café... Reserva</td>\n",
       "      <td>5</td>\n",
       "      <td>0</td>\n",
       "      <td>54d1cc6f498e0190423d7155</td>\n",
       "    </tr>\n",
       "    <tr>\n",
       "      <th>11</th>\n",
       "      <td>Ambiente estupendo, especialmente en verano. Es de esos sitios que enamoran. Ideal para venir con amigos o de cita. Carta de tostas, cocas, picoteo... Recomiendo la tosta \"Graciosa\". Vino por copas</td>\n",
       "      <td>1</td>\n",
       "      <td>0</td>\n",
       "      <td>54d13bb6498e0190423730df</td>\n",
       "    </tr>\n",
       "    <tr>\n",
       "      <th>12</th>\n",
       "      <td>Café con encanto. Rollo vintage con mobiliario antiguo. Tiene 1 piso subterráneo, también muy cuco. Buenos precios en general (2€ el té, 3,50€ las tartas... pero mínimo 1,50€ el café)</td>\n",
       "      <td>0</td>\n",
       "      <td>0</td>\n",
       "      <td>54d07ad0498eb082797a1fdf</td>\n",
       "    </tr>\n",
       "    <tr>\n",
       "      <th>13</th>\n",
       "      <td>Tienen muy buenas ofertas. Pollo asado a 4€ de lunes a viernes no festivos. Merece la pena. El resto de comida para llevar es quizá demasiado simple. Resulta poco atractiva</td>\n",
       "      <td>0</td>\n",
       "      <td>0</td>\n",
       "      <td>54c741d3498ee152cac44553</td>\n",
       "    </tr>\n",
       "    <tr>\n",
       "      <th>14</th>\n",
       "      <td>Buen sitio para tomar el aperitivo. Con terracita y en plena plaza del pueblo. Las tapas de la semana (a 2,5€) tenían buena pinta</td>\n",
       "      <td>0</td>\n",
       "      <td>0</td>\n",
       "      <td>54c6b858498e8254253b5473</td>\n",
       "    </tr>\n",
       "  </tbody>\n",
       "</table>\n",
       "</div>"
      ],
      "text/plain": [
       "                                                                                                                                                                                                        text  \\\n",
       "0   Cañas mal tiradas y sin acompañamiento. Qué menos que unas patatas o unas aceitunas. En la terraza no sirven café...                                                                                       \n",
       "1   En su interior recrea un viaje en un vagón de tren de los de antes. Billete en primera clase. Genial para tomar una copa. La comida regulera; el guacamole solo sabía a aguacate machacado                 \n",
       "2   Deberían reforzar el personal los días de promo. Aún así siempre es un placer olvidarse del mundo en TGB. Prueba la ECO con pan normal y la de pechuga de pollo. Irresistibles las patatas con alioli      \n",
       "3   Menú del día por 10€. Comida casera y saludable. Son un poco lentos. Dentro es muy bonito, pero cuesta pillar sitio. Si hace buen tiempo, aprovecha la terracita                                           \n",
       "4   Está todo exquisito. Pocos controlan en punto de la carne como ellos. Solomillo muy tierno y jugoso. La trilogía de chocolates es sublime. Genial la carga de vinos. El sitio perfecto para sorprender     \n",
       "5   El menú del día no está a la altura de lo que proyectan. Si quieres ser 'cool', cuida lo que ofreces. He comido menús más elaborados por 10€. Por 12€ y pico esperaba otra cosa. Demasiado simple          \n",
       "6   Sitio chulo con 1 carta muy original. Se compone de miniplatos (4,80€/ unidad aprox). Muy ricos los chipirones y los fingerchips de pollo. Imprescindible la leche con galletas y el DIStinto de verano    \n",
       "7   Probablemente la cafetería más moderna del barrio. Es también panadería, una copia de Granier. Limitadillos en variedad, pero lo que tienen está muy bueno. Son muy atentos                                \n",
       "8   Tienen ofertas de desayuno y merienda. Opciones saladas escasas y con poca gracia. Mini zumo de naranja natural por + 2€ = abuso. Simpatía y agilidad deberían ser complementarias                         \n",
       "9   Genial para tapear y tomar unas cañas (2x1 de 18 a 20h). Tostas sobre los 4-5€. La de solomillo ibérico está deliciosa. Arriba tienen un salón estupendo para darse un homenaje. Servicio mejorable        \n",
       "10  Los días laborables para comer puedes escoger entre menú del día (11,90€) o menú especial, plato único + postre por (12,50€). Un sitio cálido, molón, estupendo a cualquier hora: cenar, café... Reserva   \n",
       "11  Ambiente estupendo, especialmente en verano. Es de esos sitios que enamoran. Ideal para venir con amigos o de cita. Carta de tostas, cocas, picoteo... Recomiendo la tosta \"Graciosa\". Vino por copas      \n",
       "12  Café con encanto. Rollo vintage con mobiliario antiguo. Tiene 1 piso subterráneo, también muy cuco. Buenos precios en general (2€ el té, 3,50€ las tartas... pero mínimo 1,50€ el café)                    \n",
       "13  Tienen muy buenas ofertas. Pollo asado a 4€ de lunes a viernes no festivos. Merece la pena. El resto de comida para llevar es quizá demasiado simple. Resulta poco atractiva                               \n",
       "14  Buen sitio para tomar el aperitivo. Con terracita y en plena plaza del pueblo. Las tapas de la semana (a 2,5€) tenían buena pinta                                                                          \n",
       "\n",
       "    agreeCount  disagreeCount                        id  \n",
       "0   0           0              56360382cd10e24391603b17  \n",
       "1   0           0              54f564cc498e041fa70414fb  \n",
       "2   1           0              54f561b0498e8a826fb13b10  \n",
       "3   1           0              54ef60aa498e0fdca0814121  \n",
       "4   0           0              54ea651a498ea59192cd8ade  \n",
       "5   0           0              54ea63cc498e859578e2dc25  \n",
       "6   0           0              54ea61b1498e74e32f320481  \n",
       "7   0           0              54e59d51498eed573988d573  \n",
       "8   0           0              54e593fb498e3bd64e6f9853  \n",
       "9   1           0              54e5917e498e2039dbc2b85b  \n",
       "10  5           0              54d1cc6f498e0190423d7155  \n",
       "11  1           0              54d13bb6498e0190423730df  \n",
       "12  0           0              54d07ad0498eb082797a1fdf  \n",
       "13  0           0              54c741d3498ee152cac44553  \n",
       "14  0           0              54c6b858498e8254253b5473  "
      ]
     },
     "execution_count": 93,
     "metadata": {},
     "output_type": "execute_result"
    }
   ],
   "source": [
    "# define tips URL\n",
    "url = 'https://api.foursquare.com/v2/users/{}/tips?client_id={}&client_secret={}&v={}&limit={}'.format(user_id, CLIENT_ID, CLIENT_SECRET, VERSION, limit)\n",
    "\n",
    "# send GET request and get user's tips\n",
    "results = requests.get(url).json()\n",
    "tips = results['response']['tips']['items']\n",
    "\n",
    "# format column width\n",
    "pd.set_option('display.max_colwidth', -1)\n",
    "\n",
    "tips_df = json_normalize(tips)\n",
    "\n",
    "# filter columns\n",
    "filtered_columns = ['text', 'agreeCount', 'disagreeCount', 'id']\n",
    "tips_filtered = tips_df.loc[:, filtered_columns]\n",
    "\n",
    "# display user's tips\n",
    "tips_filtered"
   ]
  },
  {
   "cell_type": "markdown",
   "metadata": {},
   "source": [
    "### Let's get the venue for the tip with the greatest number of agree counts"
   ]
  },
  {
   "cell_type": "code",
   "execution_count": 94,
   "metadata": {},
   "outputs": [
    {
     "name": "stdout",
     "output_type": "stream",
     "text": [
      "Bar Galleta\n",
      "{'address': 'Calle Corredera Baja de San Pablo, 31', 'lat': 40.42268919500423, 'lng': -3.703623151100803, 'labeledLatLngs': [{'label': 'display', 'lat': 40.42268919500423, 'lng': -3.703623151100803}], 'postalCode': '28004', 'cc': 'ES', 'city': 'Madrid', 'state': 'Madrid', 'country': 'España', 'formattedAddress': ['Calle Corredera Baja de San Pablo, 31', '28004 Madrid Madrid', 'España']}\n"
     ]
    }
   ],
   "source": [
    "tip_id = '54d1cc6f498e0190423d7155' # tip id\n",
    "\n",
    "# define URL\n",
    "url = 'http://api.foursquare.com/v2/tips/{}?client_id={}&client_secret={}&v={}'.format(tip_id, CLIENT_ID, CLIENT_SECRET, VERSION)\n",
    "\n",
    "# send GET Request and examine results\n",
    "result = requests.get(url).json()\n",
    "print(result['response']['tip']['venue']['name'])\n",
    "print(result['response']['tip']['venue']['location'])"
   ]
  },
  {
   "cell_type": "markdown",
   "metadata": {},
   "source": [
    "#### Get User's friends"
   ]
  },
  {
   "cell_type": "code",
   "execution_count": 95,
   "metadata": {},
   "outputs": [
    {
     "data": {
      "text/html": [
       "<div>\n",
       "<style scoped>\n",
       "    .dataframe tbody tr th:only-of-type {\n",
       "        vertical-align: middle;\n",
       "    }\n",
       "\n",
       "    .dataframe tbody tr th {\n",
       "        vertical-align: top;\n",
       "    }\n",
       "\n",
       "    .dataframe thead th {\n",
       "        text-align: right;\n",
       "    }\n",
       "</style>\n",
       "<table border=\"1\" class=\"dataframe\">\n",
       "  <thead>\n",
       "    <tr style=\"text-align: right;\">\n",
       "      <th></th>\n",
       "      <th>bio</th>\n",
       "      <th>firstName</th>\n",
       "      <th>gender</th>\n",
       "      <th>homeCity</th>\n",
       "      <th>id</th>\n",
       "      <th>lastName</th>\n",
       "      <th>lists.groups</th>\n",
       "      <th>photo.prefix</th>\n",
       "      <th>photo.suffix</th>\n",
       "      <th>superuser</th>\n",
       "      <th>tips.count</th>\n",
       "    </tr>\n",
       "  </thead>\n",
       "  <tbody>\n",
       "    <tr>\n",
       "      <th>0</th>\n",
       "      <td></td>\n",
       "      <td>Javier</td>\n",
       "      <td>male</td>\n",
       "      <td>Cerceda-El Boalo, Comunidad de Madrid</td>\n",
       "      <td>2084760</td>\n",
       "      <td>Hernandez</td>\n",
       "      <td>[{'type': 'created', 'count': 2, 'items': []}]</td>\n",
       "      <td>https://fastly.4sqi.net/img/user/</td>\n",
       "      <td>/WTAMGYUMIOZIFEEX.jpg</td>\n",
       "      <td>NaN</td>\n",
       "      <td>9</td>\n",
       "    </tr>\n",
       "    <tr>\n",
       "      <th>1</th>\n",
       "      <td></td>\n",
       "      <td>Rebeca</td>\n",
       "      <td>female</td>\n",
       "      <td>Barcelona, Espanya</td>\n",
       "      <td>3982865</td>\n",
       "      <td>Huerga</td>\n",
       "      <td>[{'type': 'created', 'count': 8, 'items': []}]</td>\n",
       "      <td>https://fastly.4sqi.net/img/user/</td>\n",
       "      <td>/GARVW0HBV5OLG3S4.jpg</td>\n",
       "      <td>NaN</td>\n",
       "      <td>14</td>\n",
       "    </tr>\n",
       "    <tr>\n",
       "      <th>2</th>\n",
       "      <td></td>\n",
       "      <td>Cintia</td>\n",
       "      <td>female</td>\n",
       "      <td>Alicante</td>\n",
       "      <td>11020969</td>\n",
       "      <td>Torres</td>\n",
       "      <td>[{'type': 'created', 'count': 2, 'items': []}]</td>\n",
       "      <td>https://fastly.4sqi.net/img/user/</td>\n",
       "      <td>/MIV0DPNCT1WMQNXC.jpg</td>\n",
       "      <td>NaN</td>\n",
       "      <td>7</td>\n",
       "    </tr>\n",
       "    <tr>\n",
       "      <th>3</th>\n",
       "      <td>Food explorer, coffee drinker and dessert lover.</td>\n",
       "      <td>Javier I.</td>\n",
       "      <td>male</td>\n",
       "      <td>Hong Kong, China</td>\n",
       "      <td>127796</td>\n",
       "      <td>Sampedro</td>\n",
       "      <td>[{'type': 'created', 'count': 5, 'items': []}]</td>\n",
       "      <td>https://fastly.4sqi.net/img/user/</td>\n",
       "      <td>/127796-5JNCGQIAUZWRIA15.jpg</td>\n",
       "      <td>3.0</td>\n",
       "      <td>145</td>\n",
       "    </tr>\n",
       "    <tr>\n",
       "      <th>4</th>\n",
       "      <td>EriSofi</td>\n",
       "      <td>Erika Sofía</td>\n",
       "      <td>female</td>\n",
       "      <td>Valencia, España</td>\n",
       "      <td>11295391</td>\n",
       "      <td>Silva Aguilera</td>\n",
       "      <td>[{'type': 'created', 'count': 2, 'items': []}]</td>\n",
       "      <td>https://fastly.4sqi.net/img/user/</td>\n",
       "      <td>/50L0MND20WCCA5R1.jpg</td>\n",
       "      <td>NaN</td>\n",
       "      <td>9</td>\n",
       "    </tr>\n",
       "    <tr>\n",
       "      <th>5</th>\n",
       "      <td>http://asidesastre.com</td>\n",
       "      <td>Ana</td>\n",
       "      <td>female</td>\n",
       "      <td>Comunidad de Madrid</td>\n",
       "      <td>40965409</td>\n",
       "      <td>Medina</td>\n",
       "      <td>[{'type': 'created', 'count': 6, 'items': []}]</td>\n",
       "      <td>https://fastly.4sqi.net/img/user/</td>\n",
       "      <td>/VNM5HU35STLYPG4I.jpg</td>\n",
       "      <td>NaN</td>\n",
       "      <td>5</td>\n",
       "    </tr>\n",
       "    <tr>\n",
       "      <th>6</th>\n",
       "      <td>TWITTER @sugus1</td>\n",
       "      <td>Mario</td>\n",
       "      <td>male</td>\n",
       "      <td>Raleigh, NC. USA</td>\n",
       "      <td>6313603</td>\n",
       "      <td>Sugus</td>\n",
       "      <td>[{'type': 'created', 'count': 2, 'items': []}]</td>\n",
       "      <td>https://fastly.4sqi.net/img/user/</td>\n",
       "      <td>/AELI0ECY4JVYLIJO.jpg</td>\n",
       "      <td>NaN</td>\n",
       "      <td>4</td>\n",
       "    </tr>\n",
       "    <tr>\n",
       "      <th>7</th>\n",
       "      <td></td>\n",
       "      <td>José David</td>\n",
       "      <td>male</td>\n",
       "      <td>Madrid</td>\n",
       "      <td>2934581</td>\n",
       "      <td>Gómez Hernández</td>\n",
       "      <td>[{'type': 'created', 'count': 7, 'items': []}]</td>\n",
       "      <td>https://fastly.4sqi.net/img/user/</td>\n",
       "      <td>/2934581-HMGFEX2HV20NUBTU.jpg</td>\n",
       "      <td>NaN</td>\n",
       "      <td>33</td>\n",
       "    </tr>\n",
       "    <tr>\n",
       "      <th>8</th>\n",
       "      <td></td>\n",
       "      <td>Adrián</td>\n",
       "      <td>male</td>\n",
       "      <td>Zaragoza</td>\n",
       "      <td>104541243</td>\n",
       "      <td>Radillo</td>\n",
       "      <td>[{'type': 'created', 'count': 2, 'items': []}]</td>\n",
       "      <td>https://fastly.4sqi.net/img/user/</td>\n",
       "      <td>/104541243-SRDHRBB2WFOUW5FX.jpg</td>\n",
       "      <td>NaN</td>\n",
       "      <td>0</td>\n",
       "    </tr>\n",
       "    <tr>\n",
       "      <th>9</th>\n",
       "      <td></td>\n",
       "      <td>Sergio</td>\n",
       "      <td>male</td>\n",
       "      <td>Castellón de la Plana, España</td>\n",
       "      <td>5719764</td>\n",
       "      <td>Barreda Coy</td>\n",
       "      <td>[{'type': 'created', 'count': 2, 'items': []}]</td>\n",
       "      <td>https://fastly.4sqi.net/img/user/</td>\n",
       "      <td>/5719764-41BWKXOVOHZFDHR1.jpg</td>\n",
       "      <td>NaN</td>\n",
       "      <td>1</td>\n",
       "    </tr>\n",
       "  </tbody>\n",
       "</table>\n",
       "</div>"
      ],
      "text/plain": [
       "                                                bio    firstName  gender  \\\n",
       "0                                                    Javier       male     \n",
       "1                                                    Rebeca       female   \n",
       "2                                                    Cintia       female   \n",
       "3  Food explorer, coffee drinker and dessert lover.  Javier I.    male     \n",
       "4  EriSofi                                           Erika Sofía  female   \n",
       "5  http://asidesastre.com                            Ana          female   \n",
       "6  TWITTER @sugus1                                   Mario        male     \n",
       "7                                                    José David   male     \n",
       "8                                                    Adrián       male     \n",
       "9                                                    Sergio       male     \n",
       "\n",
       "                                homeCity         id         lastName  \\\n",
       "0  Cerceda-El Boalo, Comunidad de Madrid  2084760    Hernandez         \n",
       "1  Barcelona, Espanya                     3982865    Huerga            \n",
       "2  Alicante                               11020969   Torres            \n",
       "3  Hong Kong, China                       127796     Sampedro          \n",
       "4  Valencia, España                       11295391   Silva Aguilera    \n",
       "5  Comunidad de Madrid                    40965409   Medina            \n",
       "6  Raleigh, NC. USA                       6313603    Sugus             \n",
       "7  Madrid                                 2934581    Gómez Hernández   \n",
       "8  Zaragoza                               104541243  Radillo           \n",
       "9  Castellón de la Plana, España          5719764    Barreda Coy       \n",
       "\n",
       "                                     lists.groups  \\\n",
       "0  [{'type': 'created', 'count': 2, 'items': []}]   \n",
       "1  [{'type': 'created', 'count': 8, 'items': []}]   \n",
       "2  [{'type': 'created', 'count': 2, 'items': []}]   \n",
       "3  [{'type': 'created', 'count': 5, 'items': []}]   \n",
       "4  [{'type': 'created', 'count': 2, 'items': []}]   \n",
       "5  [{'type': 'created', 'count': 6, 'items': []}]   \n",
       "6  [{'type': 'created', 'count': 2, 'items': []}]   \n",
       "7  [{'type': 'created', 'count': 7, 'items': []}]   \n",
       "8  [{'type': 'created', 'count': 2, 'items': []}]   \n",
       "9  [{'type': 'created', 'count': 2, 'items': []}]   \n",
       "\n",
       "                        photo.prefix                     photo.suffix  \\\n",
       "0  https://fastly.4sqi.net/img/user/  /WTAMGYUMIOZIFEEX.jpg             \n",
       "1  https://fastly.4sqi.net/img/user/  /GARVW0HBV5OLG3S4.jpg             \n",
       "2  https://fastly.4sqi.net/img/user/  /MIV0DPNCT1WMQNXC.jpg             \n",
       "3  https://fastly.4sqi.net/img/user/  /127796-5JNCGQIAUZWRIA15.jpg      \n",
       "4  https://fastly.4sqi.net/img/user/  /50L0MND20WCCA5R1.jpg             \n",
       "5  https://fastly.4sqi.net/img/user/  /VNM5HU35STLYPG4I.jpg             \n",
       "6  https://fastly.4sqi.net/img/user/  /AELI0ECY4JVYLIJO.jpg             \n",
       "7  https://fastly.4sqi.net/img/user/  /2934581-HMGFEX2HV20NUBTU.jpg     \n",
       "8  https://fastly.4sqi.net/img/user/  /104541243-SRDHRBB2WFOUW5FX.jpg   \n",
       "9  https://fastly.4sqi.net/img/user/  /5719764-41BWKXOVOHZFDHR1.jpg     \n",
       "\n",
       "   superuser  tips.count  \n",
       "0 NaN         9           \n",
       "1 NaN         14          \n",
       "2 NaN         7           \n",
       "3  3.0        145         \n",
       "4 NaN         9           \n",
       "5 NaN         5           \n",
       "6 NaN         4           \n",
       "7 NaN         33          \n",
       "8 NaN         0           \n",
       "9 NaN         1           "
      ]
     },
     "execution_count": 95,
     "metadata": {},
     "output_type": "execute_result"
    }
   ],
   "source": [
    "user_friends = json_normalize(user_data['friends']['groups'][0]['items'])\n",
    "user_friends"
   ]
  },
  {
   "cell_type": "markdown",
   "metadata": {},
   "source": [
    "### Retrieve the User's Profile Image"
   ]
  },
  {
   "cell_type": "code",
   "execution_count": 96,
   "metadata": {},
   "outputs": [
    {
     "data": {
      "text/plain": [
       "{'id': '859148',\n",
       " 'firstName': 'Omar',\n",
       " 'lastName': 'Torres Pestano',\n",
       " 'gender': 'male',\n",
       " 'canonicalUrl': 'https://foursquare.com/torrespestano',\n",
       " 'photo': {'prefix': 'https://fastly.4sqi.net/img/user/',\n",
       "  'suffix': '/859148-UMAKLELQIDU1HW5V.jpg'},\n",
       " 'friends': {'count': 285,\n",
       "  'groups': [{'type': 'others',\n",
       "    'name': 'Other friends',\n",
       "    'count': 285,\n",
       "    'items': [{'id': '2084760',\n",
       "      'firstName': 'Javier',\n",
       "      'lastName': 'Hernandez',\n",
       "      'gender': 'male',\n",
       "      'photo': {'prefix': 'https://fastly.4sqi.net/img/user/',\n",
       "       'suffix': '/WTAMGYUMIOZIFEEX.jpg'},\n",
       "      'tips': {'count': 9},\n",
       "      'lists': {'groups': [{'type': 'created', 'count': 2, 'items': []}]},\n",
       "      'homeCity': 'Cerceda-El Boalo, Comunidad de Madrid',\n",
       "      'bio': '',\n",
       "      'contact': {}},\n",
       "     {'id': '3982865',\n",
       "      'firstName': 'Rebeca',\n",
       "      'lastName': 'Huerga',\n",
       "      'gender': 'female',\n",
       "      'photo': {'prefix': 'https://fastly.4sqi.net/img/user/',\n",
       "       'suffix': '/GARVW0HBV5OLG3S4.jpg'},\n",
       "      'tips': {'count': 14},\n",
       "      'lists': {'groups': [{'type': 'created', 'count': 8, 'items': []}]},\n",
       "      'homeCity': 'Barcelona, Espanya',\n",
       "      'bio': '',\n",
       "      'contact': {}},\n",
       "     {'id': '11020969',\n",
       "      'firstName': 'Cintia',\n",
       "      'lastName': 'Torres',\n",
       "      'gender': 'female',\n",
       "      'photo': {'prefix': 'https://fastly.4sqi.net/img/user/',\n",
       "       'suffix': '/MIV0DPNCT1WMQNXC.jpg'},\n",
       "      'tips': {'count': 7},\n",
       "      'lists': {'groups': [{'type': 'created', 'count': 2, 'items': []}]},\n",
       "      'homeCity': 'Alicante',\n",
       "      'bio': '',\n",
       "      'contact': {}},\n",
       "     {'id': '127796',\n",
       "      'firstName': 'Javier I.',\n",
       "      'lastName': 'Sampedro',\n",
       "      'gender': 'male',\n",
       "      'photo': {'prefix': 'https://fastly.4sqi.net/img/user/',\n",
       "       'suffix': '/127796-5JNCGQIAUZWRIA15.jpg'},\n",
       "      'tips': {'count': 145},\n",
       "      'lists': {'groups': [{'type': 'created', 'count': 5, 'items': []}]},\n",
       "      'homeCity': 'Hong Kong, China',\n",
       "      'bio': 'Food explorer, coffee drinker and dessert lover.',\n",
       "      'contact': {},\n",
       "      'superuser': 3},\n",
       "     {'id': '11295391',\n",
       "      'firstName': 'Erika Sofía',\n",
       "      'lastName': 'Silva Aguilera',\n",
       "      'gender': 'female',\n",
       "      'photo': {'prefix': 'https://fastly.4sqi.net/img/user/',\n",
       "       'suffix': '/50L0MND20WCCA5R1.jpg'},\n",
       "      'tips': {'count': 9},\n",
       "      'lists': {'groups': [{'type': 'created', 'count': 2, 'items': []}]},\n",
       "      'homeCity': 'Valencia, España',\n",
       "      'bio': 'EriSofi',\n",
       "      'contact': {}},\n",
       "     {'id': '40965409',\n",
       "      'firstName': 'Ana',\n",
       "      'lastName': 'Medina',\n",
       "      'gender': 'female',\n",
       "      'photo': {'prefix': 'https://fastly.4sqi.net/img/user/',\n",
       "       'suffix': '/VNM5HU35STLYPG4I.jpg'},\n",
       "      'tips': {'count': 5},\n",
       "      'lists': {'groups': [{'type': 'created', 'count': 6, 'items': []}]},\n",
       "      'homeCity': 'Comunidad de Madrid',\n",
       "      'bio': 'http://asidesastre.com',\n",
       "      'contact': {}},\n",
       "     {'id': '6313603',\n",
       "      'firstName': 'Mario',\n",
       "      'lastName': 'Sugus',\n",
       "      'gender': 'male',\n",
       "      'photo': {'prefix': 'https://fastly.4sqi.net/img/user/',\n",
       "       'suffix': '/AELI0ECY4JVYLIJO.jpg'},\n",
       "      'tips': {'count': 4},\n",
       "      'lists': {'groups': [{'type': 'created', 'count': 2, 'items': []}]},\n",
       "      'homeCity': 'Raleigh, NC. USA',\n",
       "      'bio': 'TWITTER @sugus1',\n",
       "      'contact': {}},\n",
       "     {'id': '2934581',\n",
       "      'firstName': 'José David',\n",
       "      'lastName': 'Gómez Hernández',\n",
       "      'gender': 'male',\n",
       "      'photo': {'prefix': 'https://fastly.4sqi.net/img/user/',\n",
       "       'suffix': '/2934581-HMGFEX2HV20NUBTU.jpg'},\n",
       "      'tips': {'count': 33},\n",
       "      'lists': {'groups': [{'type': 'created', 'count': 7, 'items': []}]},\n",
       "      'homeCity': 'Madrid ',\n",
       "      'bio': '',\n",
       "      'contact': {}},\n",
       "     {'id': '104541243',\n",
       "      'firstName': 'Adrián',\n",
       "      'lastName': 'Radillo',\n",
       "      'gender': 'male',\n",
       "      'photo': {'prefix': 'https://fastly.4sqi.net/img/user/',\n",
       "       'suffix': '/104541243-SRDHRBB2WFOUW5FX.jpg'},\n",
       "      'tips': {'count': 0},\n",
       "      'lists': {'groups': [{'type': 'created', 'count': 2, 'items': []}]},\n",
       "      'homeCity': 'Zaragoza',\n",
       "      'bio': '',\n",
       "      'contact': {}},\n",
       "     {'id': '5719764',\n",
       "      'firstName': 'Sergio',\n",
       "      'lastName': 'Barreda Coy',\n",
       "      'gender': 'male',\n",
       "      'photo': {'prefix': 'https://fastly.4sqi.net/img/user/',\n",
       "       'suffix': '/5719764-41BWKXOVOHZFDHR1.jpg'},\n",
       "      'tips': {'count': 1},\n",
       "      'lists': {'groups': [{'type': 'created', 'count': 2, 'items': []}]},\n",
       "      'homeCity': 'Castellón de la Plana, España',\n",
       "      'bio': '',\n",
       "      'contact': {}}]}]},\n",
       " 'tips': {'count': 427},\n",
       " 'homeCity': 'Madrid',\n",
       " 'bio': 'Canario, publicista, blogger, socialholic, viajero incansable y glotón. Profesional del turismo y Social Media Manager',\n",
       " 'contact': {},\n",
       " 'photos': {'count': 0, 'items': []},\n",
       " 'type': 'user',\n",
       " 'mayorships': {'count': 0, 'items': []},\n",
       " 'checkins': {'count': 7410, 'items': []},\n",
       " 'lists': {'count': 31,\n",
       "  'groups': [{'type': 'created',\n",
       "    'count': 14,\n",
       "    'items': [{'id': '4fea051ce4b043d55aa114ea',\n",
       "      'name': 'Comiendo por el mundo',\n",
       "      'description': '',\n",
       "      'editable': False,\n",
       "      'public': True,\n",
       "      'collaborative': False,\n",
       "      'url': '/torrespestano/list/comiendo-por-el-mundo',\n",
       "      'canonicalUrl': 'https://foursquare.com/torrespestano/list/comiendo-por-el-mundo',\n",
       "      'createdAt': 1340736796,\n",
       "      'updatedAt': 1551382171,\n",
       "      'followers': {'count': 2},\n",
       "      'listItems': {'count': 102}},\n",
       "     {'id': '4f8fcd8de4b0d6c8aa46b6d7',\n",
       "      'name': 'Zampar en Madrid',\n",
       "      'description': '',\n",
       "      'editable': False,\n",
       "      'public': True,\n",
       "      'collaborative': False,\n",
       "      'url': '/torrespestano/list/zampar-en-madrid',\n",
       "      'canonicalUrl': 'https://foursquare.com/torrespestano/list/zampar-en-madrid',\n",
       "      'createdAt': 1334824333,\n",
       "      'updatedAt': 1431210681,\n",
       "      'photo': {'id': '545639fa498e4794a694f0db',\n",
       "       'createdAt': 1414937082,\n",
       "       'prefix': 'https://fastly.4sqi.net/img/general/',\n",
       "       'suffix': '/99070412_YD2D4jfVooDkomz4do9inIpCbQKEKYt7zu7bkuPEYzA.jpg',\n",
       "       'width': 960,\n",
       "       'height': 720,\n",
       "       'user': {'id': '99070412',\n",
       "        'firstName': 'Bambi',\n",
       "        'lastName': 'No Muere',\n",
       "        'gender': 'female',\n",
       "        'photo': {'prefix': 'https://fastly.4sqi.net/img/user/',\n",
       "         'suffix': '/99070412-1CL5TTOB4RBQBZRD.jpg'}},\n",
       "       'visibility': 'public'},\n",
       "      'followers': {'count': 24},\n",
       "      'listItems': {'count': 174}},\n",
       "     {'id': '4f8ffae4e4b0ffc4654e02e1',\n",
       "      'name': 'Desayunos y meriendas en Madrid',\n",
       "      'description': '',\n",
       "      'editable': False,\n",
       "      'public': True,\n",
       "      'collaborative': False,\n",
       "      'url': '/torrespestano/list/desayunos-y-meriendas-en-madrid',\n",
       "      'canonicalUrl': 'https://foursquare.com/torrespestano/list/desayunos-y-meriendas-en-madrid',\n",
       "      'createdAt': 1334835940,\n",
       "      'updatedAt': 1430487467,\n",
       "      'followers': {'count': 54},\n",
       "      'listItems': {'count': 164}}]},\n",
       "   {'type': 'followed', 'count': 15, 'items': []},\n",
       "   {'type': 'yours',\n",
       "    'count': 2,\n",
       "    'items': [{'id': '859148/todos',\n",
       "      'name': \"Omar's Saved Places\",\n",
       "      'description': '',\n",
       "      'type': 'todos',\n",
       "      'editable': False,\n",
       "      'public': True,\n",
       "      'collaborative': False,\n",
       "      'url': '/torrespestano/list/todos',\n",
       "      'canonicalUrl': 'https://foursquare.com/torrespestano/list/todos',\n",
       "      'listItems': {'count': 457}},\n",
       "     {'id': '859148/venuelikes',\n",
       "      'name': 'Omar’s Liked Places',\n",
       "      'description': '',\n",
       "      'type': 'likes',\n",
       "      'editable': False,\n",
       "      'public': True,\n",
       "      'collaborative': False,\n",
       "      'url': '/torrespestano/list/venuelikes',\n",
       "      'canonicalUrl': 'https://foursquare.com/torrespestano/list/venuelikes',\n",
       "      'listItems': {'count': 0}}]}]},\n",
       " 'lenses': []}"
      ]
     },
     "execution_count": 96,
     "metadata": {},
     "output_type": "execute_result"
    }
   ],
   "source": [
    "user_data"
   ]
  },
  {
   "cell_type": "code",
   "execution_count": 97,
   "metadata": {},
   "outputs": [
    {
     "data": {
      "text/html": [
       "<img src=\"https://fastly.4sqi.net/img/user/300x300/859148-UMAKLELQIDU1HW5V.jpg\"/>"
      ],
      "text/plain": [
       "<IPython.core.display.Image object>"
      ]
     },
     "execution_count": 97,
     "metadata": {},
     "output_type": "execute_result"
    }
   ],
   "source": [
    "# 1. grab prefix of photo\n",
    "# 2. grab suffix of photo\n",
    "# 3. concatenate them using the image size  \n",
    "Image(url='https://fastly.4sqi.net/img/user/300x300/859148-UMAKLELQIDU1HW5V.jpg')"
   ]
  },
  {
   "cell_type": "markdown",
   "metadata": {},
   "source": [
    "## 4. Explore a location\n",
    "> `https://api.foursquare.com/v2/venues/`**explore**`?client_id=`**CLIENT_ID**`&client_secret=`**CLIENT_SECRET**`&ll=`**LATITUDE**`,`**LONGITUDE**`&v=`**VERSION**`&limit=`**LIMIT**"
   ]
  },
  {
   "cell_type": "markdown",
   "metadata": {},
   "source": [
    "#### So, you just finished your gourmet dish at 4D Caffetteria Italiana, and are just curious about the popular spots around the restaurant. In order to explore the area, let's start by getting the latitude and longitude values of 4D Caffetteria Italiana."
   ]
  },
  {
   "cell_type": "code",
   "execution_count": 98,
   "metadata": {},
   "outputs": [],
   "source": [
    "latitude = 40.413972\n",
    "longitude = -3.708090"
   ]
  },
  {
   "cell_type": "markdown",
   "metadata": {},
   "source": [
    "#### Define URL"
   ]
  },
  {
   "cell_type": "code",
   "execution_count": 99,
   "metadata": {},
   "outputs": [
    {
     "data": {
      "text/plain": [
       "'https://api.foursquare.com/v2/venues/explore?client_id=DHVNUJV5I1ISC4NZWFCINPJNV2VVKHRO3N4K2IKAIPPWP0NC&client_secret=2Q3TY50TJLOZK4FJHDEGIHG0MHVDQTNVK2ZPKOXJGNRVX2B1&ll=40.413972,-3.70809&v=20190414&radius=500&limit=30'"
      ]
     },
     "execution_count": 99,
     "metadata": {},
     "output_type": "execute_result"
    }
   ],
   "source": [
    "url = 'https://api.foursquare.com/v2/venues/explore?client_id={}&client_secret={}&ll={},{}&v={}&radius={}&limit={}'.format(CLIENT_ID, CLIENT_SECRET, latitude, longitude, VERSION, radius, LIMIT)\n",
    "url"
   ]
  },
  {
   "cell_type": "markdown",
   "metadata": {},
   "source": [
    "#### Send GET request and examine results"
   ]
  },
  {
   "cell_type": "code",
   "execution_count": 100,
   "metadata": {},
   "outputs": [],
   "source": [
    "import requests"
   ]
  },
  {
   "cell_type": "code",
   "execution_count": 101,
   "metadata": {},
   "outputs": [
    {
     "data": {
      "text/plain": [
       "'There are 30 around Ecco restaurant.'"
      ]
     },
     "execution_count": 101,
     "metadata": {},
     "output_type": "execute_result"
    }
   ],
   "source": [
    "results = requests.get(url).json()\n",
    "'There are {} around Ecco restaurant.'.format(len(results['response']['groups'][0]['items']))"
   ]
  },
  {
   "cell_type": "markdown",
   "metadata": {},
   "source": [
    "#### Get relevant part of JSON"
   ]
  },
  {
   "cell_type": "code",
   "execution_count": 102,
   "metadata": {},
   "outputs": [
    {
     "data": {
      "text/plain": [
       "{'reasons': {'count': 0,\n",
       "  'items': [{'summary': 'This spot is popular',\n",
       "    'type': 'general',\n",
       "    'reasonName': 'globalInteractionReason'}]},\n",
       " 'venue': {'id': '4adcda37f964a520193c21e3',\n",
       "  'name': 'Plaza Mayor',\n",
       "  'location': {'address': 'Pl. Mayor',\n",
       "   'lat': 40.41546580589046,\n",
       "   'lng': -3.707208854513408,\n",
       "   'distance': 182,\n",
       "   'postalCode': '28012',\n",
       "   'cc': 'ES',\n",
       "   'city': 'Madrid',\n",
       "   'state': 'Madrid',\n",
       "   'country': 'España',\n",
       "   'formattedAddress': ['Pl. Mayor', '28012 Madrid Madrid', 'España']},\n",
       "  'categories': [{'id': '4bf58dd8d48988d164941735',\n",
       "    'name': 'Plaza',\n",
       "    'pluralName': 'Plazas',\n",
       "    'shortName': 'Plaza',\n",
       "    'icon': {'prefix': 'https://ss3.4sqi.net/img/categories_v2/parks_outdoors/plaza_',\n",
       "     'suffix': '.png'},\n",
       "    'primary': True}],\n",
       "  'photos': {'count': 0, 'groups': []}},\n",
       " 'referralId': 'e-0-4adcda37f964a520193c21e3-0'}"
      ]
     },
     "execution_count": 102,
     "metadata": {},
     "output_type": "execute_result"
    }
   ],
   "source": [
    "items = results['response']['groups'][0]['items']\n",
    "items[0]"
   ]
  },
  {
   "cell_type": "markdown",
   "metadata": {},
   "source": [
    "### Process JSON and convert it to a clean dataframe"
   ]
  },
  {
   "cell_type": "code",
   "execution_count": 103,
   "metadata": {},
   "outputs": [
    {
     "data": {
      "text/html": [
       "<div>\n",
       "<style scoped>\n",
       "    .dataframe tbody tr th:only-of-type {\n",
       "        vertical-align: middle;\n",
       "    }\n",
       "\n",
       "    .dataframe tbody tr th {\n",
       "        vertical-align: top;\n",
       "    }\n",
       "\n",
       "    .dataframe thead th {\n",
       "        text-align: right;\n",
       "    }\n",
       "</style>\n",
       "<table border=\"1\" class=\"dataframe\">\n",
       "  <thead>\n",
       "    <tr style=\"text-align: right;\">\n",
       "      <th></th>\n",
       "      <th>name</th>\n",
       "      <th>categories</th>\n",
       "      <th>address</th>\n",
       "      <th>cc</th>\n",
       "      <th>city</th>\n",
       "      <th>country</th>\n",
       "      <th>crossStreet</th>\n",
       "      <th>distance</th>\n",
       "      <th>formattedAddress</th>\n",
       "      <th>labeledLatLngs</th>\n",
       "      <th>lat</th>\n",
       "      <th>lng</th>\n",
       "      <th>neighborhood</th>\n",
       "      <th>postalCode</th>\n",
       "      <th>state</th>\n",
       "      <th>id</th>\n",
       "    </tr>\n",
       "  </thead>\n",
       "  <tbody>\n",
       "    <tr>\n",
       "      <th>0</th>\n",
       "      <td>Plaza Mayor</td>\n",
       "      <td>Plaza</td>\n",
       "      <td>Pl. Mayor</td>\n",
       "      <td>ES</td>\n",
       "      <td>Madrid</td>\n",
       "      <td>España</td>\n",
       "      <td>NaN</td>\n",
       "      <td>182</td>\n",
       "      <td>[Pl. Mayor, 28012 Madrid Madrid, España]</td>\n",
       "      <td>NaN</td>\n",
       "      <td>40.415466</td>\n",
       "      <td>-3.707209</td>\n",
       "      <td>NaN</td>\n",
       "      <td>28012</td>\n",
       "      <td>Madrid</td>\n",
       "      <td>4adcda37f964a520193c21e3</td>\n",
       "    </tr>\n",
       "    <tr>\n",
       "      <th>1</th>\n",
       "      <td>Mercado de San Miguel</td>\n",
       "      <td>Market</td>\n",
       "      <td>Pl. de San Miguel</td>\n",
       "      <td>ES</td>\n",
       "      <td>Madrid</td>\n",
       "      <td>España</td>\n",
       "      <td>NaN</td>\n",
       "      <td>179</td>\n",
       "      <td>[Pl. de San Miguel, 28004 Madrid Madrid, España]</td>\n",
       "      <td>[{'label': 'display', 'lat': 40.41544294871344, 'lng': -3.708943462311585}]</td>\n",
       "      <td>40.415443</td>\n",
       "      <td>-3.708943</td>\n",
       "      <td>NaN</td>\n",
       "      <td>28004</td>\n",
       "      <td>Madrid</td>\n",
       "      <td>4adcda40f964a5206e3e21e3</td>\n",
       "    </tr>\n",
       "    <tr>\n",
       "      <th>2</th>\n",
       "      <td>La Taberna de Mister Pinkleton</td>\n",
       "      <td>Other Nightlife</td>\n",
       "      <td>Cuchilleros, 7</td>\n",
       "      <td>ES</td>\n",
       "      <td>Madrid</td>\n",
       "      <td>España</td>\n",
       "      <td>NaN</td>\n",
       "      <td>62</td>\n",
       "      <td>[Cuchilleros, 7, 28005 Madrid Madrid, España]</td>\n",
       "      <td>[{'label': 'display', 'lat': 40.414535529593635, 'lng': -3.708108373041791}]</td>\n",
       "      <td>40.414536</td>\n",
       "      <td>-3.708108</td>\n",
       "      <td>NaN</td>\n",
       "      <td>28005</td>\n",
       "      <td>Madrid</td>\n",
       "      <td>5108e3d129a6465f856837dc</td>\n",
       "    </tr>\n",
       "    <tr>\n",
       "      <th>3</th>\n",
       "      <td>The Hat Madrid</td>\n",
       "      <td>Hotel</td>\n",
       "      <td>Imperial 9</td>\n",
       "      <td>ES</td>\n",
       "      <td>Madrid</td>\n",
       "      <td>España</td>\n",
       "      <td>NaN</td>\n",
       "      <td>91</td>\n",
       "      <td>[Imperial 9, 28012 Madrid Madrid, España]</td>\n",
       "      <td>[{'label': 'display', 'lat': 40.414342796030915, 'lng': -3.70712009092247}]</td>\n",
       "      <td>40.414343</td>\n",
       "      <td>-3.707120</td>\n",
       "      <td>NaN</td>\n",
       "      <td>28012</td>\n",
       "      <td>Madrid</td>\n",
       "      <td>53106df211d2057452905bb1</td>\n",
       "    </tr>\n",
       "    <tr>\n",
       "      <th>4</th>\n",
       "      <td>Mad Café</td>\n",
       "      <td>American Restaurant</td>\n",
       "      <td>C. Cava Alta, 13</td>\n",
       "      <td>ES</td>\n",
       "      <td>Madrid</td>\n",
       "      <td>España</td>\n",
       "      <td>NaN</td>\n",
       "      <td>188</td>\n",
       "      <td>[C. Cava Alta, 13, 28005 Madrid Madrid, España]</td>\n",
       "      <td>[{'label': 'display', 'lat': 40.41237079206074, 'lng': -3.708825691824009}]</td>\n",
       "      <td>40.412371</td>\n",
       "      <td>-3.708826</td>\n",
       "      <td>NaN</td>\n",
       "      <td>28005</td>\n",
       "      <td>Madrid</td>\n",
       "      <td>4c810af3d4e23704c8b65988</td>\n",
       "    </tr>\n",
       "    <tr>\n",
       "      <th>5</th>\n",
       "      <td>Botín</td>\n",
       "      <td>Spanish Restaurant</td>\n",
       "      <td>Calle de los Cuchilleros, 17, LOC;DUP 17-19;</td>\n",
       "      <td>ES</td>\n",
       "      <td>Madrid</td>\n",
       "      <td>España</td>\n",
       "      <td>NaN</td>\n",
       "      <td>6</td>\n",
       "      <td>[Calle de los Cuchilleros, 17, LOC;DUP 17-19;, 28005 Madrid Madrid, España]</td>\n",
       "      <td>[{'label': 'display', 'lat': 40.41401880132313, 'lng': -3.708135518254039}]</td>\n",
       "      <td>40.414019</td>\n",
       "      <td>-3.708136</td>\n",
       "      <td>NaN</td>\n",
       "      <td>28005</td>\n",
       "      <td>Madrid</td>\n",
       "      <td>4b4e3e50f964a52097e626e3</td>\n",
       "    </tr>\n",
       "    <tr>\n",
       "      <th>6</th>\n",
       "      <td>La Perejila</td>\n",
       "      <td>Spanish Restaurant</td>\n",
       "      <td>C. Cava Baja</td>\n",
       "      <td>ES</td>\n",
       "      <td>Madrid</td>\n",
       "      <td>España</td>\n",
       "      <td>NaN</td>\n",
       "      <td>202</td>\n",
       "      <td>[C. Cava Baja, 28005 Madrid Madrid, España]</td>\n",
       "      <td>[{'label': 'display', 'lat': 40.41238644200305, 'lng': -3.709265060780486}]</td>\n",
       "      <td>40.412386</td>\n",
       "      <td>-3.709265</td>\n",
       "      <td>NaN</td>\n",
       "      <td>28005</td>\n",
       "      <td>Madrid</td>\n",
       "      <td>4bf852c05efe2d7fe7956a34</td>\n",
       "    </tr>\n",
       "    <tr>\n",
       "      <th>7</th>\n",
       "      <td>Mistura Ice Cream &amp; Coffee</td>\n",
       "      <td>Ice Cream Shop</td>\n",
       "      <td>C/ Ciudad Rodrigo 6</td>\n",
       "      <td>ES</td>\n",
       "      <td>Madrid</td>\n",
       "      <td>España</td>\n",
       "      <td>NaN</td>\n",
       "      <td>202</td>\n",
       "      <td>[C/ Ciudad Rodrigo 6, 28012 Madrid Madrid, España]</td>\n",
       "      <td>[{'label': 'display', 'lat': 40.415770950688945, 'lng': -3.7084411869590204}]</td>\n",
       "      <td>40.415771</td>\n",
       "      <td>-3.708441</td>\n",
       "      <td>NaN</td>\n",
       "      <td>28012</td>\n",
       "      <td>Madrid</td>\n",
       "      <td>555ca8bc498ed2981b79d93c</td>\n",
       "    </tr>\n",
       "    <tr>\n",
       "      <th>8</th>\n",
       "      <td>Bodegas Ricla</td>\n",
       "      <td>Wine Bar</td>\n",
       "      <td>C. Cuchilleros, 6</td>\n",
       "      <td>ES</td>\n",
       "      <td>Madrid</td>\n",
       "      <td>España</td>\n",
       "      <td>NaN</td>\n",
       "      <td>32</td>\n",
       "      <td>[C. Cuchilleros, 6, 28005 Madrid Madrid, España]</td>\n",
       "      <td>[{'label': 'display', 'lat': 40.414266097234574, 'lng': -3.7080774216677383}]</td>\n",
       "      <td>40.414266</td>\n",
       "      <td>-3.708077</td>\n",
       "      <td>NaN</td>\n",
       "      <td>28005</td>\n",
       "      <td>Madrid</td>\n",
       "      <td>4b4e3a7bf964a52011e626e3</td>\n",
       "    </tr>\n",
       "    <tr>\n",
       "      <th>9</th>\n",
       "      <td>Pinkleton &amp; Wine</td>\n",
       "      <td>Wine Bar</td>\n",
       "      <td>Pza. de San Miguel</td>\n",
       "      <td>ES</td>\n",
       "      <td>Madrid</td>\n",
       "      <td>España</td>\n",
       "      <td>Mercado de San Miguel</td>\n",
       "      <td>177</td>\n",
       "      <td>[Pza. de San Miguel (Mercado de San Miguel), 28005 Madrid Madrid, España]</td>\n",
       "      <td>[{'label': 'display', 'lat': 40.41538988001937, 'lng': -3.7090504621760862}]</td>\n",
       "      <td>40.415390</td>\n",
       "      <td>-3.709050</td>\n",
       "      <td>NaN</td>\n",
       "      <td>28005</td>\n",
       "      <td>Madrid</td>\n",
       "      <td>4bcf6acc046076b0bd436e71</td>\n",
       "    </tr>\n",
       "  </tbody>\n",
       "</table>\n",
       "</div>"
      ],
      "text/plain": [
       "                             name           categories  \\\n",
       "0  Plaza Mayor                     Plaza                 \n",
       "1  Mercado de San Miguel           Market                \n",
       "2  La Taberna de Mister Pinkleton  Other Nightlife       \n",
       "3  The Hat Madrid                  Hotel                 \n",
       "4  Mad Café                        American Restaurant   \n",
       "5  Botín                           Spanish Restaurant    \n",
       "6  La Perejila                     Spanish Restaurant    \n",
       "7  Mistura Ice Cream & Coffee      Ice Cream Shop        \n",
       "8  Bodegas Ricla                   Wine Bar              \n",
       "9  Pinkleton & Wine                Wine Bar              \n",
       "\n",
       "                                        address  cc    city country  \\\n",
       "0  Pl. Mayor                                     ES  Madrid  España   \n",
       "1  Pl. de San Miguel                             ES  Madrid  España   \n",
       "2  Cuchilleros, 7                                ES  Madrid  España   \n",
       "3  Imperial 9                                    ES  Madrid  España   \n",
       "4  C. Cava Alta, 13                              ES  Madrid  España   \n",
       "5  Calle de los Cuchilleros, 17, LOC;DUP 17-19;  ES  Madrid  España   \n",
       "6  C. Cava Baja                                  ES  Madrid  España   \n",
       "7  C/ Ciudad Rodrigo 6                           ES  Madrid  España   \n",
       "8  C. Cuchilleros, 6                             ES  Madrid  España   \n",
       "9  Pza. de San Miguel                            ES  Madrid  España   \n",
       "\n",
       "             crossStreet  distance  \\\n",
       "0  NaN                    182        \n",
       "1  NaN                    179        \n",
       "2  NaN                    62         \n",
       "3  NaN                    91         \n",
       "4  NaN                    188        \n",
       "5  NaN                    6          \n",
       "6  NaN                    202        \n",
       "7  NaN                    202        \n",
       "8  NaN                    32         \n",
       "9  Mercado de San Miguel  177        \n",
       "\n",
       "                                                              formattedAddress  \\\n",
       "0  [Pl. Mayor, 28012 Madrid Madrid, España]                                      \n",
       "1  [Pl. de San Miguel, 28004 Madrid Madrid, España]                              \n",
       "2  [Cuchilleros, 7, 28005 Madrid Madrid, España]                                 \n",
       "3  [Imperial 9, 28012 Madrid Madrid, España]                                     \n",
       "4  [C. Cava Alta, 13, 28005 Madrid Madrid, España]                               \n",
       "5  [Calle de los Cuchilleros, 17, LOC;DUP 17-19;, 28005 Madrid Madrid, España]   \n",
       "6  [C. Cava Baja, 28005 Madrid Madrid, España]                                   \n",
       "7  [C/ Ciudad Rodrigo 6, 28012 Madrid Madrid, España]                            \n",
       "8  [C. Cuchilleros, 6, 28005 Madrid Madrid, España]                              \n",
       "9  [Pza. de San Miguel (Mercado de San Miguel), 28005 Madrid Madrid, España]     \n",
       "\n",
       "                                                                  labeledLatLngs  \\\n",
       "0  NaN                                                                             \n",
       "1  [{'label': 'display', 'lat': 40.41544294871344, 'lng': -3.708943462311585}]     \n",
       "2  [{'label': 'display', 'lat': 40.414535529593635, 'lng': -3.708108373041791}]    \n",
       "3  [{'label': 'display', 'lat': 40.414342796030915, 'lng': -3.70712009092247}]     \n",
       "4  [{'label': 'display', 'lat': 40.41237079206074, 'lng': -3.708825691824009}]     \n",
       "5  [{'label': 'display', 'lat': 40.41401880132313, 'lng': -3.708135518254039}]     \n",
       "6  [{'label': 'display', 'lat': 40.41238644200305, 'lng': -3.709265060780486}]     \n",
       "7  [{'label': 'display', 'lat': 40.415770950688945, 'lng': -3.7084411869590204}]   \n",
       "8  [{'label': 'display', 'lat': 40.414266097234574, 'lng': -3.7080774216677383}]   \n",
       "9  [{'label': 'display', 'lat': 40.41538988001937, 'lng': -3.7090504621760862}]    \n",
       "\n",
       "         lat       lng neighborhood postalCode   state  \\\n",
       "0  40.415466 -3.707209  NaN          28012      Madrid   \n",
       "1  40.415443 -3.708943  NaN          28004      Madrid   \n",
       "2  40.414536 -3.708108  NaN          28005      Madrid   \n",
       "3  40.414343 -3.707120  NaN          28012      Madrid   \n",
       "4  40.412371 -3.708826  NaN          28005      Madrid   \n",
       "5  40.414019 -3.708136  NaN          28005      Madrid   \n",
       "6  40.412386 -3.709265  NaN          28005      Madrid   \n",
       "7  40.415771 -3.708441  NaN          28012      Madrid   \n",
       "8  40.414266 -3.708077  NaN          28005      Madrid   \n",
       "9  40.415390 -3.709050  NaN          28005      Madrid   \n",
       "\n",
       "                         id  \n",
       "0  4adcda37f964a520193c21e3  \n",
       "1  4adcda40f964a5206e3e21e3  \n",
       "2  5108e3d129a6465f856837dc  \n",
       "3  53106df211d2057452905bb1  \n",
       "4  4c810af3d4e23704c8b65988  \n",
       "5  4b4e3e50f964a52097e626e3  \n",
       "6  4bf852c05efe2d7fe7956a34  \n",
       "7  555ca8bc498ed2981b79d93c  \n",
       "8  4b4e3a7bf964a52011e626e3  \n",
       "9  4bcf6acc046076b0bd436e71  "
      ]
     },
     "execution_count": 103,
     "metadata": {},
     "output_type": "execute_result"
    }
   ],
   "source": [
    "dataframe = json_normalize(items) # flatten JSON\n",
    "\n",
    "# filter columns\n",
    "filtered_columns = ['venue.name', 'venue.categories'] + [col for col in dataframe.columns if col.startswith('venue.location.')] + ['venue.id']\n",
    "dataframe_filtered = dataframe.loc[:, filtered_columns]\n",
    "\n",
    "# filter the category for each row\n",
    "dataframe_filtered['venue.categories'] = dataframe_filtered.apply(get_category_type, axis=1)\n",
    "\n",
    "# clean columns\n",
    "dataframe_filtered.columns = [col.split('.')[-1] for col in dataframe_filtered.columns]\n",
    "\n",
    "dataframe_filtered.head(10)"
   ]
  },
  {
   "cell_type": "markdown",
   "metadata": {},
   "source": [
    "#### Let's visualize these items on the map around our location"
   ]
  },
  {
   "cell_type": "code",
   "execution_count": 104,
   "metadata": {},
   "outputs": [
    {
     "data": {
      "text/html": [
       "<div style=\"width:100%;\"><div style=\"position:relative;width:100%;height:0;padding-bottom:60%;\"><iframe src=\"data:text/html;charset=utf-8;base64,PCFET0NUWVBFIGh0bWw+CjxoZWFkPiAgICAKICAgIDxtZXRhIGh0dHAtZXF1aXY9ImNvbnRlbnQtdHlwZSIgY29udGVudD0idGV4dC9odG1sOyBjaGFyc2V0PVVURi04IiAvPgogICAgPHNjcmlwdD5MX1BSRUZFUl9DQU5WQVM9ZmFsc2U7IExfTk9fVE9VQ0g9ZmFsc2U7IExfRElTQUJMRV8zRD1mYWxzZTs8L3NjcmlwdD4KICAgIDxzY3JpcHQgc3JjPSJodHRwczovL2Nkbi5qc2RlbGl2ci5uZXQvbnBtL2xlYWZsZXRAMS40LjAvZGlzdC9sZWFmbGV0LmpzIj48L3NjcmlwdD4KICAgIDxzY3JpcHQgc3JjPSJodHRwczovL2NvZGUuanF1ZXJ5LmNvbS9qcXVlcnktMS4xMi40Lm1pbi5qcyI+PC9zY3JpcHQ+CiAgICA8c2NyaXB0IHNyYz0iaHR0cHM6Ly9tYXhjZG4uYm9vdHN0cmFwY2RuLmNvbS9ib290c3RyYXAvMy4yLjAvanMvYm9vdHN0cmFwLm1pbi5qcyI+PC9zY3JpcHQ+CiAgICA8c2NyaXB0IHNyYz0iaHR0cHM6Ly9jZG5qcy5jbG91ZGZsYXJlLmNvbS9hamF4L2xpYnMvTGVhZmxldC5hd2Vzb21lLW1hcmtlcnMvMi4wLjIvbGVhZmxldC5hd2Vzb21lLW1hcmtlcnMuanMiPjwvc2NyaXB0PgogICAgPGxpbmsgcmVsPSJzdHlsZXNoZWV0IiBocmVmPSJodHRwczovL2Nkbi5qc2RlbGl2ci5uZXQvbnBtL2xlYWZsZXRAMS40LjAvZGlzdC9sZWFmbGV0LmNzcyIvPgogICAgPGxpbmsgcmVsPSJzdHlsZXNoZWV0IiBocmVmPSJodHRwczovL21heGNkbi5ib290c3RyYXBjZG4uY29tL2Jvb3RzdHJhcC8zLjIuMC9jc3MvYm9vdHN0cmFwLm1pbi5jc3MiLz4KICAgIDxsaW5rIHJlbD0ic3R5bGVzaGVldCIgaHJlZj0iaHR0cHM6Ly9tYXhjZG4uYm9vdHN0cmFwY2RuLmNvbS9ib290c3RyYXAvMy4yLjAvY3NzL2Jvb3RzdHJhcC10aGVtZS5taW4uY3NzIi8+CiAgICA8bGluayByZWw9InN0eWxlc2hlZXQiIGhyZWY9Imh0dHBzOi8vbWF4Y2RuLmJvb3RzdHJhcGNkbi5jb20vZm9udC1hd2Vzb21lLzQuNi4zL2Nzcy9mb250LWF3ZXNvbWUubWluLmNzcyIvPgogICAgPGxpbmsgcmVsPSJzdHlsZXNoZWV0IiBocmVmPSJodHRwczovL2NkbmpzLmNsb3VkZmxhcmUuY29tL2FqYXgvbGlicy9MZWFmbGV0LmF3ZXNvbWUtbWFya2Vycy8yLjAuMi9sZWFmbGV0LmF3ZXNvbWUtbWFya2Vycy5jc3MiLz4KICAgIDxsaW5rIHJlbD0ic3R5bGVzaGVldCIgaHJlZj0iaHR0cHM6Ly9yYXdjZG4uZ2l0aGFjay5jb20vcHl0aG9uLXZpc3VhbGl6YXRpb24vZm9saXVtL21hc3Rlci9mb2xpdW0vdGVtcGxhdGVzL2xlYWZsZXQuYXdlc29tZS5yb3RhdGUuY3NzIi8+CiAgICA8c3R5bGU+aHRtbCwgYm9keSB7d2lkdGg6IDEwMCU7aGVpZ2h0OiAxMDAlO21hcmdpbjogMDtwYWRkaW5nOiAwO308L3N0eWxlPgogICAgPHN0eWxlPiNtYXAge3Bvc2l0aW9uOmFic29sdXRlO3RvcDowO2JvdHRvbTowO3JpZ2h0OjA7bGVmdDowO308L3N0eWxlPgogICAgCiAgICA8bWV0YSBuYW1lPSJ2aWV3cG9ydCIgY29udGVudD0id2lkdGg9ZGV2aWNlLXdpZHRoLAogICAgICAgIGluaXRpYWwtc2NhbGU9MS4wLCBtYXhpbXVtLXNjYWxlPTEuMCwgdXNlci1zY2FsYWJsZT1ubyIgLz4KICAgIDxzdHlsZT4jbWFwX2I1NDliY2Y1MTQ5NjRhMGE4ODA5YWFlODQ4ZjFkYWU1IHsKICAgICAgICBwb3NpdGlvbjogcmVsYXRpdmU7CiAgICAgICAgd2lkdGg6IDEwMC4wJTsKICAgICAgICBoZWlnaHQ6IDEwMC4wJTsKICAgICAgICBsZWZ0OiAwLjAlOwogICAgICAgIHRvcDogMC4wJTsKICAgICAgICB9CiAgICA8L3N0eWxlPgo8L2hlYWQ+Cjxib2R5PiAgICAKICAgIAogICAgPGRpdiBjbGFzcz0iZm9saXVtLW1hcCIgaWQ9Im1hcF9iNTQ5YmNmNTE0OTY0YTBhODgwOWFhZTg0OGYxZGFlNSIgPjwvZGl2Pgo8L2JvZHk+CjxzY3JpcHQ+ICAgIAogICAgCiAgICAKICAgICAgICB2YXIgYm91bmRzID0gbnVsbDsKICAgIAoKICAgIHZhciBtYXBfYjU0OWJjZjUxNDk2NGEwYTg4MDlhYWU4NDhmMWRhZTUgPSBMLm1hcCgKICAgICAgICAnbWFwX2I1NDliY2Y1MTQ5NjRhMGE4ODA5YWFlODQ4ZjFkYWU1JywgewogICAgICAgIGNlbnRlcjogWzQwLjQxMzk3MiwgLTMuNzA4MDldLAogICAgICAgIHpvb206IDE1LAogICAgICAgIG1heEJvdW5kczogYm91bmRzLAogICAgICAgIGxheWVyczogW10sCiAgICAgICAgd29ybGRDb3B5SnVtcDogZmFsc2UsCiAgICAgICAgY3JzOiBMLkNSUy5FUFNHMzg1NywKICAgICAgICB6b29tQ29udHJvbDogdHJ1ZSwKICAgICAgICB9KTsKCgogICAgCiAgICB2YXIgdGlsZV9sYXllcl8xOWY1ZDg1ZTFlZDg0OTU4YmMwMWRmZDBjNDBiZWY4MyA9IEwudGlsZUxheWVyKAogICAgICAgICdodHRwczovL3tzfS50aWxlLm9wZW5zdHJlZXRtYXAub3JnL3t6fS97eH0ve3l9LnBuZycsCiAgICAgICAgewogICAgICAgICJhdHRyaWJ1dGlvbiI6IG51bGwsCiAgICAgICAgImRldGVjdFJldGluYSI6IGZhbHNlLAogICAgICAgICJtYXhOYXRpdmVab29tIjogMTgsCiAgICAgICAgIm1heFpvb20iOiAxOCwKICAgICAgICAibWluWm9vbSI6IDAsCiAgICAgICAgIm5vV3JhcCI6IGZhbHNlLAogICAgICAgICJvcGFjaXR5IjogMSwKICAgICAgICAic3ViZG9tYWlucyI6ICJhYmMiLAogICAgICAgICJ0bXMiOiBmYWxzZQp9KS5hZGRUbyhtYXBfYjU0OWJjZjUxNDk2NGEwYTg4MDlhYWU4NDhmMWRhZTUpOwogICAgCiAgICAgICAgICAgIHZhciBjaXJjbGVfbWFya2VyXzFmYWQ5ZDZmYjA5MDQ4NDY5ZjcyMTg2MjA5NjRmNzZjID0gTC5jaXJjbGVNYXJrZXIoCiAgICAgICAgICAgICAgICBbNDAuNDEzOTcyLCAtMy43MDgwOV0sCiAgICAgICAgICAgICAgICB7CiAgImJ1YmJsaW5nTW91c2VFdmVudHMiOiB0cnVlLAogICJjb2xvciI6ICJyZWQiLAogICJkYXNoQXJyYXkiOiBudWxsLAogICJkYXNoT2Zmc2V0IjogbnVsbCwKICAiZmlsbCI6IHRydWUsCiAgImZpbGxDb2xvciI6ICJyZWQiLAogICJmaWxsT3BhY2l0eSI6IDAuNiwKICAiZmlsbFJ1bGUiOiAiZXZlbm9kZCIsCiAgImxpbmVDYXAiOiAicm91bmQiLAogICJsaW5lSm9pbiI6ICJyb3VuZCIsCiAgIm9wYWNpdHkiOiAxLjAsCiAgInJhZGl1cyI6IDEwLAogICJzdHJva2UiOiB0cnVlLAogICJ3ZWlnaHQiOiAzCn0KICAgICAgICAgICAgICAgICkKICAgICAgICAgICAgICAgIC5hZGRUbyhtYXBfYjU0OWJjZjUxNDk2NGEwYTg4MDlhYWU4NDhmMWRhZTUpOwogICAgICAgICAgICAKICAgIAogICAgICAgICAgICB2YXIgcG9wdXBfNDQwMTcxZGEzODcyNGVhOTg2NjQzZDg0YjQzMmI1NjQgPSBMLnBvcHVwKHttYXhXaWR0aDogJzEwMCUnCiAgICAgICAgICAgIAogICAgICAgICAgICB9KTsKCiAgICAgICAgICAgIAogICAgICAgICAgICAgICAgdmFyIGh0bWxfMjAxMzNiY2FiNzBjNGUxN2JjNGY3OWJjMzM5MGQ2ZDYgPSAkKGA8ZGl2IGlkPSJodG1sXzIwMTMzYmNhYjcwYzRlMTdiYzRmNzliYzMzOTBkNmQ2IiBzdHlsZT0id2lkdGg6IDEwMC4wJTsgaGVpZ2h0OiAxMDAuMCU7Ij5FY2NvPC9kaXY+YClbMF07CiAgICAgICAgICAgICAgICBwb3B1cF80NDAxNzFkYTM4NzI0ZWE5ODY2NDNkODRiNDMyYjU2NC5zZXRDb250ZW50KGh0bWxfMjAxMzNiY2FiNzBjNGUxN2JjNGY3OWJjMzM5MGQ2ZDYpOwogICAgICAgICAgICAKCiAgICAgICAgICAgIGNpcmNsZV9tYXJrZXJfMWZhZDlkNmZiMDkwNDg0NjlmNzIxODYyMDk2NGY3NmMuYmluZFBvcHVwKHBvcHVwXzQ0MDE3MWRhMzg3MjRlYTk4NjY0M2Q4NGI0MzJiNTY0KQogICAgICAgICAgICA7CgogICAgICAgICAgICAKICAgICAgICAKICAgIAogICAgICAgICAgICB2YXIgY2lyY2xlX21hcmtlcl9hZDk5NWUyNmYxZDU0OTA5ODMzODY0NTNlYjc3NmQ0YSA9IEwuY2lyY2xlTWFya2VyKAogICAgICAgICAgICAgICAgWzQwLjQxNTQ2NTgwNTg5MDQ2LCAtMy43MDcyMDg4NTQ1MTM0MDhdLAogICAgICAgICAgICAgICAgewogICJidWJibGluZ01vdXNlRXZlbnRzIjogdHJ1ZSwKICAiY29sb3IiOiAiYmx1ZSIsCiAgImRhc2hBcnJheSI6IG51bGwsCiAgImRhc2hPZmZzZXQiOiBudWxsLAogICJmaWxsIjogdHJ1ZSwKICAiZmlsbENvbG9yIjogImJsdWUiLAogICJmaWxsT3BhY2l0eSI6IDAuNiwKICAiZmlsbFJ1bGUiOiAiZXZlbm9kZCIsCiAgImxpbmVDYXAiOiAicm91bmQiLAogICJsaW5lSm9pbiI6ICJyb3VuZCIsCiAgIm9wYWNpdHkiOiAxLjAsCiAgInJhZGl1cyI6IDUsCiAgInN0cm9rZSI6IHRydWUsCiAgIndlaWdodCI6IDMKfQogICAgICAgICAgICAgICAgKQogICAgICAgICAgICAgICAgLmFkZFRvKG1hcF9iNTQ5YmNmNTE0OTY0YTBhODgwOWFhZTg0OGYxZGFlNSk7CiAgICAgICAgICAgIAogICAgCiAgICAgICAgICAgIHZhciBwb3B1cF8wZjYxNDE2NzI2YmE0NjM1ODhkNTQ1N2QxOGQ1NjcxZSA9IEwucG9wdXAoe21heFdpZHRoOiAnMTAwJScKICAgICAgICAgICAgCiAgICAgICAgICAgIH0pOwoKICAgICAgICAgICAgCiAgICAgICAgICAgICAgICB2YXIgaHRtbF9kYWJmOGQ5ZWQwZjQ0MjE2YWE4ZjBjNmNjZGNmYjgwYiA9ICQoYDxkaXYgaWQ9Imh0bWxfZGFiZjhkOWVkMGY0NDIxNmFhOGYwYzZjY2RjZmI4MGIiIHN0eWxlPSJ3aWR0aDogMTAwLjAlOyBoZWlnaHQ6IDEwMC4wJTsiPlBsYXphPC9kaXY+YClbMF07CiAgICAgICAgICAgICAgICBwb3B1cF8wZjYxNDE2NzI2YmE0NjM1ODhkNTQ1N2QxOGQ1NjcxZS5zZXRDb250ZW50KGh0bWxfZGFiZjhkOWVkMGY0NDIxNmFhOGYwYzZjY2RjZmI4MGIpOwogICAgICAgICAgICAKCiAgICAgICAgICAgIGNpcmNsZV9tYXJrZXJfYWQ5OTVlMjZmMWQ1NDkwOTgzMzg2NDUzZWI3NzZkNGEuYmluZFBvcHVwKHBvcHVwXzBmNjE0MTY3MjZiYTQ2MzU4OGQ1NDU3ZDE4ZDU2NzFlKQogICAgICAgICAgICA7CgogICAgICAgICAgICAKICAgICAgICAKICAgIAogICAgICAgICAgICB2YXIgY2lyY2xlX21hcmtlcl8zNWYxNDkzNjk5Yzg0NzliYjY1ODg3MzIwNjVlZThhMSA9IEwuY2lyY2xlTWFya2VyKAogICAgICAgICAgICAgICAgWzQwLjQxNTQ0Mjk0ODcxMzQ0LCAtMy43MDg5NDM0NjIzMTE1ODVdLAogICAgICAgICAgICAgICAgewogICJidWJibGluZ01vdXNlRXZlbnRzIjogdHJ1ZSwKICAiY29sb3IiOiAiYmx1ZSIsCiAgImRhc2hBcnJheSI6IG51bGwsCiAgImRhc2hPZmZzZXQiOiBudWxsLAogICJmaWxsIjogdHJ1ZSwKICAiZmlsbENvbG9yIjogImJsdWUiLAogICJmaWxsT3BhY2l0eSI6IDAuNiwKICAiZmlsbFJ1bGUiOiAiZXZlbm9kZCIsCiAgImxpbmVDYXAiOiAicm91bmQiLAogICJsaW5lSm9pbiI6ICJyb3VuZCIsCiAgIm9wYWNpdHkiOiAxLjAsCiAgInJhZGl1cyI6IDUsCiAgInN0cm9rZSI6IHRydWUsCiAgIndlaWdodCI6IDMKfQogICAgICAgICAgICAgICAgKQogICAgICAgICAgICAgICAgLmFkZFRvKG1hcF9iNTQ5YmNmNTE0OTY0YTBhODgwOWFhZTg0OGYxZGFlNSk7CiAgICAgICAgICAgIAogICAgCiAgICAgICAgICAgIHZhciBwb3B1cF9kYWViOWM1NjMwZDQ0MGZhOTJlNjc5ZGVhYjJiMTlmMSA9IEwucG9wdXAoe21heFdpZHRoOiAnMTAwJScKICAgICAgICAgICAgCiAgICAgICAgICAgIH0pOwoKICAgICAgICAgICAgCiAgICAgICAgICAgICAgICB2YXIgaHRtbF9kYmZmNTdkOWRiNTE0OTI3YjI4YjAwNDQzNmNjMWUwNSA9ICQoYDxkaXYgaWQ9Imh0bWxfZGJmZjU3ZDlkYjUxNDkyN2IyOGIwMDQ0MzZjYzFlMDUiIHN0eWxlPSJ3aWR0aDogMTAwLjAlOyBoZWlnaHQ6IDEwMC4wJTsiPk1hcmtldDwvZGl2PmApWzBdOwogICAgICAgICAgICAgICAgcG9wdXBfZGFlYjljNTYzMGQ0NDBmYTkyZTY3OWRlYWIyYjE5ZjEuc2V0Q29udGVudChodG1sX2RiZmY1N2Q5ZGI1MTQ5MjdiMjhiMDA0NDM2Y2MxZTA1KTsKICAgICAgICAgICAgCgogICAgICAgICAgICBjaXJjbGVfbWFya2VyXzM1ZjE0OTM2OTljODQ3OWJiNjU4ODczMjA2NWVlOGExLmJpbmRQb3B1cChwb3B1cF9kYWViOWM1NjMwZDQ0MGZhOTJlNjc5ZGVhYjJiMTlmMSkKICAgICAgICAgICAgOwoKICAgICAgICAgICAgCiAgICAgICAgCiAgICAKICAgICAgICAgICAgdmFyIGNpcmNsZV9tYXJrZXJfNjRjNmJjMDQ4OWNiNDdlZWIwZDJkZWMzZTA3MjE1NGQgPSBMLmNpcmNsZU1hcmtlcigKICAgICAgICAgICAgICAgIFs0MC40MTQ1MzU1Mjk1OTM2MzUsIC0zLjcwODEwODM3MzA0MTc5MV0sCiAgICAgICAgICAgICAgICB7CiAgImJ1YmJsaW5nTW91c2VFdmVudHMiOiB0cnVlLAogICJjb2xvciI6ICJibHVlIiwKICAiZGFzaEFycmF5IjogbnVsbCwKICAiZGFzaE9mZnNldCI6IG51bGwsCiAgImZpbGwiOiB0cnVlLAogICJmaWxsQ29sb3IiOiAiYmx1ZSIsCiAgImZpbGxPcGFjaXR5IjogMC42LAogICJmaWxsUnVsZSI6ICJldmVub2RkIiwKICAibGluZUNhcCI6ICJyb3VuZCIsCiAgImxpbmVKb2luIjogInJvdW5kIiwKICAib3BhY2l0eSI6IDEuMCwKICAicmFkaXVzIjogNSwKICAic3Ryb2tlIjogdHJ1ZSwKICAid2VpZ2h0IjogMwp9CiAgICAgICAgICAgICAgICApCiAgICAgICAgICAgICAgICAuYWRkVG8obWFwX2I1NDliY2Y1MTQ5NjRhMGE4ODA5YWFlODQ4ZjFkYWU1KTsKICAgICAgICAgICAgCiAgICAKICAgICAgICAgICAgdmFyIHBvcHVwXzFjMTBkZDM4Yzg2MTQ0OTBhMzJhMTEyOTAyNjI2NTk3ID0gTC5wb3B1cCh7bWF4V2lkdGg6ICcxMDAlJwogICAgICAgICAgICAKICAgICAgICAgICAgfSk7CgogICAgICAgICAgICAKICAgICAgICAgICAgICAgIHZhciBodG1sX2QzNTFjNWJhYzkzYjQzN2VhZDMwOTAxY2UwN2ExODA1ID0gJChgPGRpdiBpZD0iaHRtbF9kMzUxYzViYWM5M2I0MzdlYWQzMDkwMWNlMDdhMTgwNSIgc3R5bGU9IndpZHRoOiAxMDAuMCU7IGhlaWdodDogMTAwLjAlOyI+T3RoZXIgTmlnaHRsaWZlPC9kaXY+YClbMF07CiAgICAgICAgICAgICAgICBwb3B1cF8xYzEwZGQzOGM4NjE0NDkwYTMyYTExMjkwMjYyNjU5Ny5zZXRDb250ZW50KGh0bWxfZDM1MWM1YmFjOTNiNDM3ZWFkMzA5MDFjZTA3YTE4MDUpOwogICAgICAgICAgICAKCiAgICAgICAgICAgIGNpcmNsZV9tYXJrZXJfNjRjNmJjMDQ4OWNiNDdlZWIwZDJkZWMzZTA3MjE1NGQuYmluZFBvcHVwKHBvcHVwXzFjMTBkZDM4Yzg2MTQ0OTBhMzJhMTEyOTAyNjI2NTk3KQogICAgICAgICAgICA7CgogICAgICAgICAgICAKICAgICAgICAKICAgIAogICAgICAgICAgICB2YXIgY2lyY2xlX21hcmtlcl81MjFhYTRhOTk4ZDA0MjY3OGMwMWI2Mzg3ZjFiNDViOSA9IEwuY2lyY2xlTWFya2VyKAogICAgICAgICAgICAgICAgWzQwLjQxNDM0Mjc5NjAzMDkxNSwgLTMuNzA3MTIwMDkwOTIyNDddLAogICAgICAgICAgICAgICAgewogICJidWJibGluZ01vdXNlRXZlbnRzIjogdHJ1ZSwKICAiY29sb3IiOiAiYmx1ZSIsCiAgImRhc2hBcnJheSI6IG51bGwsCiAgImRhc2hPZmZzZXQiOiBudWxsLAogICJmaWxsIjogdHJ1ZSwKICAiZmlsbENvbG9yIjogImJsdWUiLAogICJmaWxsT3BhY2l0eSI6IDAuNiwKICAiZmlsbFJ1bGUiOiAiZXZlbm9kZCIsCiAgImxpbmVDYXAiOiAicm91bmQiLAogICJsaW5lSm9pbiI6ICJyb3VuZCIsCiAgIm9wYWNpdHkiOiAxLjAsCiAgInJhZGl1cyI6IDUsCiAgInN0cm9rZSI6IHRydWUsCiAgIndlaWdodCI6IDMKfQogICAgICAgICAgICAgICAgKQogICAgICAgICAgICAgICAgLmFkZFRvKG1hcF9iNTQ5YmNmNTE0OTY0YTBhODgwOWFhZTg0OGYxZGFlNSk7CiAgICAgICAgICAgIAogICAgCiAgICAgICAgICAgIHZhciBwb3B1cF85OGU5N2YzNWMyOTE0YjdhOTU0NTQ0M2E2YTM3NWJmZiA9IEwucG9wdXAoe21heFdpZHRoOiAnMTAwJScKICAgICAgICAgICAgCiAgICAgICAgICAgIH0pOwoKICAgICAgICAgICAgCiAgICAgICAgICAgICAgICB2YXIgaHRtbF8xZjNkNDdkMTc1NjY0MTc4YmZkYzJiZDY1MGI5ZDBhYyA9ICQoYDxkaXYgaWQ9Imh0bWxfMWYzZDQ3ZDE3NTY2NDE3OGJmZGMyYmQ2NTBiOWQwYWMiIHN0eWxlPSJ3aWR0aDogMTAwLjAlOyBoZWlnaHQ6IDEwMC4wJTsiPkhvdGVsPC9kaXY+YClbMF07CiAgICAgICAgICAgICAgICBwb3B1cF85OGU5N2YzNWMyOTE0YjdhOTU0NTQ0M2E2YTM3NWJmZi5zZXRDb250ZW50KGh0bWxfMWYzZDQ3ZDE3NTY2NDE3OGJmZGMyYmQ2NTBiOWQwYWMpOwogICAgICAgICAgICAKCiAgICAgICAgICAgIGNpcmNsZV9tYXJrZXJfNTIxYWE0YTk5OGQwNDI2NzhjMDFiNjM4N2YxYjQ1YjkuYmluZFBvcHVwKHBvcHVwXzk4ZTk3ZjM1YzI5MTRiN2E5NTQ1NDQzYTZhMzc1YmZmKQogICAgICAgICAgICA7CgogICAgICAgICAgICAKICAgICAgICAKICAgIAogICAgICAgICAgICB2YXIgY2lyY2xlX21hcmtlcl83ZGZkNzliYWFkNjg0MGRlYmVjNTZkMGYyMjk5ZDg2MyA9IEwuY2lyY2xlTWFya2VyKAogICAgICAgICAgICAgICAgWzQwLjQxMjM3MDc5MjA2MDc0LCAtMy43MDg4MjU2OTE4MjQwMDldLAogICAgICAgICAgICAgICAgewogICJidWJibGluZ01vdXNlRXZlbnRzIjogdHJ1ZSwKICAiY29sb3IiOiAiYmx1ZSIsCiAgImRhc2hBcnJheSI6IG51bGwsCiAgImRhc2hPZmZzZXQiOiBudWxsLAogICJmaWxsIjogdHJ1ZSwKICAiZmlsbENvbG9yIjogImJsdWUiLAogICJmaWxsT3BhY2l0eSI6IDAuNiwKICAiZmlsbFJ1bGUiOiAiZXZlbm9kZCIsCiAgImxpbmVDYXAiOiAicm91bmQiLAogICJsaW5lSm9pbiI6ICJyb3VuZCIsCiAgIm9wYWNpdHkiOiAxLjAsCiAgInJhZGl1cyI6IDUsCiAgInN0cm9rZSI6IHRydWUsCiAgIndlaWdodCI6IDMKfQogICAgICAgICAgICAgICAgKQogICAgICAgICAgICAgICAgLmFkZFRvKG1hcF9iNTQ5YmNmNTE0OTY0YTBhODgwOWFhZTg0OGYxZGFlNSk7CiAgICAgICAgICAgIAogICAgCiAgICAgICAgICAgIHZhciBwb3B1cF8zMWIxNzU3NDNlNTc0YmU1YmM3MjNjZDhkYmM0NDYwNCA9IEwucG9wdXAoe21heFdpZHRoOiAnMTAwJScKICAgICAgICAgICAgCiAgICAgICAgICAgIH0pOwoKICAgICAgICAgICAgCiAgICAgICAgICAgICAgICB2YXIgaHRtbF80NTliNTVmYWQxNjU0ODk2ODJmNTZkNGY4ZTczMWU2ZCA9ICQoYDxkaXYgaWQ9Imh0bWxfNDU5YjU1ZmFkMTY1NDg5NjgyZjU2ZDRmOGU3MzFlNmQiIHN0eWxlPSJ3aWR0aDogMTAwLjAlOyBoZWlnaHQ6IDEwMC4wJTsiPkFtZXJpY2FuIFJlc3RhdXJhbnQ8L2Rpdj5gKVswXTsKICAgICAgICAgICAgICAgIHBvcHVwXzMxYjE3NTc0M2U1NzRiZTViYzcyM2NkOGRiYzQ0NjA0LnNldENvbnRlbnQoaHRtbF80NTliNTVmYWQxNjU0ODk2ODJmNTZkNGY4ZTczMWU2ZCk7CiAgICAgICAgICAgIAoKICAgICAgICAgICAgY2lyY2xlX21hcmtlcl83ZGZkNzliYWFkNjg0MGRlYmVjNTZkMGYyMjk5ZDg2My5iaW5kUG9wdXAocG9wdXBfMzFiMTc1NzQzZTU3NGJlNWJjNzIzY2Q4ZGJjNDQ2MDQpCiAgICAgICAgICAgIDsKCiAgICAgICAgICAgIAogICAgICAgIAogICAgCiAgICAgICAgICAgIHZhciBjaXJjbGVfbWFya2VyX2E5NDBlNjQ5ZTJlNDRkYmZiODljYjJmM2JjZDMyZDU4ID0gTC5jaXJjbGVNYXJrZXIoCiAgICAgICAgICAgICAgICBbNDAuNDE0MDE4ODAxMzIzMTMsIC0zLjcwODEzNTUxODI1NDAzOV0sCiAgICAgICAgICAgICAgICB7CiAgImJ1YmJsaW5nTW91c2VFdmVudHMiOiB0cnVlLAogICJjb2xvciI6ICJibHVlIiwKICAiZGFzaEFycmF5IjogbnVsbCwKICAiZGFzaE9mZnNldCI6IG51bGwsCiAgImZpbGwiOiB0cnVlLAogICJmaWxsQ29sb3IiOiAiYmx1ZSIsCiAgImZpbGxPcGFjaXR5IjogMC42LAogICJmaWxsUnVsZSI6ICJldmVub2RkIiwKICAibGluZUNhcCI6ICJyb3VuZCIsCiAgImxpbmVKb2luIjogInJvdW5kIiwKICAib3BhY2l0eSI6IDEuMCwKICAicmFkaXVzIjogNSwKICAic3Ryb2tlIjogdHJ1ZSwKICAid2VpZ2h0IjogMwp9CiAgICAgICAgICAgICAgICApCiAgICAgICAgICAgICAgICAuYWRkVG8obWFwX2I1NDliY2Y1MTQ5NjRhMGE4ODA5YWFlODQ4ZjFkYWU1KTsKICAgICAgICAgICAgCiAgICAKICAgICAgICAgICAgdmFyIHBvcHVwX2I3YzU4Mjc1YTYyOTQ0NWFhMjA2ZTBlMzQ4ZDU0NzI3ID0gTC5wb3B1cCh7bWF4V2lkdGg6ICcxMDAlJwogICAgICAgICAgICAKICAgICAgICAgICAgfSk7CgogICAgICAgICAgICAKICAgICAgICAgICAgICAgIHZhciBodG1sXzk2MmM2YTJlZWNlYzRiMjNiZGMxYzY1NGFhMDAwMmE2ID0gJChgPGRpdiBpZD0iaHRtbF85NjJjNmEyZWVjZWM0YjIzYmRjMWM2NTRhYTAwMDJhNiIgc3R5bGU9IndpZHRoOiAxMDAuMCU7IGhlaWdodDogMTAwLjAlOyI+U3BhbmlzaCBSZXN0YXVyYW50PC9kaXY+YClbMF07CiAgICAgICAgICAgICAgICBwb3B1cF9iN2M1ODI3NWE2Mjk0NDVhYTIwNmUwZTM0OGQ1NDcyNy5zZXRDb250ZW50KGh0bWxfOTYyYzZhMmVlY2VjNGIyM2JkYzFjNjU0YWEwMDAyYTYpOwogICAgICAgICAgICAKCiAgICAgICAgICAgIGNpcmNsZV9tYXJrZXJfYTk0MGU2NDllMmU0NGRiZmI4OWNiMmYzYmNkMzJkNTguYmluZFBvcHVwKHBvcHVwX2I3YzU4Mjc1YTYyOTQ0NWFhMjA2ZTBlMzQ4ZDU0NzI3KQogICAgICAgICAgICA7CgogICAgICAgICAgICAKICAgICAgICAKICAgIAogICAgICAgICAgICB2YXIgY2lyY2xlX21hcmtlcl81ZjEwZmFhMGY5OWE0NWM0YWIzOGIwZWZiNTM1OGE2ZCA9IEwuY2lyY2xlTWFya2VyKAogICAgICAgICAgICAgICAgWzQwLjQxMjM4NjQ0MjAwMzA1LCAtMy43MDkyNjUwNjA3ODA0ODZdLAogICAgICAgICAgICAgICAgewogICJidWJibGluZ01vdXNlRXZlbnRzIjogdHJ1ZSwKICAiY29sb3IiOiAiYmx1ZSIsCiAgImRhc2hBcnJheSI6IG51bGwsCiAgImRhc2hPZmZzZXQiOiBudWxsLAogICJmaWxsIjogdHJ1ZSwKICAiZmlsbENvbG9yIjogImJsdWUiLAogICJmaWxsT3BhY2l0eSI6IDAuNiwKICAiZmlsbFJ1bGUiOiAiZXZlbm9kZCIsCiAgImxpbmVDYXAiOiAicm91bmQiLAogICJsaW5lSm9pbiI6ICJyb3VuZCIsCiAgIm9wYWNpdHkiOiAxLjAsCiAgInJhZGl1cyI6IDUsCiAgInN0cm9rZSI6IHRydWUsCiAgIndlaWdodCI6IDMKfQogICAgICAgICAgICAgICAgKQogICAgICAgICAgICAgICAgLmFkZFRvKG1hcF9iNTQ5YmNmNTE0OTY0YTBhODgwOWFhZTg0OGYxZGFlNSk7CiAgICAgICAgICAgIAogICAgCiAgICAgICAgICAgIHZhciBwb3B1cF9hYzJmZjhkNGVjZWU0NTFjYjU0NTgyMjc0ZGQxMDAwNCA9IEwucG9wdXAoe21heFdpZHRoOiAnMTAwJScKICAgICAgICAgICAgCiAgICAgICAgICAgIH0pOwoKICAgICAgICAgICAgCiAgICAgICAgICAgICAgICB2YXIgaHRtbF9kMjZhYzIyMmI1NTc0OWI2YTIwNjUwZmJiNDRmMzVmYyA9ICQoYDxkaXYgaWQ9Imh0bWxfZDI2YWMyMjJiNTU3NDliNmEyMDY1MGZiYjQ0ZjM1ZmMiIHN0eWxlPSJ3aWR0aDogMTAwLjAlOyBoZWlnaHQ6IDEwMC4wJTsiPlNwYW5pc2ggUmVzdGF1cmFudDwvZGl2PmApWzBdOwogICAgICAgICAgICAgICAgcG9wdXBfYWMyZmY4ZDRlY2VlNDUxY2I1NDU4MjI3NGRkMTAwMDQuc2V0Q29udGVudChodG1sX2QyNmFjMjIyYjU1NzQ5YjZhMjA2NTBmYmI0NGYzNWZjKTsKICAgICAgICAgICAgCgogICAgICAgICAgICBjaXJjbGVfbWFya2VyXzVmMTBmYWEwZjk5YTQ1YzRhYjM4YjBlZmI1MzU4YTZkLmJpbmRQb3B1cChwb3B1cF9hYzJmZjhkNGVjZWU0NTFjYjU0NTgyMjc0ZGQxMDAwNCkKICAgICAgICAgICAgOwoKICAgICAgICAgICAgCiAgICAgICAgCiAgICAKICAgICAgICAgICAgdmFyIGNpcmNsZV9tYXJrZXJfZTJjZTkyNWIzNTM1NDkzZDllMGJjMzg4Y2FlM2UxMTggPSBMLmNpcmNsZU1hcmtlcigKICAgICAgICAgICAgICAgIFs0MC40MTU3NzA5NTA2ODg5NDUsIC0zLjcwODQ0MTE4Njk1OTAyMDRdLAogICAgICAgICAgICAgICAgewogICJidWJibGluZ01vdXNlRXZlbnRzIjogdHJ1ZSwKICAiY29sb3IiOiAiYmx1ZSIsCiAgImRhc2hBcnJheSI6IG51bGwsCiAgImRhc2hPZmZzZXQiOiBudWxsLAogICJmaWxsIjogdHJ1ZSwKICAiZmlsbENvbG9yIjogImJsdWUiLAogICJmaWxsT3BhY2l0eSI6IDAuNiwKICAiZmlsbFJ1bGUiOiAiZXZlbm9kZCIsCiAgImxpbmVDYXAiOiAicm91bmQiLAogICJsaW5lSm9pbiI6ICJyb3VuZCIsCiAgIm9wYWNpdHkiOiAxLjAsCiAgInJhZGl1cyI6IDUsCiAgInN0cm9rZSI6IHRydWUsCiAgIndlaWdodCI6IDMKfQogICAgICAgICAgICAgICAgKQogICAgICAgICAgICAgICAgLmFkZFRvKG1hcF9iNTQ5YmNmNTE0OTY0YTBhODgwOWFhZTg0OGYxZGFlNSk7CiAgICAgICAgICAgIAogICAgCiAgICAgICAgICAgIHZhciBwb3B1cF9lZDgyYTNhZTcyYjk0MmY3OTU5MGRkODE1OTcxZTM4OSA9IEwucG9wdXAoe21heFdpZHRoOiAnMTAwJScKICAgICAgICAgICAgCiAgICAgICAgICAgIH0pOwoKICAgICAgICAgICAgCiAgICAgICAgICAgICAgICB2YXIgaHRtbF8zZTkxOTkwYjU1MWU0OTBlOGQyOWM3NWU5N2I3NzAyYyA9ICQoYDxkaXYgaWQ9Imh0bWxfM2U5MTk5MGI1NTFlNDkwZThkMjljNzVlOTdiNzcwMmMiIHN0eWxlPSJ3aWR0aDogMTAwLjAlOyBoZWlnaHQ6IDEwMC4wJTsiPkljZSBDcmVhbSBTaG9wPC9kaXY+YClbMF07CiAgICAgICAgICAgICAgICBwb3B1cF9lZDgyYTNhZTcyYjk0MmY3OTU5MGRkODE1OTcxZTM4OS5zZXRDb250ZW50KGh0bWxfM2U5MTk5MGI1NTFlNDkwZThkMjljNzVlOTdiNzcwMmMpOwogICAgICAgICAgICAKCiAgICAgICAgICAgIGNpcmNsZV9tYXJrZXJfZTJjZTkyNWIzNTM1NDkzZDllMGJjMzg4Y2FlM2UxMTguYmluZFBvcHVwKHBvcHVwX2VkODJhM2FlNzJiOTQyZjc5NTkwZGQ4MTU5NzFlMzg5KQogICAgICAgICAgICA7CgogICAgICAgICAgICAKICAgICAgICAKICAgIAogICAgICAgICAgICB2YXIgY2lyY2xlX21hcmtlcl8wMjk1OWMwYWYyODQ0OWZjYjYyM2MwODlhNTI1MWE2YSA9IEwuY2lyY2xlTWFya2VyKAogICAgICAgICAgICAgICAgWzQwLjQxNDI2NjA5NzIzNDU3NCwgLTMuNzA4MDc3NDIxNjY3NzM4M10sCiAgICAgICAgICAgICAgICB7CiAgImJ1YmJsaW5nTW91c2VFdmVudHMiOiB0cnVlLAogICJjb2xvciI6ICJibHVlIiwKICAiZGFzaEFycmF5IjogbnVsbCwKICAiZGFzaE9mZnNldCI6IG51bGwsCiAgImZpbGwiOiB0cnVlLAogICJmaWxsQ29sb3IiOiAiYmx1ZSIsCiAgImZpbGxPcGFjaXR5IjogMC42LAogICJmaWxsUnVsZSI6ICJldmVub2RkIiwKICAibGluZUNhcCI6ICJyb3VuZCIsCiAgImxpbmVKb2luIjogInJvdW5kIiwKICAib3BhY2l0eSI6IDEuMCwKICAicmFkaXVzIjogNSwKICAic3Ryb2tlIjogdHJ1ZSwKICAid2VpZ2h0IjogMwp9CiAgICAgICAgICAgICAgICApCiAgICAgICAgICAgICAgICAuYWRkVG8obWFwX2I1NDliY2Y1MTQ5NjRhMGE4ODA5YWFlODQ4ZjFkYWU1KTsKICAgICAgICAgICAgCiAgICAKICAgICAgICAgICAgdmFyIHBvcHVwX2ZjMmQ2NDYxOTAxZjRjNzViZmJmYjg1YmFmOTcxM2IyID0gTC5wb3B1cCh7bWF4V2lkdGg6ICcxMDAlJwogICAgICAgICAgICAKICAgICAgICAgICAgfSk7CgogICAgICAgICAgICAKICAgICAgICAgICAgICAgIHZhciBodG1sX2M4NzM2ZTJiNDQ1NDQxZmViMDUxMjFlZmJiOGNmNDI1ID0gJChgPGRpdiBpZD0iaHRtbF9jODczNmUyYjQ0NTQ0MWZlYjA1MTIxZWZiYjhjZjQyNSIgc3R5bGU9IndpZHRoOiAxMDAuMCU7IGhlaWdodDogMTAwLjAlOyI+V2luZSBCYXI8L2Rpdj5gKVswXTsKICAgICAgICAgICAgICAgIHBvcHVwX2ZjMmQ2NDYxOTAxZjRjNzViZmJmYjg1YmFmOTcxM2IyLnNldENvbnRlbnQoaHRtbF9jODczNmUyYjQ0NTQ0MWZlYjA1MTIxZWZiYjhjZjQyNSk7CiAgICAgICAgICAgIAoKICAgICAgICAgICAgY2lyY2xlX21hcmtlcl8wMjk1OWMwYWYyODQ0OWZjYjYyM2MwODlhNTI1MWE2YS5iaW5kUG9wdXAocG9wdXBfZmMyZDY0NjE5MDFmNGM3NWJmYmZiODViYWY5NzEzYjIpCiAgICAgICAgICAgIDsKCiAgICAgICAgICAgIAogICAgICAgIAogICAgCiAgICAgICAgICAgIHZhciBjaXJjbGVfbWFya2VyXzI4N2Q4MDkzZTNhYTQ0OThhNzVjNjVmYzgzOWNkMzY2ID0gTC5jaXJjbGVNYXJrZXIoCiAgICAgICAgICAgICAgICBbNDAuNDE1Mzg5ODgwMDE5MzcsIC0zLjcwOTA1MDQ2MjE3NjA4NjJdLAogICAgICAgICAgICAgICAgewogICJidWJibGluZ01vdXNlRXZlbnRzIjogdHJ1ZSwKICAiY29sb3IiOiAiYmx1ZSIsCiAgImRhc2hBcnJheSI6IG51bGwsCiAgImRhc2hPZmZzZXQiOiBudWxsLAogICJmaWxsIjogdHJ1ZSwKICAiZmlsbENvbG9yIjogImJsdWUiLAogICJmaWxsT3BhY2l0eSI6IDAuNiwKICAiZmlsbFJ1bGUiOiAiZXZlbm9kZCIsCiAgImxpbmVDYXAiOiAicm91bmQiLAogICJsaW5lSm9pbiI6ICJyb3VuZCIsCiAgIm9wYWNpdHkiOiAxLjAsCiAgInJhZGl1cyI6IDUsCiAgInN0cm9rZSI6IHRydWUsCiAgIndlaWdodCI6IDMKfQogICAgICAgICAgICAgICAgKQogICAgICAgICAgICAgICAgLmFkZFRvKG1hcF9iNTQ5YmNmNTE0OTY0YTBhODgwOWFhZTg0OGYxZGFlNSk7CiAgICAgICAgICAgIAogICAgCiAgICAgICAgICAgIHZhciBwb3B1cF81YzY2MmFlMTJjZjQ0MDI0YmJlY2I2MDA2MzcwMmMwMCA9IEwucG9wdXAoe21heFdpZHRoOiAnMTAwJScKICAgICAgICAgICAgCiAgICAgICAgICAgIH0pOwoKICAgICAgICAgICAgCiAgICAgICAgICAgICAgICB2YXIgaHRtbF9hMTc5NWRmODhiZTA0N2Y1OWU0MWRhYzgwZGRhMzYzNiA9ICQoYDxkaXYgaWQ9Imh0bWxfYTE3OTVkZjg4YmUwNDdmNTllNDFkYWM4MGRkYTM2MzYiIHN0eWxlPSJ3aWR0aDogMTAwLjAlOyBoZWlnaHQ6IDEwMC4wJTsiPldpbmUgQmFyPC9kaXY+YClbMF07CiAgICAgICAgICAgICAgICBwb3B1cF81YzY2MmFlMTJjZjQ0MDI0YmJlY2I2MDA2MzcwMmMwMC5zZXRDb250ZW50KGh0bWxfYTE3OTVkZjg4YmUwNDdmNTllNDFkYWM4MGRkYTM2MzYpOwogICAgICAgICAgICAKCiAgICAgICAgICAgIGNpcmNsZV9tYXJrZXJfMjg3ZDgwOTNlM2FhNDQ5OGE3NWM2NWZjODM5Y2QzNjYuYmluZFBvcHVwKHBvcHVwXzVjNjYyYWUxMmNmNDQwMjRiYmVjYjYwMDYzNzAyYzAwKQogICAgICAgICAgICA7CgogICAgICAgICAgICAKICAgICAgICAKICAgIAogICAgICAgICAgICB2YXIgY2lyY2xlX21hcmtlcl83YWQwY2Q2MTA0MDQ0YTY3OTUyZjZiYmQ0NDcxNzY1ZCA9IEwuY2lyY2xlTWFya2VyKAogICAgICAgICAgICAgICAgWzQwLjQxMjczLCAtMy43MDk2MTddLAogICAgICAgICAgICAgICAgewogICJidWJibGluZ01vdXNlRXZlbnRzIjogdHJ1ZSwKICAiY29sb3IiOiAiYmx1ZSIsCiAgImRhc2hBcnJheSI6IG51bGwsCiAgImRhc2hPZmZzZXQiOiBudWxsLAogICJmaWxsIjogdHJ1ZSwKICAiZmlsbENvbG9yIjogImJsdWUiLAogICJmaWxsT3BhY2l0eSI6IDAuNiwKICAiZmlsbFJ1bGUiOiAiZXZlbm9kZCIsCiAgImxpbmVDYXAiOiAicm91bmQiLAogICJsaW5lSm9pbiI6ICJyb3VuZCIsCiAgIm9wYWNpdHkiOiAxLjAsCiAgInJhZGl1cyI6IDUsCiAgInN0cm9rZSI6IHRydWUsCiAgIndlaWdodCI6IDMKfQogICAgICAgICAgICAgICAgKQogICAgICAgICAgICAgICAgLmFkZFRvKG1hcF9iNTQ5YmNmNTE0OTY0YTBhODgwOWFhZTg0OGYxZGFlNSk7CiAgICAgICAgICAgIAogICAgCiAgICAgICAgICAgIHZhciBwb3B1cF81NzQyMjk3NWNiYjE0ZjQyYTM1NGFhZDQ1ZTllYTczMyA9IEwucG9wdXAoe21heFdpZHRoOiAnMTAwJScKICAgICAgICAgICAgCiAgICAgICAgICAgIH0pOwoKICAgICAgICAgICAgCiAgICAgICAgICAgICAgICB2YXIgaHRtbF9jMDM3ZWFjMDU4NGQ0OTA1YjdmYTlhODc2NjBkZjk5MSA9ICQoYDxkaXYgaWQ9Imh0bWxfYzAzN2VhYzA1ODRkNDkwNWI3ZmE5YTg3NjYwZGY5OTEiIHN0eWxlPSJ3aWR0aDogMTAwLjAlOyBoZWlnaHQ6IDEwMC4wJTsiPlNwYW5pc2ggUmVzdGF1cmFudDwvZGl2PmApWzBdOwogICAgICAgICAgICAgICAgcG9wdXBfNTc0MjI5NzVjYmIxNGY0MmEzNTRhYWQ0NWU5ZWE3MzMuc2V0Q29udGVudChodG1sX2MwMzdlYWMwNTg0ZDQ5MDViN2ZhOWE4NzY2MGRmOTkxKTsKICAgICAgICAgICAgCgogICAgICAgICAgICBjaXJjbGVfbWFya2VyXzdhZDBjZDYxMDQwNDRhNjc5NTJmNmJiZDQ0NzE3NjVkLmJpbmRQb3B1cChwb3B1cF81NzQyMjk3NWNiYjE0ZjQyYTM1NGFhZDQ1ZTllYTczMykKICAgICAgICAgICAgOwoKICAgICAgICAgICAgCiAgICAgICAgCiAgICAKICAgICAgICAgICAgdmFyIGNpcmNsZV9tYXJrZXJfODBhNGRlYTcxNzBhNDZmMGE0ZjU3MzllNDk3YTQyYjYgPSBMLmNpcmNsZU1hcmtlcigKICAgICAgICAgICAgICAgIFs0MC40MTQ5NTYyNDk3MDMwNzQsIC0zLjcwODIzMjUzNTg2ODc2MTZdLAogICAgICAgICAgICAgICAgewogICJidWJibGluZ01vdXNlRXZlbnRzIjogdHJ1ZSwKICAiY29sb3IiOiAiYmx1ZSIsCiAgImRhc2hBcnJheSI6IG51bGwsCiAgImRhc2hPZmZzZXQiOiBudWxsLAogICJmaWxsIjogdHJ1ZSwKICAiZmlsbENvbG9yIjogImJsdWUiLAogICJmaWxsT3BhY2l0eSI6IDAuNiwKICAiZmlsbFJ1bGUiOiAiZXZlbm9kZCIsCiAgImxpbmVDYXAiOiAicm91bmQiLAogICJsaW5lSm9pbiI6ICJyb3VuZCIsCiAgIm9wYWNpdHkiOiAxLjAsCiAgInJhZGl1cyI6IDUsCiAgInN0cm9rZSI6IHRydWUsCiAgIndlaWdodCI6IDMKfQogICAgICAgICAgICAgICAgKQogICAgICAgICAgICAgICAgLmFkZFRvKG1hcF9iNTQ5YmNmNTE0OTY0YTBhODgwOWFhZTg0OGYxZGFlNSk7CiAgICAgICAgICAgIAogICAgCiAgICAgICAgICAgIHZhciBwb3B1cF85MTZiMmQxMDViNzA0MTRkOGNiZTI5YzAxNTc4MWRlYiA9IEwucG9wdXAoe21heFdpZHRoOiAnMTAwJScKICAgICAgICAgICAgCiAgICAgICAgICAgIH0pOwoKICAgICAgICAgICAgCiAgICAgICAgICAgICAgICB2YXIgaHRtbF9jNzZlY2E5ZDExMjM0NzM2YTgxZmE1NTU0MjVlNDhkYiA9ICQoYDxkaXYgaWQ9Imh0bWxfYzc2ZWNhOWQxMTIzNDczNmE4MWZhNTU1NDI1ZTQ4ZGIiIHN0eWxlPSJ3aWR0aDogMTAwLjAlOyBoZWlnaHQ6IDEwMC4wJTsiPlRhcGFzIFJlc3RhdXJhbnQ8L2Rpdj5gKVswXTsKICAgICAgICAgICAgICAgIHBvcHVwXzkxNmIyZDEwNWI3MDQxNGQ4Y2JlMjljMDE1NzgxZGViLnNldENvbnRlbnQoaHRtbF9jNzZlY2E5ZDExMjM0NzM2YTgxZmE1NTU0MjVlNDhkYik7CiAgICAgICAgICAgIAoKICAgICAgICAgICAgY2lyY2xlX21hcmtlcl84MGE0ZGVhNzE3MGE0NmYwYTRmNTczOWU0OTdhNDJiNi5iaW5kUG9wdXAocG9wdXBfOTE2YjJkMTA1YjcwNDE0ZDhjYmUyOWMwMTU3ODFkZWIpCiAgICAgICAgICAgIDsKCiAgICAgICAgICAgIAogICAgICAgIAogICAgCiAgICAgICAgICAgIHZhciBjaXJjbGVfbWFya2VyXzA1YmIyYTMzMzgwZTQ0MmI4ZjVlY2YwYjA3Y2U4YTljID0gTC5jaXJjbGVNYXJrZXIoCiAgICAgICAgICAgICAgICBbNDAuNDEyMTc3NjA2NDIwODA1LCAtMy43MDkyMjMyMjg3NjU1NzhdLAogICAgICAgICAgICAgICAgewogICJidWJibGluZ01vdXNlRXZlbnRzIjogdHJ1ZSwKICAiY29sb3IiOiAiYmx1ZSIsCiAgImRhc2hBcnJheSI6IG51bGwsCiAgImRhc2hPZmZzZXQiOiBudWxsLAogICJmaWxsIjogdHJ1ZSwKICAiZmlsbENvbG9yIjogImJsdWUiLAogICJmaWxsT3BhY2l0eSI6IDAuNiwKICAiZmlsbFJ1bGUiOiAiZXZlbm9kZCIsCiAgImxpbmVDYXAiOiAicm91bmQiLAogICJsaW5lSm9pbiI6ICJyb3VuZCIsCiAgIm9wYWNpdHkiOiAxLjAsCiAgInJhZGl1cyI6IDUsCiAgInN0cm9rZSI6IHRydWUsCiAgIndlaWdodCI6IDMKfQogICAgICAgICAgICAgICAgKQogICAgICAgICAgICAgICAgLmFkZFRvKG1hcF9iNTQ5YmNmNTE0OTY0YTBhODgwOWFhZTg0OGYxZGFlNSk7CiAgICAgICAgICAgIAogICAgCiAgICAgICAgICAgIHZhciBwb3B1cF80ZGI5OWY3ZWU1M2I0Y2RmODlkZmQ5MTJkOTRiZjVmZiA9IEwucG9wdXAoe21heFdpZHRoOiAnMTAwJScKICAgICAgICAgICAgCiAgICAgICAgICAgIH0pOwoKICAgICAgICAgICAgCiAgICAgICAgICAgICAgICB2YXIgaHRtbF9lYzgzNmUxZTVjYjg0OWU3YmE0YmI0ODlmMjNkMDBhMiA9ICQoYDxkaXYgaWQ9Imh0bWxfZWM4MzZlMWU1Y2I4NDllN2JhNGJiNDg5ZjIzZDAwYTIiIHN0eWxlPSJ3aWR0aDogMTAwLjAlOyBoZWlnaHQ6IDEwMC4wJTsiPlRhcGFzIFJlc3RhdXJhbnQ8L2Rpdj5gKVswXTsKICAgICAgICAgICAgICAgIHBvcHVwXzRkYjk5ZjdlZTUzYjRjZGY4OWRmZDkxMmQ5NGJmNWZmLnNldENvbnRlbnQoaHRtbF9lYzgzNmUxZTVjYjg0OWU3YmE0YmI0ODlmMjNkMDBhMik7CiAgICAgICAgICAgIAoKICAgICAgICAgICAgY2lyY2xlX21hcmtlcl8wNWJiMmEzMzM4MGU0NDJiOGY1ZWNmMGIwN2NlOGE5Yy5iaW5kUG9wdXAocG9wdXBfNGRiOTlmN2VlNTNiNGNkZjg5ZGZkOTEyZDk0YmY1ZmYpCiAgICAgICAgICAgIDsKCiAgICAgICAgICAgIAogICAgICAgIAogICAgCiAgICAgICAgICAgIHZhciBjaXJjbGVfbWFya2VyXzMzNmRiYWY2YzRiYzQyZTU5MGVjN2U2NWRkZGY0YTMxID0gTC5jaXJjbGVNYXJrZXIoCiAgICAgICAgICAgICAgICBbNDAuNDEyMzE0ODU1MjEwMjM0LCAtMy43MDk0MzY3MjI4MjkyNzU3XSwKICAgICAgICAgICAgICAgIHsKICAiYnViYmxpbmdNb3VzZUV2ZW50cyI6IHRydWUsCiAgImNvbG9yIjogImJsdWUiLAogICJkYXNoQXJyYXkiOiBudWxsLAogICJkYXNoT2Zmc2V0IjogbnVsbCwKICAiZmlsbCI6IHRydWUsCiAgImZpbGxDb2xvciI6ICJibHVlIiwKICAiZmlsbE9wYWNpdHkiOiAwLjYsCiAgImZpbGxSdWxlIjogImV2ZW5vZGQiLAogICJsaW5lQ2FwIjogInJvdW5kIiwKICAibGluZUpvaW4iOiAicm91bmQiLAogICJvcGFjaXR5IjogMS4wLAogICJyYWRpdXMiOiA1LAogICJzdHJva2UiOiB0cnVlLAogICJ3ZWlnaHQiOiAzCn0KICAgICAgICAgICAgICAgICkKICAgICAgICAgICAgICAgIC5hZGRUbyhtYXBfYjU0OWJjZjUxNDk2NGEwYTg4MDlhYWU4NDhmMWRhZTUpOwogICAgICAgICAgICAKICAgIAogICAgICAgICAgICB2YXIgcG9wdXBfZDEyYzQ0MGZkOTgxNDFhMWIxM2Q4MWZjYmE1NzI0OGMgPSBMLnBvcHVwKHttYXhXaWR0aDogJzEwMCUnCiAgICAgICAgICAgIAogICAgICAgICAgICB9KTsKCiAgICAgICAgICAgIAogICAgICAgICAgICAgICAgdmFyIGh0bWxfZTI2NjljMDE2OTg0NGE0YWE5OTk2NmJmMTAyMjMxNjYgPSAkKGA8ZGl2IGlkPSJodG1sX2UyNjY5YzAxNjk4NDRhNGFhOTk5NjZiZjEwMjIzMTY2IiBzdHlsZT0id2lkdGg6IDEwMC4wJTsgaGVpZ2h0OiAxMDAuMCU7Ij5UYXBhcyBSZXN0YXVyYW50PC9kaXY+YClbMF07CiAgICAgICAgICAgICAgICBwb3B1cF9kMTJjNDQwZmQ5ODE0MWExYjEzZDgxZmNiYTU3MjQ4Yy5zZXRDb250ZW50KGh0bWxfZTI2NjljMDE2OTg0NGE0YWE5OTk2NmJmMTAyMjMxNjYpOwogICAgICAgICAgICAKCiAgICAgICAgICAgIGNpcmNsZV9tYXJrZXJfMzM2ZGJhZjZjNGJjNDJlNTkwZWM3ZTY1ZGRkZjRhMzEuYmluZFBvcHVwKHBvcHVwX2QxMmM0NDBmZDk4MTQxYTFiMTNkODFmY2JhNTcyNDhjKQogICAgICAgICAgICA7CgogICAgICAgICAgICAKICAgICAgICAKICAgIAogICAgICAgICAgICB2YXIgY2lyY2xlX21hcmtlcl8xNWIwMjY1NjZiN2M0ZDIzODM4NmM1ZmQ2MTg0Y2QzNiA9IEwuY2lyY2xlTWFya2VyKAogICAgICAgICAgICAgICAgWzQwLjQxNDg4MTk1NDIzMTYyNSwgLTMuNzA2Nzc0NTcwMDAwMzYzXSwKICAgICAgICAgICAgICAgIHsKICAiYnViYmxpbmdNb3VzZUV2ZW50cyI6IHRydWUsCiAgImNvbG9yIjogImJsdWUiLAogICJkYXNoQXJyYXkiOiBudWxsLAogICJkYXNoT2Zmc2V0IjogbnVsbCwKICAiZmlsbCI6IHRydWUsCiAgImZpbGxDb2xvciI6ICJibHVlIiwKICAiZmlsbE9wYWNpdHkiOiAwLjYsCiAgImZpbGxSdWxlIjogImV2ZW5vZGQiLAogICJsaW5lQ2FwIjogInJvdW5kIiwKICAibGluZUpvaW4iOiAicm91bmQiLAogICJvcGFjaXR5IjogMS4wLAogICJyYWRpdXMiOiA1LAogICJzdHJva2UiOiB0cnVlLAogICJ3ZWlnaHQiOiAzCn0KICAgICAgICAgICAgICAgICkKICAgICAgICAgICAgICAgIC5hZGRUbyhtYXBfYjU0OWJjZjUxNDk2NGEwYTg4MDlhYWU4NDhmMWRhZTUpOwogICAgICAgICAgICAKICAgIAogICAgICAgICAgICB2YXIgcG9wdXBfMjBmODBkYWYzZDk2NGUzZjg2NWRmNGE5OWI5ZWNjYjkgPSBMLnBvcHVwKHttYXhXaWR0aDogJzEwMCUnCiAgICAgICAgICAgIAogICAgICAgICAgICB9KTsKCiAgICAgICAgICAgIAogICAgICAgICAgICAgICAgdmFyIGh0bWxfNTJmNjFiODFjMWE3NDc4NjgxYWZiZWVhYjU3N2MxZDcgPSAkKGA8ZGl2IGlkPSJodG1sXzUyZjYxYjgxYzFhNzQ3ODY4MWFmYmVlYWI1NzdjMWQ3IiBzdHlsZT0id2lkdGg6IDEwMC4wJTsgaGVpZ2h0OiAxMDAuMCU7Ij5TcGFuaXNoIFJlc3RhdXJhbnQ8L2Rpdj5gKVswXTsKICAgICAgICAgICAgICAgIHBvcHVwXzIwZjgwZGFmM2Q5NjRlM2Y4NjVkZjRhOTliOWVjY2I5LnNldENvbnRlbnQoaHRtbF81MmY2MWI4MWMxYTc0Nzg2ODFhZmJlZWFiNTc3YzFkNyk7CiAgICAgICAgICAgIAoKICAgICAgICAgICAgY2lyY2xlX21hcmtlcl8xNWIwMjY1NjZiN2M0ZDIzODM4NmM1ZmQ2MTg0Y2QzNi5iaW5kUG9wdXAocG9wdXBfMjBmODBkYWYzZDk2NGUzZjg2NWRmNGE5OWI5ZWNjYjkpCiAgICAgICAgICAgIDsKCiAgICAgICAgICAgIAogICAgICAgIAogICAgCiAgICAgICAgICAgIHZhciBjaXJjbGVfbWFya2VyX2UxNWI4ZjM0NzE0YTRlZmZhMGU0MTY3ZGUwODA5ZWI5ID0gTC5jaXJjbGVNYXJrZXIoCiAgICAgICAgICAgICAgICBbNDAuNDE0MTM4MzYwMzQ3OTYsIC0zLjcwOTY4NDUwODE3NjIyNV0sCiAgICAgICAgICAgICAgICB7CiAgImJ1YmJsaW5nTW91c2VFdmVudHMiOiB0cnVlLAogICJjb2xvciI6ICJibHVlIiwKICAiZGFzaEFycmF5IjogbnVsbCwKICAiZGFzaE9mZnNldCI6IG51bGwsCiAgImZpbGwiOiB0cnVlLAogICJmaWxsQ29sb3IiOiAiYmx1ZSIsCiAgImZpbGxPcGFjaXR5IjogMC42LAogICJmaWxsUnVsZSI6ICJldmVub2RkIiwKICAibGluZUNhcCI6ICJyb3VuZCIsCiAgImxpbmVKb2luIjogInJvdW5kIiwKICAib3BhY2l0eSI6IDEuMCwKICAicmFkaXVzIjogNSwKICAic3Ryb2tlIjogdHJ1ZSwKICAid2VpZ2h0IjogMwp9CiAgICAgICAgICAgICAgICApCiAgICAgICAgICAgICAgICAuYWRkVG8obWFwX2I1NDliY2Y1MTQ5NjRhMGE4ODA5YWFlODQ4ZjFkYWU1KTsKICAgICAgICAgICAgCiAgICAKICAgICAgICAgICAgdmFyIHBvcHVwXzlmMTUwNTU1NTkxYTRkNDQ5OGU2MTNlZjZmZDNlYzI0ID0gTC5wb3B1cCh7bWF4V2lkdGg6ICcxMDAlJwogICAgICAgICAgICAKICAgICAgICAgICAgfSk7CgogICAgICAgICAgICAKICAgICAgICAgICAgICAgIHZhciBodG1sXzQ5MWIxMDIzNTE3ODQ4OGQ5NWE4YzEwZWRlOWViMTNhID0gJChgPGRpdiBpZD0iaHRtbF80OTFiMTAyMzUxNzg0ODhkOTVhOGMxMGVkZTllYjEzYSIgc3R5bGU9IndpZHRoOiAxMDAuMCU7IGhlaWdodDogMTAwLjAlOyI+Q2h1cmNoPC9kaXY+YClbMF07CiAgICAgICAgICAgICAgICBwb3B1cF85ZjE1MDU1NTU5MWE0ZDQ0OThlNjEzZWY2ZmQzZWMyNC5zZXRDb250ZW50KGh0bWxfNDkxYjEwMjM1MTc4NDg4ZDk1YThjMTBlZGU5ZWIxM2EpOwogICAgICAgICAgICAKCiAgICAgICAgICAgIGNpcmNsZV9tYXJrZXJfZTE1YjhmMzQ3MTRhNGVmZmEwZTQxNjdkZTA4MDllYjkuYmluZFBvcHVwKHBvcHVwXzlmMTUwNTU1NTkxYTRkNDQ5OGU2MTNlZjZmZDNlYzI0KQogICAgICAgICAgICA7CgogICAgICAgICAgICAKICAgICAgICAKICAgIAogICAgICAgICAgICB2YXIgY2lyY2xlX21hcmtlcl9kYzJmOTFjODNhMzQ0YjZmYWI3N2U0MWFhZmRhMGI4NCA9IEwuY2lyY2xlTWFya2VyKAogICAgICAgICAgICAgICAgWzQwLjQxNDQ1OTcyNDE3NjAxLCAtMy43MDg3NzM2Njk5NTY5NDE0XSwKICAgICAgICAgICAgICAgIHsKICAiYnViYmxpbmdNb3VzZUV2ZW50cyI6IHRydWUsCiAgImNvbG9yIjogImJsdWUiLAogICJkYXNoQXJyYXkiOiBudWxsLAogICJkYXNoT2Zmc2V0IjogbnVsbCwKICAiZmlsbCI6IHRydWUsCiAgImZpbGxDb2xvciI6ICJibHVlIiwKICAiZmlsbE9wYWNpdHkiOiAwLjYsCiAgImZpbGxSdWxlIjogImV2ZW5vZGQiLAogICJsaW5lQ2FwIjogInJvdW5kIiwKICAibGluZUpvaW4iOiAicm91bmQiLAogICJvcGFjaXR5IjogMS4wLAogICJyYWRpdXMiOiA1LAogICJzdHJva2UiOiB0cnVlLAogICJ3ZWlnaHQiOiAzCn0KICAgICAgICAgICAgICAgICkKICAgICAgICAgICAgICAgIC5hZGRUbyhtYXBfYjU0OWJjZjUxNDk2NGEwYTg4MDlhYWU4NDhmMWRhZTUpOwogICAgICAgICAgICAKICAgIAogICAgICAgICAgICB2YXIgcG9wdXBfNGY1MWEyMGQxYWZmNDBhYzgwNDIyYmE1MmE1YWFmYzUgPSBMLnBvcHVwKHttYXhXaWR0aDogJzEwMCUnCiAgICAgICAgICAgIAogICAgICAgICAgICB9KTsKCiAgICAgICAgICAgIAogICAgICAgICAgICAgICAgdmFyIGh0bWxfNjMzZTVjNzllNTdjNGNkNGIyYzBhNTZlMTU4MDFlZDQgPSAkKGA8ZGl2IGlkPSJodG1sXzYzM2U1Yzc5ZTU3YzRjZDRiMmMwYTU2ZTE1ODAxZWQ0IiBzdHlsZT0id2lkdGg6IDEwMC4wJTsgaGVpZ2h0OiAxMDAuMCU7Ij5DYWbDqTwvZGl2PmApWzBdOwogICAgICAgICAgICAgICAgcG9wdXBfNGY1MWEyMGQxYWZmNDBhYzgwNDIyYmE1MmE1YWFmYzUuc2V0Q29udGVudChodG1sXzYzM2U1Yzc5ZTU3YzRjZDRiMmMwYTU2ZTE1ODAxZWQ0KTsKICAgICAgICAgICAgCgogICAgICAgICAgICBjaXJjbGVfbWFya2VyX2RjMmY5MWM4M2EzNDRiNmZhYjc3ZTQxYWFmZGEwYjg0LmJpbmRQb3B1cChwb3B1cF80ZjUxYTIwZDFhZmY0MGFjODA0MjJiYTUyYTVhYWZjNSkKICAgICAgICAgICAgOwoKICAgICAgICAgICAgCiAgICAgICAgCiAgICAKICAgICAgICAgICAgdmFyIGNpcmNsZV9tYXJrZXJfOThmM2EyMmI2YzQ0NGFjOWI5ZDIyNWFiM2EzY2UxN2YgPSBMLmNpcmNsZU1hcmtlcigKICAgICAgICAgICAgICAgIFs0MC40MTU0MDg2MDE3ODg2NTYsIC0zLjcxMDM5MDkyNDIxMzE5Ml0sCiAgICAgICAgICAgICAgICB7CiAgImJ1YmJsaW5nTW91c2VFdmVudHMiOiB0cnVlLAogICJjb2xvciI6ICJibHVlIiwKICAiZGFzaEFycmF5IjogbnVsbCwKICAiZGFzaE9mZnNldCI6IG51bGwsCiAgImZpbGwiOiB0cnVlLAogICJmaWxsQ29sb3IiOiAiYmx1ZSIsCiAgImZpbGxPcGFjaXR5IjogMC42LAogICJmaWxsUnVsZSI6ICJldmVub2RkIiwKICAibGluZUNhcCI6ICJyb3VuZCIsCiAgImxpbmVKb2luIjogInJvdW5kIiwKICAib3BhY2l0eSI6IDEuMCwKICAicmFkaXVzIjogNSwKICAic3Ryb2tlIjogdHJ1ZSwKICAid2VpZ2h0IjogMwp9CiAgICAgICAgICAgICAgICApCiAgICAgICAgICAgICAgICAuYWRkVG8obWFwX2I1NDliY2Y1MTQ5NjRhMGE4ODA5YWFlODQ4ZjFkYWU1KTsKICAgICAgICAgICAgCiAgICAKICAgICAgICAgICAgdmFyIHBvcHVwX2QyMjBmMTgxMTgyZTQ2ZDdhMjdhMzA5NDQ4NzkxY2M1ID0gTC5wb3B1cCh7bWF4V2lkdGg6ICcxMDAlJwogICAgICAgICAgICAKICAgICAgICAgICAgfSk7CgogICAgICAgICAgICAKICAgICAgICAgICAgICAgIHZhciBodG1sX2I4YTAxZDY1NWNkOTQzOTViNWMyNzc4MTViMzNiMzRiID0gJChgPGRpdiBpZD0iaHRtbF9iOGEwMWQ2NTVjZDk0Mzk1YjVjMjc3ODE1YjMzYjM0YiIgc3R5bGU9IndpZHRoOiAxMDAuMCU7IGhlaWdodDogMTAwLjAlOyI+SGlzdG9yaWMgU2l0ZTwvZGl2PmApWzBdOwogICAgICAgICAgICAgICAgcG9wdXBfZDIyMGYxODExODJlNDZkN2EyN2EzMDk0NDg3OTFjYzUuc2V0Q29udGVudChodG1sX2I4YTAxZDY1NWNkOTQzOTViNWMyNzc4MTViMzNiMzRiKTsKICAgICAgICAgICAgCgogICAgICAgICAgICBjaXJjbGVfbWFya2VyXzk4ZjNhMjJiNmM0NDRhYzliOWQyMjVhYjNhM2NlMTdmLmJpbmRQb3B1cChwb3B1cF9kMjIwZjE4MTE4MmU0NmQ3YTI3YTMwOTQ0ODc5MWNjNSkKICAgICAgICAgICAgOwoKICAgICAgICAgICAgCiAgICAgICAgCiAgICAKICAgICAgICAgICAgdmFyIGNpcmNsZV9tYXJrZXJfMzVmOGY5MjFkNDQwNGI3MGJjN2ZkMjljOWYwOGQ1OTcgPSBMLmNpcmNsZU1hcmtlcigKICAgICAgICAgICAgICAgIFs0MC40MTMwNDEzMjcxNjc5MywgLTMuNzA4MzkyNjk4MzI2NDQ3N10sCiAgICAgICAgICAgICAgICB7CiAgImJ1YmJsaW5nTW91c2VFdmVudHMiOiB0cnVlLAogICJjb2xvciI6ICJibHVlIiwKICAiZGFzaEFycmF5IjogbnVsbCwKICAiZGFzaE9mZnNldCI6IG51bGwsCiAgImZpbGwiOiB0cnVlLAogICJmaWxsQ29sb3IiOiAiYmx1ZSIsCiAgImZpbGxPcGFjaXR5IjogMC42LAogICJmaWxsUnVsZSI6ICJldmVub2RkIiwKICAibGluZUNhcCI6ICJyb3VuZCIsCiAgImxpbmVKb2luIjogInJvdW5kIiwKICAib3BhY2l0eSI6IDEuMCwKICAicmFkaXVzIjogNSwKICAic3Ryb2tlIjogdHJ1ZSwKICAid2VpZ2h0IjogMwp9CiAgICAgICAgICAgICAgICApCiAgICAgICAgICAgICAgICAuYWRkVG8obWFwX2I1NDliY2Y1MTQ5NjRhMGE4ODA5YWFlODQ4ZjFkYWU1KTsKICAgICAgICAgICAgCiAgICAKICAgICAgICAgICAgdmFyIHBvcHVwX2Q2MmM0MmY4MmI2OTQzYTZiNWNlOTVjZTZlYzU0MzQwID0gTC5wb3B1cCh7bWF4V2lkdGg6ICcxMDAlJwogICAgICAgICAgICAKICAgICAgICAgICAgfSk7CgogICAgICAgICAgICAKICAgICAgICAgICAgICAgIHZhciBodG1sXzZlNjc5MzdlZTJkMDQyZTY5MjlmZWNlOWE4MjdhNjJhID0gJChgPGRpdiBpZD0iaHRtbF82ZTY3OTM3ZWUyZDA0MmU2OTI5ZmVjZTlhODI3YTYyYSIgc3R5bGU9IndpZHRoOiAxMDAuMCU7IGhlaWdodDogMTAwLjAlOyI+UmVzdGF1cmFudDwvZGl2PmApWzBdOwogICAgICAgICAgICAgICAgcG9wdXBfZDYyYzQyZjgyYjY5NDNhNmI1Y2U5NWNlNmVjNTQzNDAuc2V0Q29udGVudChodG1sXzZlNjc5MzdlZTJkMDQyZTY5MjlmZWNlOWE4MjdhNjJhKTsKICAgICAgICAgICAgCgogICAgICAgICAgICBjaXJjbGVfbWFya2VyXzM1ZjhmOTIxZDQ0MDRiNzBiYzdmZDI5YzlmMDhkNTk3LmJpbmRQb3B1cChwb3B1cF9kNjJjNDJmODJiNjk0M2E2YjVjZTk1Y2U2ZWM1NDM0MCkKICAgICAgICAgICAgOwoKICAgICAgICAgICAgCiAgICAgICAgCiAgICAKICAgICAgICAgICAgdmFyIGNpcmNsZV9tYXJrZXJfY2I2MzNlODdjNTAyNDcyYzkxNjViMjlkZjk1MDZjZGEgPSBMLmNpcmNsZU1hcmtlcigKICAgICAgICAgICAgICAgIFs0MC40MTIwNzI3NTMsIC0zLjcwOTcwMDU1NF0sCiAgICAgICAgICAgICAgICB7CiAgImJ1YmJsaW5nTW91c2VFdmVudHMiOiB0cnVlLAogICJjb2xvciI6ICJibHVlIiwKICAiZGFzaEFycmF5IjogbnVsbCwKICAiZGFzaE9mZnNldCI6IG51bGwsCiAgImZpbGwiOiB0cnVlLAogICJmaWxsQ29sb3IiOiAiYmx1ZSIsCiAgImZpbGxPcGFjaXR5IjogMC42LAogICJmaWxsUnVsZSI6ICJldmVub2RkIiwKICAibGluZUNhcCI6ICJyb3VuZCIsCiAgImxpbmVKb2luIjogInJvdW5kIiwKICAib3BhY2l0eSI6IDEuMCwKICAicmFkaXVzIjogNSwKICAic3Ryb2tlIjogdHJ1ZSwKICAid2VpZ2h0IjogMwp9CiAgICAgICAgICAgICAgICApCiAgICAgICAgICAgICAgICAuYWRkVG8obWFwX2I1NDliY2Y1MTQ5NjRhMGE4ODA5YWFlODQ4ZjFkYWU1KTsKICAgICAgICAgICAgCiAgICAKICAgICAgICAgICAgdmFyIHBvcHVwX2JmMDlhZDYzMzE5ZTQ1Yjg5ZjU5NWU5NGNjMGViNmJlID0gTC5wb3B1cCh7bWF4V2lkdGg6ICcxMDAlJwogICAgICAgICAgICAKICAgICAgICAgICAgfSk7CgogICAgICAgICAgICAKICAgICAgICAgICAgICAgIHZhciBodG1sXzdlMDkyMTczNWZhZTRmMzI5YmZkMWI5M2FiMmQwOGZkID0gJChgPGRpdiBpZD0iaHRtbF83ZTA5MjE3MzVmYWU0ZjMyOWJmZDFiOTNhYjJkMDhmZCIgc3R5bGU9IndpZHRoOiAxMDAuMCU7IGhlaWdodDogMTAwLjAlOyI+U3BhbmlzaCBSZXN0YXVyYW50PC9kaXY+YClbMF07CiAgICAgICAgICAgICAgICBwb3B1cF9iZjA5YWQ2MzMxOWU0NWI4OWY1OTVlOTRjYzBlYjZiZS5zZXRDb250ZW50KGh0bWxfN2UwOTIxNzM1ZmFlNGYzMjliZmQxYjkzYWIyZDA4ZmQpOwogICAgICAgICAgICAKCiAgICAgICAgICAgIGNpcmNsZV9tYXJrZXJfY2I2MzNlODdjNTAyNDcyYzkxNjViMjlkZjk1MDZjZGEuYmluZFBvcHVwKHBvcHVwX2JmMDlhZDYzMzE5ZTQ1Yjg5ZjU5NWU5NGNjMGViNmJlKQogICAgICAgICAgICA7CgogICAgICAgICAgICAKICAgICAgICAKICAgIAogICAgICAgICAgICB2YXIgY2lyY2xlX21hcmtlcl9hYTM4OGNmOGRhM2Y0NDNiOGZkN2RmZTQzZTQ0ZGMwZCA9IEwuY2lyY2xlTWFya2VyKAogICAgICAgICAgICAgICAgWzQwLjQxMzY2MzMyMTIzNjY3NiwgLTMuNzA1NDQ3ODAwNTM1MjQxXSwKICAgICAgICAgICAgICAgIHsKICAiYnViYmxpbmdNb3VzZUV2ZW50cyI6IHRydWUsCiAgImNvbG9yIjogImJsdWUiLAogICJkYXNoQXJyYXkiOiBudWxsLAogICJkYXNoT2Zmc2V0IjogbnVsbCwKICAiZmlsbCI6IHRydWUsCiAgImZpbGxDb2xvciI6ICJibHVlIiwKICAiZmlsbE9wYWNpdHkiOiAwLjYsCiAgImZpbGxSdWxlIjogImV2ZW5vZGQiLAogICJsaW5lQ2FwIjogInJvdW5kIiwKICAibGluZUpvaW4iOiAicm91bmQiLAogICJvcGFjaXR5IjogMS4wLAogICJyYWRpdXMiOiA1LAogICJzdHJva2UiOiB0cnVlLAogICJ3ZWlnaHQiOiAzCn0KICAgICAgICAgICAgICAgICkKICAgICAgICAgICAgICAgIC5hZGRUbyhtYXBfYjU0OWJjZjUxNDk2NGEwYTg4MDlhYWU4NDhmMWRhZTUpOwogICAgICAgICAgICAKICAgIAogICAgICAgICAgICB2YXIgcG9wdXBfOGVlYmNkMzdiNmJiNDc3YTkwZWZkZGUwMjJkZWY1NWEgPSBMLnBvcHVwKHttYXhXaWR0aDogJzEwMCUnCiAgICAgICAgICAgIAogICAgICAgICAgICB9KTsKCiAgICAgICAgICAgIAogICAgICAgICAgICAgICAgdmFyIGh0bWxfZTVhNWJiNjU1ZTIzNDcwZjk5YjYzZGMxOTBmODU0ZTEgPSAkKGA8ZGl2IGlkPSJodG1sX2U1YTViYjY1NWUyMzQ3MGY5OWI2M2RjMTkwZjg1NGUxIiBzdHlsZT0id2lkdGg6IDEwMC4wJTsgaGVpZ2h0OiAxMDAuMCU7Ij5IaXN0b3J5IE11c2V1bTwvZGl2PmApWzBdOwogICAgICAgICAgICAgICAgcG9wdXBfOGVlYmNkMzdiNmJiNDc3YTkwZWZkZGUwMjJkZWY1NWEuc2V0Q29udGVudChodG1sX2U1YTViYjY1NWUyMzQ3MGY5OWI2M2RjMTkwZjg1NGUxKTsKICAgICAgICAgICAgCgogICAgICAgICAgICBjaXJjbGVfbWFya2VyX2FhMzg4Y2Y4ZGEzZjQ0M2I4ZmQ3ZGZlNDNlNDRkYzBkLmJpbmRQb3B1cChwb3B1cF84ZWViY2QzN2I2YmI0NzdhOTBlZmRkZTAyMmRlZjU1YSkKICAgICAgICAgICAgOwoKICAgICAgICAgICAgCiAgICAgICAgCiAgICAKICAgICAgICAgICAgdmFyIGNpcmNsZV9tYXJrZXJfZDQ5NjdhZDc5YTc4NGJlYzlkZTI1ZDE4YWNlOWExYWIgPSBMLmNpcmNsZU1hcmtlcigKICAgICAgICAgICAgICAgIFs0MC40MTM1ODE5ODM2MTM0NTQsIC0zLjcxMDI0MTg3OTEyODQwNzNdLAogICAgICAgICAgICAgICAgewogICJidWJibGluZ01vdXNlRXZlbnRzIjogdHJ1ZSwKICAiY29sb3IiOiAiYmx1ZSIsCiAgImRhc2hBcnJheSI6IG51bGwsCiAgImRhc2hPZmZzZXQiOiBudWxsLAogICJmaWxsIjogdHJ1ZSwKICAiZmlsbENvbG9yIjogImJsdWUiLAogICJmaWxsT3BhY2l0eSI6IDAuNiwKICAiZmlsbFJ1bGUiOiAiZXZlbm9kZCIsCiAgImxpbmVDYXAiOiAicm91bmQiLAogICJsaW5lSm9pbiI6ICJyb3VuZCIsCiAgIm9wYWNpdHkiOiAxLjAsCiAgInJhZGl1cyI6IDUsCiAgInN0cm9rZSI6IHRydWUsCiAgIndlaWdodCI6IDMKfQogICAgICAgICAgICAgICAgKQogICAgICAgICAgICAgICAgLmFkZFRvKG1hcF9iNTQ5YmNmNTE0OTY0YTBhODgwOWFhZTg0OGYxZGFlNSk7CiAgICAgICAgICAgIAogICAgCiAgICAgICAgICAgIHZhciBwb3B1cF9kMjIxZWU5ODM5Zjg0ZTY0YjE2YmYzY2Q5Mjk3YTU0NyA9IEwucG9wdXAoe21heFdpZHRoOiAnMTAwJScKICAgICAgICAgICAgCiAgICAgICAgICAgIH0pOwoKICAgICAgICAgICAgCiAgICAgICAgICAgICAgICB2YXIgaHRtbF8xMzUyYWEwYmU2MzE0YTkzODhjZDc4ZDRjYTNkODgwMiA9ICQoYDxkaXYgaWQ9Imh0bWxfMTM1MmFhMGJlNjMxNGE5Mzg4Y2Q3OGQ0Y2EzZDg4MDIiIHN0eWxlPSJ3aWR0aDogMTAwLjAlOyBoZWlnaHQ6IDEwMC4wJTsiPkJlZXIgQmFyPC9kaXY+YClbMF07CiAgICAgICAgICAgICAgICBwb3B1cF9kMjIxZWU5ODM5Zjg0ZTY0YjE2YmYzY2Q5Mjk3YTU0Ny5zZXRDb250ZW50KGh0bWxfMTM1MmFhMGJlNjMxNGE5Mzg4Y2Q3OGQ0Y2EzZDg4MDIpOwogICAgICAgICAgICAKCiAgICAgICAgICAgIGNpcmNsZV9tYXJrZXJfZDQ5NjdhZDc5YTc4NGJlYzlkZTI1ZDE4YWNlOWExYWIuYmluZFBvcHVwKHBvcHVwX2QyMjFlZTk4MzlmODRlNjRiMTZiZjNjZDkyOTdhNTQ3KQogICAgICAgICAgICA7CgogICAgICAgICAgICAKICAgICAgICAKICAgIAogICAgICAgICAgICB2YXIgY2lyY2xlX21hcmtlcl8wYTE2NzZkODQ4MDI0NTBhYTBhMzRmOTI5YjY1Y2U3MSA9IEwuY2lyY2xlTWFya2VyKAogICAgICAgICAgICAgICAgWzQwLjQxNDU1NjYxNTI2NTEyLCAtMy43MDY4MzA4ODUyNjY0NzRdLAogICAgICAgICAgICAgICAgewogICJidWJibGluZ01vdXNlRXZlbnRzIjogdHJ1ZSwKICAiY29sb3IiOiAiYmx1ZSIsCiAgImRhc2hBcnJheSI6IG51bGwsCiAgImRhc2hPZmZzZXQiOiBudWxsLAogICJmaWxsIjogdHJ1ZSwKICAiZmlsbENvbG9yIjogImJsdWUiLAogICJmaWxsT3BhY2l0eSI6IDAuNiwKICAiZmlsbFJ1bGUiOiAiZXZlbm9kZCIsCiAgImxpbmVDYXAiOiAicm91bmQiLAogICJsaW5lSm9pbiI6ICJyb3VuZCIsCiAgIm9wYWNpdHkiOiAxLjAsCiAgInJhZGl1cyI6IDUsCiAgInN0cm9rZSI6IHRydWUsCiAgIndlaWdodCI6IDMKfQogICAgICAgICAgICAgICAgKQogICAgICAgICAgICAgICAgLmFkZFRvKG1hcF9iNTQ5YmNmNTE0OTY0YTBhODgwOWFhZTg0OGYxZGFlNSk7CiAgICAgICAgICAgIAogICAgCiAgICAgICAgICAgIHZhciBwb3B1cF85OTJjZTMxNGZkMjM0Zjg4YjIyOTdkYjdlMmJkNzg5ZSA9IEwucG9wdXAoe21heFdpZHRoOiAnMTAwJScKICAgICAgICAgICAgCiAgICAgICAgICAgIH0pOwoKICAgICAgICAgICAgCiAgICAgICAgICAgICAgICB2YXIgaHRtbF81YTFhODVhZjE1OTg0ZTcwOTlkNzQ4ZWRlNzA2ODE3MCA9ICQoYDxkaXYgaWQ9Imh0bWxfNWExYTg1YWYxNTk4NGU3MDk5ZDc0OGVkZTcwNjgxNzAiIHN0eWxlPSJ3aWR0aDogMTAwLjAlOyBoZWlnaHQ6IDEwMC4wJTsiPkJpc3RybzwvZGl2PmApWzBdOwogICAgICAgICAgICAgICAgcG9wdXBfOTkyY2UzMTRmZDIzNGY4OGIyMjk3ZGI3ZTJiZDc4OWUuc2V0Q29udGVudChodG1sXzVhMWE4NWFmMTU5ODRlNzA5OWQ3NDhlZGU3MDY4MTcwKTsKICAgICAgICAgICAgCgogICAgICAgICAgICBjaXJjbGVfbWFya2VyXzBhMTY3NmQ4NDgwMjQ1MGFhMGEzNGY5MjliNjVjZTcxLmJpbmRQb3B1cChwb3B1cF85OTJjZTMxNGZkMjM0Zjg4YjIyOTdkYjdlMmJkNzg5ZSkKICAgICAgICAgICAgOwoKICAgICAgICAgICAgCiAgICAgICAgCiAgICAKICAgICAgICAgICAgdmFyIGNpcmNsZV9tYXJrZXJfY2JhOWUzYjVlMTdmNGI4NjlhMjNlYjlmOWRiNDM4ZDggPSBMLmNpcmNsZU1hcmtlcigKICAgICAgICAgICAgICAgIFs0MC40MTIxODk1MzQwNzExNSwgLTMuNzA2MDI4MzU1MDg4NTk0NF0sCiAgICAgICAgICAgICAgICB7CiAgImJ1YmJsaW5nTW91c2VFdmVudHMiOiB0cnVlLAogICJjb2xvciI6ICJibHVlIiwKICAiZGFzaEFycmF5IjogbnVsbCwKICAiZGFzaE9mZnNldCI6IG51bGwsCiAgImZpbGwiOiB0cnVlLAogICJmaWxsQ29sb3IiOiAiYmx1ZSIsCiAgImZpbGxPcGFjaXR5IjogMC42LAogICJmaWxsUnVsZSI6ICJldmVub2RkIiwKICAibGluZUNhcCI6ICJyb3VuZCIsCiAgImxpbmVKb2luIjogInJvdW5kIiwKICAib3BhY2l0eSI6IDEuMCwKICAicmFkaXVzIjogNSwKICAic3Ryb2tlIjogdHJ1ZSwKICAid2VpZ2h0IjogMwp9CiAgICAgICAgICAgICAgICApCiAgICAgICAgICAgICAgICAuYWRkVG8obWFwX2I1NDliY2Y1MTQ5NjRhMGE4ODA5YWFlODQ4ZjFkYWU1KTsKICAgICAgICAgICAgCiAgICAKICAgICAgICAgICAgdmFyIHBvcHVwXzc3NDc3M2NlM2I3YjQzZWNhOGY4NmE5NjBkOWQxMWQ3ID0gTC5wb3B1cCh7bWF4V2lkdGg6ICcxMDAlJwogICAgICAgICAgICAKICAgICAgICAgICAgfSk7CgogICAgICAgICAgICAKICAgICAgICAgICAgICAgIHZhciBodG1sXzc5ZjE2ZmY4YjA5MTQ4YjM4MGVjYTg0YTI4YjE4YWM4ID0gJChgPGRpdiBpZD0iaHRtbF83OWYxNmZmOGIwOTE0OGIzODBlY2E4NGEyOGIxOGFjOCIgc3R5bGU9IndpZHRoOiAxMDAuMCU7IGhlaWdodDogMTAwLjAlOyI+SW5kaWUgTW92aWUgVGhlYXRlcjwvZGl2PmApWzBdOwogICAgICAgICAgICAgICAgcG9wdXBfNzc0NzczY2UzYjdiNDNlY2E4Zjg2YTk2MGQ5ZDExZDcuc2V0Q29udGVudChodG1sXzc5ZjE2ZmY4YjA5MTQ4YjM4MGVjYTg0YTI4YjE4YWM4KTsKICAgICAgICAgICAgCgogICAgICAgICAgICBjaXJjbGVfbWFya2VyX2NiYTllM2I1ZTE3ZjRiODY5YTIzZWI5ZjlkYjQzOGQ4LmJpbmRQb3B1cChwb3B1cF83NzQ3NzNjZTNiN2I0M2VjYThmODZhOTYwZDlkMTFkNykKICAgICAgICAgICAgOwoKICAgICAgICAgICAgCiAgICAgICAgCiAgICAKICAgICAgICAgICAgdmFyIGNpcmNsZV9tYXJrZXJfOTQyZjc3N2RjNmNiNDE5NGIyMGI0M2JmN2IxNjY2ZWYgPSBMLmNpcmNsZU1hcmtlcigKICAgICAgICAgICAgICAgIFs0MC40MTUxNzY4ODAwNjQ5MDUsIC0zLjcwOTI1OTMzNDUxMzAyNDNdLAogICAgICAgICAgICAgICAgewogICJidWJibGluZ01vdXNlRXZlbnRzIjogdHJ1ZSwKICAiY29sb3IiOiAiYmx1ZSIsCiAgImRhc2hBcnJheSI6IG51bGwsCiAgImRhc2hPZmZzZXQiOiBudWxsLAogICJmaWxsIjogdHJ1ZSwKICAiZmlsbENvbG9yIjogImJsdWUiLAogICJmaWxsT3BhY2l0eSI6IDAuNiwKICAiZmlsbFJ1bGUiOiAiZXZlbm9kZCIsCiAgImxpbmVDYXAiOiAicm91bmQiLAogICJsaW5lSm9pbiI6ICJyb3VuZCIsCiAgIm9wYWNpdHkiOiAxLjAsCiAgInJhZGl1cyI6IDUsCiAgInN0cm9rZSI6IHRydWUsCiAgIndlaWdodCI6IDMKfQogICAgICAgICAgICAgICAgKQogICAgICAgICAgICAgICAgLmFkZFRvKG1hcF9iNTQ5YmNmNTE0OTY0YTBhODgwOWFhZTg0OGYxZGFlNSk7CiAgICAgICAgICAgIAogICAgCiAgICAgICAgICAgIHZhciBwb3B1cF8xMDhkZWFhOTQ4MDk0MmE3YjExYzQ1NTVmNTQ2YzcyYiA9IEwucG9wdXAoe21heFdpZHRoOiAnMTAwJScKICAgICAgICAgICAgCiAgICAgICAgICAgIH0pOwoKICAgICAgICAgICAgCiAgICAgICAgICAgICAgICB2YXIgaHRtbF9kMWM2MDMyNTI4ZTk0YjMwYmRhODYwNTBiZWRiMWVlYiA9ICQoYDxkaXYgaWQ9Imh0bWxfZDFjNjAzMjUyOGU5NGIzMGJkYTg2MDUwYmVkYjFlZWIiIHN0eWxlPSJ3aWR0aDogMTAwLjAlOyBoZWlnaHQ6IDEwMC4wJTsiPlNwYW5pc2ggUmVzdGF1cmFudDwvZGl2PmApWzBdOwogICAgICAgICAgICAgICAgcG9wdXBfMTA4ZGVhYTk0ODA5NDJhN2IxMWM0NTU1ZjU0NmM3MmIuc2V0Q29udGVudChodG1sX2QxYzYwMzI1MjhlOTRiMzBiZGE4NjA1MGJlZGIxZWViKTsKICAgICAgICAgICAgCgogICAgICAgICAgICBjaXJjbGVfbWFya2VyXzk0MmY3NzdkYzZjYjQxOTRiMjBiNDNiZjdiMTY2NmVmLmJpbmRQb3B1cChwb3B1cF8xMDhkZWFhOTQ4MDk0MmE3YjExYzQ1NTVmNTQ2YzcyYikKICAgICAgICAgICAgOwoKICAgICAgICAgICAgCiAgICAgICAgCiAgICAKICAgICAgICAgICAgdmFyIGNpcmNsZV9tYXJrZXJfYmU4ZGE2ZjA2MzE0NGMyOTljOTk5Y2Y3ODI0ZWYwOWUgPSBMLmNpcmNsZU1hcmtlcigKICAgICAgICAgICAgICAgIFs0MC40MTM4MzE1NTExNzMzLCAtMy43MDgwNjQ5ODYxNjYyMTQ3XSwKICAgICAgICAgICAgICAgIHsKICAiYnViYmxpbmdNb3VzZUV2ZW50cyI6IHRydWUsCiAgImNvbG9yIjogImJsdWUiLAogICJkYXNoQXJyYXkiOiBudWxsLAogICJkYXNoT2Zmc2V0IjogbnVsbCwKICAiZmlsbCI6IHRydWUsCiAgImZpbGxDb2xvciI6ICJibHVlIiwKICAiZmlsbE9wYWNpdHkiOiAwLjYsCiAgImZpbGxSdWxlIjogImV2ZW5vZGQiLAogICJsaW5lQ2FwIjogInJvdW5kIiwKICAibGluZUpvaW4iOiAicm91bmQiLAogICJvcGFjaXR5IjogMS4wLAogICJyYWRpdXMiOiA1LAogICJzdHJva2UiOiB0cnVlLAogICJ3ZWlnaHQiOiAzCn0KICAgICAgICAgICAgICAgICkKICAgICAgICAgICAgICAgIC5hZGRUbyhtYXBfYjU0OWJjZjUxNDk2NGEwYTg4MDlhYWU4NDhmMWRhZTUpOwogICAgICAgICAgICAKICAgIAogICAgICAgICAgICB2YXIgcG9wdXBfYzQ5NWJjOGRiMmYxNGE3ODhlNTIyYTM3MjMwNWVkNzQgPSBMLnBvcHVwKHttYXhXaWR0aDogJzEwMCUnCiAgICAgICAgICAgIAogICAgICAgICAgICB9KTsKCiAgICAgICAgICAgIAogICAgICAgICAgICAgICAgdmFyIGh0bWxfMTI0NDMyOGExMDQwNDFhYzhiNzJkZTA3ZGY0YTM0ODUgPSAkKGA8ZGl2IGlkPSJodG1sXzEyNDQzMjhhMTA0MDQxYWM4YjcyZGUwN2RmNGEzNDg1IiBzdHlsZT0id2lkdGg6IDEwMC4wJTsgaGVpZ2h0OiAxMDAuMCU7Ij5TcGFuaXNoIFJlc3RhdXJhbnQ8L2Rpdj5gKVswXTsKICAgICAgICAgICAgICAgIHBvcHVwX2M0OTViYzhkYjJmMTRhNzg4ZTUyMmEzNzIzMDVlZDc0LnNldENvbnRlbnQoaHRtbF8xMjQ0MzI4YTEwNDA0MWFjOGI3MmRlMDdkZjRhMzQ4NSk7CiAgICAgICAgICAgIAoKICAgICAgICAgICAgY2lyY2xlX21hcmtlcl9iZThkYTZmMDYzMTQ0YzI5OWM5OTljZjc4MjRlZjA5ZS5iaW5kUG9wdXAocG9wdXBfYzQ5NWJjOGRiMmYxNGE3ODhlNTIyYTM3MjMwNWVkNzQpCiAgICAgICAgICAgIDsKCiAgICAgICAgICAgIAogICAgICAgIAogICAgCiAgICAgICAgICAgIHZhciBjaXJjbGVfbWFya2VyXzBiZjFiMGY5ZjU4MzQxOTFhMDE1NzZkYmYwMGU4ZTUwID0gTC5jaXJjbGVNYXJrZXIoCiAgICAgICAgICAgICAgICBbNDAuNDEyMjk4NDg3OTAyNzQsIC0zLjcwOTQ4MzI1MTIzMTUyOTRdLAogICAgICAgICAgICAgICAgewogICJidWJibGluZ01vdXNlRXZlbnRzIjogdHJ1ZSwKICAiY29sb3IiOiAiYmx1ZSIsCiAgImRhc2hBcnJheSI6IG51bGwsCiAgImRhc2hPZmZzZXQiOiBudWxsLAogICJmaWxsIjogdHJ1ZSwKICAiZmlsbENvbG9yIjogImJsdWUiLAogICJmaWxsT3BhY2l0eSI6IDAuNiwKICAiZmlsbFJ1bGUiOiAiZXZlbm9kZCIsCiAgImxpbmVDYXAiOiAicm91bmQiLAogICJsaW5lSm9pbiI6ICJyb3VuZCIsCiAgIm9wYWNpdHkiOiAxLjAsCiAgInJhZGl1cyI6IDUsCiAgInN0cm9rZSI6IHRydWUsCiAgIndlaWdodCI6IDMKfQogICAgICAgICAgICAgICAgKQogICAgICAgICAgICAgICAgLmFkZFRvKG1hcF9iNTQ5YmNmNTE0OTY0YTBhODgwOWFhZTg0OGYxZGFlNSk7CiAgICAgICAgICAgIAogICAgCiAgICAgICAgICAgIHZhciBwb3B1cF9kMDFmNGIyOWU4OWY0ZDkwODE4MTZhZDBhYWIwMjQ0MyA9IEwucG9wdXAoe21heFdpZHRoOiAnMTAwJScKICAgICAgICAgICAgCiAgICAgICAgICAgIH0pOwoKICAgICAgICAgICAgCiAgICAgICAgICAgICAgICB2YXIgaHRtbF81ZTFmMzNkNDU1N2I0NDBjYWUxYjg1Y2JlYjE0NTY1MyA9ICQoYDxkaXYgaWQ9Imh0bWxfNWUxZjMzZDQ1NTdiNDQwY2FlMWI4NWNiZWIxNDU2NTMiIHN0eWxlPSJ3aWR0aDogMTAwLjAlOyBoZWlnaHQ6IDEwMC4wJTsiPlRhcGFzIFJlc3RhdXJhbnQ8L2Rpdj5gKVswXTsKICAgICAgICAgICAgICAgIHBvcHVwX2QwMWY0YjI5ZTg5ZjRkOTA4MTgxNmFkMGFhYjAyNDQzLnNldENvbnRlbnQoaHRtbF81ZTFmMzNkNDU1N2I0NDBjYWUxYjg1Y2JlYjE0NTY1Myk7CiAgICAgICAgICAgIAoKICAgICAgICAgICAgY2lyY2xlX21hcmtlcl8wYmYxYjBmOWY1ODM0MTkxYTAxNTc2ZGJmMDBlOGU1MC5iaW5kUG9wdXAocG9wdXBfZDAxZjRiMjllODlmNGQ5MDgxODE2YWQwYWFiMDI0NDMpCiAgICAgICAgICAgIDsKCiAgICAgICAgICAgIAogICAgICAgIAogICAgCiAgICAgICAgICAgIHZhciBjaXJjbGVfbWFya2VyXzU2NDM2ZDQ1YTA1ZjQzYTg4YTA4YTJiZGRiYTkxN2FmID0gTC5jaXJjbGVNYXJrZXIoCiAgICAgICAgICAgICAgICBbNDAuNDEyOTM4MjE4Mjk4MzEsIC0zLjcwODA0Nzc5MzY4MzE1NV0sCiAgICAgICAgICAgICAgICB7CiAgImJ1YmJsaW5nTW91c2VFdmVudHMiOiB0cnVlLAogICJjb2xvciI6ICJibHVlIiwKICAiZGFzaEFycmF5IjogbnVsbCwKICAiZGFzaE9mZnNldCI6IG51bGwsCiAgImZpbGwiOiB0cnVlLAogICJmaWxsQ29sb3IiOiAiYmx1ZSIsCiAgImZpbGxPcGFjaXR5IjogMC42LAogICJmaWxsUnVsZSI6ICJldmVub2RkIiwKICAibGluZUNhcCI6ICJyb3VuZCIsCiAgImxpbmVKb2luIjogInJvdW5kIiwKICAib3BhY2l0eSI6IDEuMCwKICAicmFkaXVzIjogNSwKICAic3Ryb2tlIjogdHJ1ZSwKICAid2VpZ2h0IjogMwp9CiAgICAgICAgICAgICAgICApCiAgICAgICAgICAgICAgICAuYWRkVG8obWFwX2I1NDliY2Y1MTQ5NjRhMGE4ODA5YWFlODQ4ZjFkYWU1KTsKICAgICAgICAgICAgCiAgICAKICAgICAgICAgICAgdmFyIHBvcHVwX2QzYWRhNTM5MWZmYjRlMDI5Y2U2OTJmYmVkYWFiM2RmID0gTC5wb3B1cCh7bWF4V2lkdGg6ICcxMDAlJwogICAgICAgICAgICAKICAgICAgICAgICAgfSk7CgogICAgICAgICAgICAKICAgICAgICAgICAgICAgIHZhciBodG1sXzExNTVlOGQyZjBlZTRkOTA4NGRmNGQ1OTk0OGYyNDEzID0gJChgPGRpdiBpZD0iaHRtbF8xMTU1ZThkMmYwZWU0ZDkwODRkZjRkNTk5NDhmMjQxMyIgc3R5bGU9IndpZHRoOiAxMDAuMCU7IGhlaWdodDogMTAwLjAlOyI+QmFyPC9kaXY+YClbMF07CiAgICAgICAgICAgICAgICBwb3B1cF9kM2FkYTUzOTFmZmI0ZTAyOWNlNjkyZmJlZGFhYjNkZi5zZXRDb250ZW50KGh0bWxfMTE1NWU4ZDJmMGVlNGQ5MDg0ZGY0ZDU5OTQ4ZjI0MTMpOwogICAgICAgICAgICAKCiAgICAgICAgICAgIGNpcmNsZV9tYXJrZXJfNTY0MzZkNDVhMDVmNDNhODhhMDhhMmJkZGJhOTE3YWYuYmluZFBvcHVwKHBvcHVwX2QzYWRhNTM5MWZmYjRlMDI5Y2U2OTJmYmVkYWFiM2RmKQogICAgICAgICAgICA7CgogICAgICAgICAgICAKICAgICAgICAKICAgIAogICAgICAgICAgICB2YXIgY2lyY2xlX21hcmtlcl9lMDVjYzFlNWQ0N2Y0MzZmOTY3NDRiYTc4ZDA1OTU4NyA9IEwuY2lyY2xlTWFya2VyKAogICAgICAgICAgICAgICAgWzQwLjQxNjA2NTQ0ODUzOTkzLCAtMy43MDgzODI3OTYyMDY0ODc3XSwKICAgICAgICAgICAgICAgIHsKICAiYnViYmxpbmdNb3VzZUV2ZW50cyI6IHRydWUsCiAgImNvbG9yIjogImJsdWUiLAogICJkYXNoQXJyYXkiOiBudWxsLAogICJkYXNoT2Zmc2V0IjogbnVsbCwKICAiZmlsbCI6IHRydWUsCiAgImZpbGxDb2xvciI6ICJibHVlIiwKICAiZmlsbE9wYWNpdHkiOiAwLjYsCiAgImZpbGxSdWxlIjogImV2ZW5vZGQiLAogICJsaW5lQ2FwIjogInJvdW5kIiwKICAibGluZUpvaW4iOiAicm91bmQiLAogICJvcGFjaXR5IjogMS4wLAogICJyYWRpdXMiOiA1LAogICJzdHJva2UiOiB0cnVlLAogICJ3ZWlnaHQiOiAzCn0KICAgICAgICAgICAgICAgICkKICAgICAgICAgICAgICAgIC5hZGRUbyhtYXBfYjU0OWJjZjUxNDk2NGEwYTg4MDlhYWU4NDhmMWRhZTUpOwogICAgICAgICAgICAKICAgIAogICAgICAgICAgICB2YXIgcG9wdXBfZjk5NGYxYzIzYTJkNDQ0ZDhjMmQ3MWM4ZGE4NmI3MGEgPSBMLnBvcHVwKHttYXhXaWR0aDogJzEwMCUnCiAgICAgICAgICAgIAogICAgICAgICAgICB9KTsKCiAgICAgICAgICAgIAogICAgICAgICAgICAgICAgdmFyIGh0bWxfMGFjZjQzZmNhMWIzNDc3ZjhiYTVhNWFlZDk0ZDZmMmIgPSAkKGA8ZGl2IGlkPSJodG1sXzBhY2Y0M2ZjYTFiMzQ3N2Y4YmE1YTVhZWQ5NGQ2ZjJiIiBzdHlsZT0id2lkdGg6IDEwMC4wJTsgaGVpZ2h0OiAxMDAuMCU7Ij5JY2UgQ3JlYW0gU2hvcDwvZGl2PmApWzBdOwogICAgICAgICAgICAgICAgcG9wdXBfZjk5NGYxYzIzYTJkNDQ0ZDhjMmQ3MWM4ZGE4NmI3MGEuc2V0Q29udGVudChodG1sXzBhY2Y0M2ZjYTFiMzQ3N2Y4YmE1YTVhZWQ5NGQ2ZjJiKTsKICAgICAgICAgICAgCgogICAgICAgICAgICBjaXJjbGVfbWFya2VyX2UwNWNjMWU1ZDQ3ZjQzNmY5Njc0NGJhNzhkMDU5NTg3LmJpbmRQb3B1cChwb3B1cF9mOTk0ZjFjMjNhMmQ0NDRkOGMyZDcxYzhkYTg2YjcwYSkKICAgICAgICAgICAgOwoKICAgICAgICAgICAgCiAgICAgICAgCiAgICAKICAgICAgICAgICAgdmFyIGNpcmNsZV9tYXJrZXJfYzY4NGViZjZkMmIzNGIzNzlhOWZlNGZmY2FiNjI3MjcgPSBMLmNpcmNsZU1hcmtlcigKICAgICAgICAgICAgICAgIFs0MC40MTE2ODEyMTk3OTgxOSwgLTMuNzA4MDk0MzY3MDk1MjUwNl0sCiAgICAgICAgICAgICAgICB7CiAgImJ1YmJsaW5nTW91c2VFdmVudHMiOiB0cnVlLAogICJjb2xvciI6ICJibHVlIiwKICAiZGFzaEFycmF5IjogbnVsbCwKICAiZGFzaE9mZnNldCI6IG51bGwsCiAgImZpbGwiOiB0cnVlLAogICJmaWxsQ29sb3IiOiAiYmx1ZSIsCiAgImZpbGxPcGFjaXR5IjogMC42LAogICJmaWxsUnVsZSI6ICJldmVub2RkIiwKICAibGluZUNhcCI6ICJyb3VuZCIsCiAgImxpbmVKb2luIjogInJvdW5kIiwKICAib3BhY2l0eSI6IDEuMCwKICAicmFkaXVzIjogNSwKICAic3Ryb2tlIjogdHJ1ZSwKICAid2VpZ2h0IjogMwp9CiAgICAgICAgICAgICAgICApCiAgICAgICAgICAgICAgICAuYWRkVG8obWFwX2I1NDliY2Y1MTQ5NjRhMGE4ODA5YWFlODQ4ZjFkYWU1KTsKICAgICAgICAgICAgCiAgICAKICAgICAgICAgICAgdmFyIHBvcHVwX2FhZGU0MzE0N2ZiMzQ0NzFiNjExYzE0MDQ5ODA3NTE4ID0gTC5wb3B1cCh7bWF4V2lkdGg6ICcxMDAlJwogICAgICAgICAgICAKICAgICAgICAgICAgfSk7CgogICAgICAgICAgICAKICAgICAgICAgICAgICAgIHZhciBodG1sXzEwYTkxMDgxZTI0MjQ5ZDliZjY1YzJhMzNiM2M2ZmEyID0gJChgPGRpdiBpZD0iaHRtbF8xMGE5MTA4MWUyNDI0OWQ5YmY2NWMyYTMzYjNjNmZhMiIgc3R5bGU9IndpZHRoOiAxMDAuMCU7IGhlaWdodDogMTAwLjAlOyI+Q2FuZHkgU3RvcmU8L2Rpdj5gKVswXTsKICAgICAgICAgICAgICAgIHBvcHVwX2FhZGU0MzE0N2ZiMzQ0NzFiNjExYzE0MDQ5ODA3NTE4LnNldENvbnRlbnQoaHRtbF8xMGE5MTA4MWUyNDI0OWQ5YmY2NWMyYTMzYjNjNmZhMik7CiAgICAgICAgICAgIAoKICAgICAgICAgICAgY2lyY2xlX21hcmtlcl9jNjg0ZWJmNmQyYjM0YjM3OWE5ZmU0ZmZjYWI2MjcyNy5iaW5kUG9wdXAocG9wdXBfYWFkZTQzMTQ3ZmIzNDQ3MWI2MTFjMTQwNDk4MDc1MTgpCiAgICAgICAgICAgIDsKCiAgICAgICAgICAgIAogICAgICAgIAo8L3NjcmlwdD4=\" style=\"position:absolute;width:100%;height:100%;left:0;top:0;border:none !important;\" allowfullscreen webkitallowfullscreen mozallowfullscreen></iframe></div></div>"
      ],
      "text/plain": [
       "<folium.folium.Map at 0x5b52ef0>"
      ]
     },
     "execution_count": 104,
     "metadata": {},
     "output_type": "execute_result"
    }
   ],
   "source": [
    "venues_map = folium.Map(location=[latitude, longitude], zoom_start=15) # generate map centred around Ecco\n",
    "\n",
    "\n",
    "# add Ecco as a red circle mark\n",
    "folium.CircleMarker(\n",
    "    [latitude, longitude],\n",
    "    radius=10,\n",
    "    popup='Ecco',\n",
    "    fill=True,\n",
    "    color='red',\n",
    "    fill_color='red',\n",
    "    fill_opacity=0.6\n",
    "    ).add_to(venues_map)\n",
    "\n",
    "\n",
    "# add popular spots to the map as blue circle markers\n",
    "for lat, lng, label in zip(dataframe_filtered.lat, dataframe_filtered.lng, dataframe_filtered.categories):\n",
    "    folium.CircleMarker(\n",
    "        [lat, lng],\n",
    "        radius=5,\n",
    "        popup=label,\n",
    "        fill=True,\n",
    "        color='blue',\n",
    "        fill_color='blue',\n",
    "        fill_opacity=0.6\n",
    "        ).add_to(venues_map)\n",
    "\n",
    "# display map\n",
    "venues_map"
   ]
  },
  {
   "cell_type": "markdown",
   "metadata": {},
   "source": [
    "## 5. Explore Trending Venues\n",
    "> `https://api.foursquare.com/v2/venues/`**trending**`?client_id=`**CLIENT_ID**`&client_secret=`**CLIENT_SECRET**`&ll=`**LATITUDE**`,`**LONGITUDE**`&v=`**VERSION**"
   ]
  },
  {
   "cell_type": "markdown",
   "metadata": {},
   "source": [
    "#### Now, instead of simply exploring the area around 4D Caffetteria Italiana, you are interested in knowing the venues that are trending at the time you are done with your lunch, meaning the places with the highest foot traffic. So let's do that and get the trending venues around 4D Caffetteria Italiana."
   ]
  },
  {
   "cell_type": "code",
   "execution_count": 105,
   "metadata": {},
   "outputs": [
    {
     "data": {
      "text/plain": [
       "{'meta': {'code': 200, 'requestId': '5cb355674c1f67269a317417'},\n",
       " 'response': {'venues': []}}"
      ]
     },
     "execution_count": 105,
     "metadata": {},
     "output_type": "execute_result"
    }
   ],
   "source": [
    "# define URL\n",
    "url = 'https://api.foursquare.com/v2/venues/trending?client_id={}&client_secret={}&ll={},{}&v={}'.format(CLIENT_ID, CLIENT_SECRET, latitude, longitude, VERSION)\n",
    "\n",
    "# send GET request and get trending venues\n",
    "results = requests.get(url).json()\n",
    "results"
   ]
  },
  {
   "cell_type": "markdown",
   "metadata": {},
   "source": [
    "### Check if any venues are trending at this time"
   ]
  },
  {
   "cell_type": "code",
   "execution_count": 106,
   "metadata": {},
   "outputs": [],
   "source": [
    "if len(results['response']['venues']) == 0:\n",
    "    trending_venues_df = 'No trending venues are available at the moment!'\n",
    "    \n",
    "else:\n",
    "    trending_venues = results['response']['venues']\n",
    "    trending_venues_df = json_normalize(trending_venues)\n",
    "\n",
    "    # filter columns\n",
    "    columns_filtered = ['name', 'categories'] + ['location.distance', 'location.city', 'location.postalCode', 'location.state', 'location.country', 'location.lat', 'location.lng']\n",
    "    trending_venues_df = trending_venues_df.loc[:, columns_filtered]\n",
    "\n",
    "    # filter the category for each row\n",
    "    trending_venues_df['categories'] = trending_venues_df.apply(get_category_type, axis=1)"
   ]
  },
  {
   "cell_type": "code",
   "execution_count": 107,
   "metadata": {},
   "outputs": [
    {
     "data": {
      "text/plain": [
       "'No trending venues are available at the moment!'"
      ]
     },
     "execution_count": 107,
     "metadata": {},
     "output_type": "execute_result"
    }
   ],
   "source": [
    "# display trending venues\n",
    "trending_venues_df"
   ]
  },
  {
   "cell_type": "markdown",
   "metadata": {},
   "source": [
    "### Visualize trending venues"
   ]
  },
  {
   "cell_type": "code",
   "execution_count": 108,
   "metadata": {},
   "outputs": [],
   "source": [
    "if len(results['response']['venues']) == 0:\n",
    "    venues_map = 'Cannot generate visual as no trending venues are available at the moment!'\n",
    "\n",
    "else:\n",
    "    venues_map = folium.Map(location=[latitude, longitude], zoom_start=15) # generate map centred around Ecco\n",
    "\n",
    "\n",
    "    # add Ecco as a red circle mark\n",
    "    folium.features.CircleMarker(\n",
    "        [latitude, longitude],\n",
    "        radius=10,\n",
    "        popup='Ecco',\n",
    "        fill=True,\n",
    "        color='red',\n",
    "        fill_color='red',\n",
    "        fill_opacity=0.6\n",
    "    ).add_to(venues_map)\n",
    "\n",
    "\n",
    "    # add the trending venues as blue circle markers\n",
    "    for lat, lng, label in zip(trending_venues_df['location.lat'], trending_venues_df['location.lng'], trending_venues_df['name']):\n",
    "        folium.features.CircleMarker(\n",
    "            [lat, lng],\n",
    "            radius=5,\n",
    "            poup=label,\n",
    "            fill=True,\n",
    "            color='blue',\n",
    "            fill_color='blue',\n",
    "            fill_opacity=0.6\n",
    "        ).add_to(venues_map)"
   ]
  },
  {
   "cell_type": "code",
   "execution_count": 109,
   "metadata": {},
   "outputs": [
    {
     "data": {
      "text/plain": [
       "'Cannot generate visual as no trending venues are available at the moment!'"
      ]
     },
     "execution_count": 109,
     "metadata": {},
     "output_type": "execute_result"
    }
   ],
   "source": [
    "# display map\n",
    "venues_map"
   ]
  },
  {
   "cell_type": "code",
   "execution_count": null,
   "metadata": {},
   "outputs": [],
   "source": []
  }
 ],
 "metadata": {
  "kernelspec": {
   "display_name": "Python 3",
   "language": "python",
   "name": "python3"
  },
  "language_info": {
   "codemirror_mode": {
    "name": "ipython",
    "version": 3
   },
   "file_extension": ".py",
   "mimetype": "text/x-python",
   "name": "python",
   "nbconvert_exporter": "python",
   "pygments_lexer": "ipython3",
   "version": "3.7.0"
  }
 },
 "nbformat": 4,
 "nbformat_minor": 2
}
